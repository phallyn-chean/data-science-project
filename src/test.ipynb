{
 "cells": [
  {
   "cell_type": "code",
   "execution_count": 25,
   "metadata": {},
   "outputs": [],
   "source": [
    "#a. Performing exploratory analysis on the data to understand the patterns"
   ]
  },
  {
   "cell_type": "code",
   "execution_count": 26,
   "metadata": {},
   "outputs": [
    {
     "data": {
      "text/html": [
       "<div>\n",
       "<style scoped>\n",
       "    .dataframe tbody tr th:only-of-type {\n",
       "        vertical-align: middle;\n",
       "    }\n",
       "\n",
       "    .dataframe tbody tr th {\n",
       "        vertical-align: top;\n",
       "    }\n",
       "\n",
       "    .dataframe thead th {\n",
       "        text-align: right;\n",
       "    }\n",
       "</style>\n",
       "<table border=\"1\" class=\"dataframe\">\n",
       "  <thead>\n",
       "    <tr style=\"text-align: right;\">\n",
       "      <th></th>\n",
       "      <th>Product ID</th>\n",
       "      <th>Category</th>\n",
       "      <th>Subcategory1</th>\n",
       "      <th>SubCategory2</th>\n",
       "      <th>Location</th>\n",
       "      <th>Channel</th>\n",
       "      <th>Customer Age</th>\n",
       "      <th>Review Title</th>\n",
       "      <th>Review Text</th>\n",
       "      <th>Rating</th>\n",
       "      <th>Recommend Flag</th>\n",
       "    </tr>\n",
       "  </thead>\n",
       "  <tbody>\n",
       "    <tr>\n",
       "      <th>0</th>\n",
       "      <td>767</td>\n",
       "      <td>Initmates</td>\n",
       "      <td>Intimate</td>\n",
       "      <td>Intimates</td>\n",
       "      <td>Mumbai</td>\n",
       "      <td>Mobile</td>\n",
       "      <td>33</td>\n",
       "      <td>NaN</td>\n",
       "      <td>Absolutely wonderful - silky and sexy and comf...</td>\n",
       "      <td>4</td>\n",
       "      <td>1</td>\n",
       "    </tr>\n",
       "    <tr>\n",
       "      <th>1</th>\n",
       "      <td>1080</td>\n",
       "      <td>General</td>\n",
       "      <td>Dresses</td>\n",
       "      <td>Dresses</td>\n",
       "      <td>Bangalore</td>\n",
       "      <td>Mobile</td>\n",
       "      <td>34</td>\n",
       "      <td>NaN</td>\n",
       "      <td>Love this dress!  it's sooo pretty.  i happene...</td>\n",
       "      <td>5</td>\n",
       "      <td>1</td>\n",
       "    </tr>\n",
       "    <tr>\n",
       "      <th>2</th>\n",
       "      <td>1077</td>\n",
       "      <td>General</td>\n",
       "      <td>Dresses</td>\n",
       "      <td>Dresses</td>\n",
       "      <td>Gurgaon</td>\n",
       "      <td>Mobile</td>\n",
       "      <td>60</td>\n",
       "      <td>Some major design flaws</td>\n",
       "      <td>I had such high hopes for this dress and reall...</td>\n",
       "      <td>3</td>\n",
       "      <td>0</td>\n",
       "    </tr>\n",
       "    <tr>\n",
       "      <th>3</th>\n",
       "      <td>1049</td>\n",
       "      <td>General Petite</td>\n",
       "      <td>Bottoms</td>\n",
       "      <td>Pants</td>\n",
       "      <td>Chennai</td>\n",
       "      <td>Web</td>\n",
       "      <td>50</td>\n",
       "      <td>My favorite buy!</td>\n",
       "      <td>I love, love, love this jumpsuit. it's fun, fl...</td>\n",
       "      <td>5</td>\n",
       "      <td>1</td>\n",
       "    </tr>\n",
       "    <tr>\n",
       "      <th>4</th>\n",
       "      <td>847</td>\n",
       "      <td>General</td>\n",
       "      <td>Tops</td>\n",
       "      <td>Blouses</td>\n",
       "      <td>Bangalore</td>\n",
       "      <td>Web</td>\n",
       "      <td>47</td>\n",
       "      <td>Flattering shirt</td>\n",
       "      <td>This shirt is very flattering to all due to th...</td>\n",
       "      <td>5</td>\n",
       "      <td>1</td>\n",
       "    </tr>\n",
       "    <tr>\n",
       "      <th>...</th>\n",
       "      <td>...</td>\n",
       "      <td>...</td>\n",
       "      <td>...</td>\n",
       "      <td>...</td>\n",
       "      <td>...</td>\n",
       "      <td>...</td>\n",
       "      <td>...</td>\n",
       "      <td>...</td>\n",
       "      <td>...</td>\n",
       "      <td>...</td>\n",
       "      <td>...</td>\n",
       "    </tr>\n",
       "    <tr>\n",
       "      <th>23481</th>\n",
       "      <td>1104</td>\n",
       "      <td>General Petite</td>\n",
       "      <td>Dresses</td>\n",
       "      <td>Dresses</td>\n",
       "      <td>Gurgaon</td>\n",
       "      <td>Mobile</td>\n",
       "      <td>34</td>\n",
       "      <td>Great dress for many occasions</td>\n",
       "      <td>I was very happy to snag this dress at such a ...</td>\n",
       "      <td>5</td>\n",
       "      <td>1</td>\n",
       "    </tr>\n",
       "    <tr>\n",
       "      <th>23482</th>\n",
       "      <td>862</td>\n",
       "      <td>General Petite</td>\n",
       "      <td>Tops</td>\n",
       "      <td>Knits</td>\n",
       "      <td>Gurgaon</td>\n",
       "      <td>Web</td>\n",
       "      <td>48</td>\n",
       "      <td>Wish it was made of cotton</td>\n",
       "      <td>It reminds me of maternity clothes. soft, stre...</td>\n",
       "      <td>3</td>\n",
       "      <td>1</td>\n",
       "    </tr>\n",
       "    <tr>\n",
       "      <th>23483</th>\n",
       "      <td>1104</td>\n",
       "      <td>General Petite</td>\n",
       "      <td>Dresses</td>\n",
       "      <td>Dresses</td>\n",
       "      <td>Gurgaon</td>\n",
       "      <td>Web</td>\n",
       "      <td>31</td>\n",
       "      <td>Cute, but see through</td>\n",
       "      <td>This fit well, but the top was very see throug...</td>\n",
       "      <td>3</td>\n",
       "      <td>0</td>\n",
       "    </tr>\n",
       "    <tr>\n",
       "      <th>23484</th>\n",
       "      <td>1084</td>\n",
       "      <td>General</td>\n",
       "      <td>Dresses</td>\n",
       "      <td>Dresses</td>\n",
       "      <td>Gurgaon</td>\n",
       "      <td>Web</td>\n",
       "      <td>28</td>\n",
       "      <td>Very cute dress, perfect for summer parties an...</td>\n",
       "      <td>I bought this dress for a wedding i have this ...</td>\n",
       "      <td>3</td>\n",
       "      <td>1</td>\n",
       "    </tr>\n",
       "    <tr>\n",
       "      <th>23485</th>\n",
       "      <td>1104</td>\n",
       "      <td>General Petite</td>\n",
       "      <td>Dresses</td>\n",
       "      <td>Dresses</td>\n",
       "      <td>Chennai</td>\n",
       "      <td>Mobile</td>\n",
       "      <td>52</td>\n",
       "      <td>Please make more like this one!</td>\n",
       "      <td>This dress in a lovely platinum is feminine an...</td>\n",
       "      <td>5</td>\n",
       "      <td>1</td>\n",
       "    </tr>\n",
       "  </tbody>\n",
       "</table>\n",
       "<p>23486 rows × 11 columns</p>\n",
       "</div>"
      ],
      "text/plain": [
       "       Product ID        Category Subcategory1 SubCategory2   Location  \\\n",
       "0             767       Initmates     Intimate    Intimates     Mumbai   \n",
       "1            1080         General      Dresses      Dresses  Bangalore   \n",
       "2            1077         General      Dresses      Dresses    Gurgaon   \n",
       "3            1049  General Petite      Bottoms        Pants    Chennai   \n",
       "4             847         General         Tops      Blouses  Bangalore   \n",
       "...           ...             ...          ...          ...        ...   \n",
       "23481        1104  General Petite      Dresses      Dresses    Gurgaon   \n",
       "23482         862  General Petite         Tops        Knits    Gurgaon   \n",
       "23483        1104  General Petite      Dresses      Dresses    Gurgaon   \n",
       "23484        1084         General      Dresses      Dresses    Gurgaon   \n",
       "23485        1104  General Petite      Dresses      Dresses    Chennai   \n",
       "\n",
       "      Channel  Customer Age  \\\n",
       "0      Mobile            33   \n",
       "1      Mobile            34   \n",
       "2      Mobile            60   \n",
       "3         Web            50   \n",
       "4         Web            47   \n",
       "...       ...           ...   \n",
       "23481  Mobile            34   \n",
       "23482     Web            48   \n",
       "23483     Web            31   \n",
       "23484     Web            28   \n",
       "23485  Mobile            52   \n",
       "\n",
       "                                            Review Title  \\\n",
       "0                                                    NaN   \n",
       "1                                                    NaN   \n",
       "2                                Some major design flaws   \n",
       "3                                       My favorite buy!   \n",
       "4                                       Flattering shirt   \n",
       "...                                                  ...   \n",
       "23481                     Great dress for many occasions   \n",
       "23482                         Wish it was made of cotton   \n",
       "23483                              Cute, but see through   \n",
       "23484  Very cute dress, perfect for summer parties an...   \n",
       "23485                    Please make more like this one!   \n",
       "\n",
       "                                             Review Text  Rating  \\\n",
       "0      Absolutely wonderful - silky and sexy and comf...       4   \n",
       "1      Love this dress!  it's sooo pretty.  i happene...       5   \n",
       "2      I had such high hopes for this dress and reall...       3   \n",
       "3      I love, love, love this jumpsuit. it's fun, fl...       5   \n",
       "4      This shirt is very flattering to all due to th...       5   \n",
       "...                                                  ...     ...   \n",
       "23481  I was very happy to snag this dress at such a ...       5   \n",
       "23482  It reminds me of maternity clothes. soft, stre...       3   \n",
       "23483  This fit well, but the top was very see throug...       3   \n",
       "23484  I bought this dress for a wedding i have this ...       3   \n",
       "23485  This dress in a lovely platinum is feminine an...       5   \n",
       "\n",
       "       Recommend Flag  \n",
       "0                   1  \n",
       "1                   1  \n",
       "2                   0  \n",
       "3                   1  \n",
       "4                   1  \n",
       "...               ...  \n",
       "23481               1  \n",
       "23482               1  \n",
       "23483               0  \n",
       "23484               1  \n",
       "23485               1  \n",
       "\n",
       "[23486 rows x 11 columns]"
      ]
     },
     "execution_count": 26,
     "metadata": {},
     "output_type": "execute_result"
    }
   ],
   "source": [
    "import pandas as pd\n",
    "# data = constant_data.DataConstant\n",
    "\n",
    "dataset = pd.read_excel(\"../Data/Womens Clothing Reviews Data.xlsx\")\n",
    "dataset"
   ]
  },
  {
   "cell_type": "code",
   "execution_count": 27,
   "metadata": {},
   "outputs": [
    {
     "data": {
      "text/plain": [
       "(23486, 11)"
      ]
     },
     "execution_count": 27,
     "metadata": {},
     "output_type": "execute_result"
    }
   ],
   "source": [
    "dataset.shape"
   ]
  },
  {
   "cell_type": "code",
   "execution_count": 28,
   "metadata": {},
   "outputs": [
    {
     "data": {
      "text/html": [
       "<div>\n",
       "<style scoped>\n",
       "    .dataframe tbody tr th:only-of-type {\n",
       "        vertical-align: middle;\n",
       "    }\n",
       "\n",
       "    .dataframe tbody tr th {\n",
       "        vertical-align: top;\n",
       "    }\n",
       "\n",
       "    .dataframe thead th {\n",
       "        text-align: right;\n",
       "    }\n",
       "</style>\n",
       "<table border=\"1\" class=\"dataframe\">\n",
       "  <thead>\n",
       "    <tr style=\"text-align: right;\">\n",
       "      <th></th>\n",
       "      <th>Product ID</th>\n",
       "      <th>Category</th>\n",
       "      <th>Subcategory1</th>\n",
       "      <th>SubCategory2</th>\n",
       "      <th>Location</th>\n",
       "      <th>Channel</th>\n",
       "      <th>Customer Age</th>\n",
       "      <th>Review Title</th>\n",
       "      <th>Review Text</th>\n",
       "      <th>Rating</th>\n",
       "      <th>Recommend Flag</th>\n",
       "    </tr>\n",
       "  </thead>\n",
       "  <tbody>\n",
       "    <tr>\n",
       "      <th>0</th>\n",
       "      <td>767</td>\n",
       "      <td>Initmates</td>\n",
       "      <td>Intimate</td>\n",
       "      <td>Intimates</td>\n",
       "      <td>Mumbai</td>\n",
       "      <td>Mobile</td>\n",
       "      <td>33</td>\n",
       "      <td>NaN</td>\n",
       "      <td>Absolutely wonderful - silky and sexy and comf...</td>\n",
       "      <td>4</td>\n",
       "      <td>1</td>\n",
       "    </tr>\n",
       "    <tr>\n",
       "      <th>1</th>\n",
       "      <td>1080</td>\n",
       "      <td>General</td>\n",
       "      <td>Dresses</td>\n",
       "      <td>Dresses</td>\n",
       "      <td>Bangalore</td>\n",
       "      <td>Mobile</td>\n",
       "      <td>34</td>\n",
       "      <td>NaN</td>\n",
       "      <td>Love this dress!  it's sooo pretty.  i happene...</td>\n",
       "      <td>5</td>\n",
       "      <td>1</td>\n",
       "    </tr>\n",
       "    <tr>\n",
       "      <th>2</th>\n",
       "      <td>1077</td>\n",
       "      <td>General</td>\n",
       "      <td>Dresses</td>\n",
       "      <td>Dresses</td>\n",
       "      <td>Gurgaon</td>\n",
       "      <td>Mobile</td>\n",
       "      <td>60</td>\n",
       "      <td>Some major design flaws</td>\n",
       "      <td>I had such high hopes for this dress and reall...</td>\n",
       "      <td>3</td>\n",
       "      <td>0</td>\n",
       "    </tr>\n",
       "    <tr>\n",
       "      <th>3</th>\n",
       "      <td>1049</td>\n",
       "      <td>General Petite</td>\n",
       "      <td>Bottoms</td>\n",
       "      <td>Pants</td>\n",
       "      <td>Chennai</td>\n",
       "      <td>Web</td>\n",
       "      <td>50</td>\n",
       "      <td>My favorite buy!</td>\n",
       "      <td>I love, love, love this jumpsuit. it's fun, fl...</td>\n",
       "      <td>5</td>\n",
       "      <td>1</td>\n",
       "    </tr>\n",
       "    <tr>\n",
       "      <th>4</th>\n",
       "      <td>847</td>\n",
       "      <td>General</td>\n",
       "      <td>Tops</td>\n",
       "      <td>Blouses</td>\n",
       "      <td>Bangalore</td>\n",
       "      <td>Web</td>\n",
       "      <td>47</td>\n",
       "      <td>Flattering shirt</td>\n",
       "      <td>This shirt is very flattering to all due to th...</td>\n",
       "      <td>5</td>\n",
       "      <td>1</td>\n",
       "    </tr>\n",
       "  </tbody>\n",
       "</table>\n",
       "</div>"
      ],
      "text/plain": [
       "   Product ID        Category Subcategory1 SubCategory2   Location Channel  \\\n",
       "0         767       Initmates     Intimate    Intimates     Mumbai  Mobile   \n",
       "1        1080         General      Dresses      Dresses  Bangalore  Mobile   \n",
       "2        1077         General      Dresses      Dresses    Gurgaon  Mobile   \n",
       "3        1049  General Petite      Bottoms        Pants    Chennai     Web   \n",
       "4         847         General         Tops      Blouses  Bangalore     Web   \n",
       "\n",
       "   Customer Age             Review Title  \\\n",
       "0            33                      NaN   \n",
       "1            34                      NaN   \n",
       "2            60  Some major design flaws   \n",
       "3            50         My favorite buy!   \n",
       "4            47         Flattering shirt   \n",
       "\n",
       "                                         Review Text  Rating  Recommend Flag  \n",
       "0  Absolutely wonderful - silky and sexy and comf...       4               1  \n",
       "1  Love this dress!  it's sooo pretty.  i happene...       5               1  \n",
       "2  I had such high hopes for this dress and reall...       3               0  \n",
       "3  I love, love, love this jumpsuit. it's fun, fl...       5               1  \n",
       "4  This shirt is very flattering to all due to th...       5               1  "
      ]
     },
     "execution_count": 28,
     "metadata": {},
     "output_type": "execute_result"
    }
   ],
   "source": [
    "dataset.head()"
   ]
  },
  {
   "cell_type": "code",
   "execution_count": 29,
   "metadata": {},
   "outputs": [],
   "source": [
    "#Make columns names in proper format by assigning proper variables\n",
    "dataset.columns=['Product_ID', 'Category', 'SubCategory1', 'SubCategory2', 'Location',\n",
    "       'Channel', 'Customer_Age', 'Review_Title', 'Review_Text', 'Rating',\n",
    "       'Recommend_Flag']"
   ]
  },
  {
   "cell_type": "code",
   "execution_count": 30,
   "metadata": {},
   "outputs": [
    {
     "data": {
      "text/html": [
       "<div>\n",
       "<style scoped>\n",
       "    .dataframe tbody tr th:only-of-type {\n",
       "        vertical-align: middle;\n",
       "    }\n",
       "\n",
       "    .dataframe tbody tr th {\n",
       "        vertical-align: top;\n",
       "    }\n",
       "\n",
       "    .dataframe thead th {\n",
       "        text-align: right;\n",
       "    }\n",
       "</style>\n",
       "<table border=\"1\" class=\"dataframe\">\n",
       "  <thead>\n",
       "    <tr style=\"text-align: right;\">\n",
       "      <th></th>\n",
       "      <th>Product_ID</th>\n",
       "      <th>Category</th>\n",
       "      <th>SubCategory1</th>\n",
       "      <th>SubCategory2</th>\n",
       "      <th>Location</th>\n",
       "      <th>Channel</th>\n",
       "      <th>Customer_Age</th>\n",
       "      <th>Review_Title</th>\n",
       "      <th>Review_Text</th>\n",
       "      <th>Rating</th>\n",
       "      <th>Recommend_Flag</th>\n",
       "    </tr>\n",
       "  </thead>\n",
       "  <tbody>\n",
       "    <tr>\n",
       "      <th>0</th>\n",
       "      <td>767</td>\n",
       "      <td>Initmates</td>\n",
       "      <td>Intimate</td>\n",
       "      <td>Intimates</td>\n",
       "      <td>Mumbai</td>\n",
       "      <td>Mobile</td>\n",
       "      <td>33</td>\n",
       "      <td>NaN</td>\n",
       "      <td>Absolutely wonderful - silky and sexy and comf...</td>\n",
       "      <td>4</td>\n",
       "      <td>1</td>\n",
       "    </tr>\n",
       "    <tr>\n",
       "      <th>1</th>\n",
       "      <td>1080</td>\n",
       "      <td>General</td>\n",
       "      <td>Dresses</td>\n",
       "      <td>Dresses</td>\n",
       "      <td>Bangalore</td>\n",
       "      <td>Mobile</td>\n",
       "      <td>34</td>\n",
       "      <td>NaN</td>\n",
       "      <td>Love this dress!  it's sooo pretty.  i happene...</td>\n",
       "      <td>5</td>\n",
       "      <td>1</td>\n",
       "    </tr>\n",
       "    <tr>\n",
       "      <th>2</th>\n",
       "      <td>1077</td>\n",
       "      <td>General</td>\n",
       "      <td>Dresses</td>\n",
       "      <td>Dresses</td>\n",
       "      <td>Gurgaon</td>\n",
       "      <td>Mobile</td>\n",
       "      <td>60</td>\n",
       "      <td>Some major design flaws</td>\n",
       "      <td>I had such high hopes for this dress and reall...</td>\n",
       "      <td>3</td>\n",
       "      <td>0</td>\n",
       "    </tr>\n",
       "    <tr>\n",
       "      <th>3</th>\n",
       "      <td>1049</td>\n",
       "      <td>General Petite</td>\n",
       "      <td>Bottoms</td>\n",
       "      <td>Pants</td>\n",
       "      <td>Chennai</td>\n",
       "      <td>Web</td>\n",
       "      <td>50</td>\n",
       "      <td>My favorite buy!</td>\n",
       "      <td>I love, love, love this jumpsuit. it's fun, fl...</td>\n",
       "      <td>5</td>\n",
       "      <td>1</td>\n",
       "    </tr>\n",
       "    <tr>\n",
       "      <th>4</th>\n",
       "      <td>847</td>\n",
       "      <td>General</td>\n",
       "      <td>Tops</td>\n",
       "      <td>Blouses</td>\n",
       "      <td>Bangalore</td>\n",
       "      <td>Web</td>\n",
       "      <td>47</td>\n",
       "      <td>Flattering shirt</td>\n",
       "      <td>This shirt is very flattering to all due to th...</td>\n",
       "      <td>5</td>\n",
       "      <td>1</td>\n",
       "    </tr>\n",
       "  </tbody>\n",
       "</table>\n",
       "</div>"
      ],
      "text/plain": [
       "   Product_ID        Category SubCategory1 SubCategory2   Location Channel  \\\n",
       "0         767       Initmates     Intimate    Intimates     Mumbai  Mobile   \n",
       "1        1080         General      Dresses      Dresses  Bangalore  Mobile   \n",
       "2        1077         General      Dresses      Dresses    Gurgaon  Mobile   \n",
       "3        1049  General Petite      Bottoms        Pants    Chennai     Web   \n",
       "4         847         General         Tops      Blouses  Bangalore     Web   \n",
       "\n",
       "   Customer_Age             Review_Title  \\\n",
       "0            33                      NaN   \n",
       "1            34                      NaN   \n",
       "2            60  Some major design flaws   \n",
       "3            50         My favorite buy!   \n",
       "4            47         Flattering shirt   \n",
       "\n",
       "                                         Review_Text  Rating  Recommend_Flag  \n",
       "0  Absolutely wonderful - silky and sexy and comf...       4               1  \n",
       "1  Love this dress!  it's sooo pretty.  i happene...       5               1  \n",
       "2  I had such high hopes for this dress and reall...       3               0  \n",
       "3  I love, love, love this jumpsuit. it's fun, fl...       5               1  \n",
       "4  This shirt is very flattering to all due to th...       5               1  "
      ]
     },
     "execution_count": 30,
     "metadata": {},
     "output_type": "execute_result"
    }
   ],
   "source": [
    "dataset.head()"
   ]
  },
  {
   "cell_type": "code",
   "execution_count": 31,
   "metadata": {},
   "outputs": [
    {
     "data": {
      "text/plain": [
       "Index(['Product_ID', 'Category', 'SubCategory1', 'SubCategory2', 'Location',\n",
       "       'Channel', 'Customer_Age', 'Review_Title', 'Review_Text', 'Rating',\n",
       "       'Recommend_Flag'],\n",
       "      dtype='object')"
      ]
     },
     "execution_count": 31,
     "metadata": {},
     "output_type": "execute_result"
    }
   ],
   "source": [
    "#Check columns name \n",
    "dataset.columns"
   ]
  },
  {
   "cell_type": "code",
   "execution_count": 32,
   "metadata": {},
   "outputs": [
    {
     "data": {
      "text/plain": [
       "Product_ID           0\n",
       "Category            14\n",
       "SubCategory1        14\n",
       "SubCategory2        14\n",
       "Location             0\n",
       "Channel              0\n",
       "Customer_Age         0\n",
       "Review_Title      3810\n",
       "Review_Text        845\n",
       "Rating               0\n",
       "Recommend_Flag       0\n",
       "dtype: int64"
      ]
     },
     "execution_count": 32,
     "metadata": {},
     "output_type": "execute_result"
    }
   ],
   "source": [
    "#Check null values in dataset\n",
    "dataset.isnull().sum()"
   ]
  },
  {
   "cell_type": "code",
   "execution_count": 33,
   "metadata": {},
   "outputs": [],
   "source": [
    "#delete all missing values \n",
    "dataset.dropna(axis = 0, how= \"any\", inplace = True)"
   ]
  },
  {
   "cell_type": "code",
   "execution_count": 34,
   "metadata": {},
   "outputs": [
    {
     "data": {
      "text/plain": [
       "Product_ID        0\n",
       "Category          0\n",
       "SubCategory1      0\n",
       "SubCategory2      0\n",
       "Location          0\n",
       "Channel           0\n",
       "Customer_Age      0\n",
       "Review_Title      0\n",
       "Review_Text       0\n",
       "Rating            0\n",
       "Recommend_Flag    0\n",
       "dtype: int64"
      ]
     },
     "execution_count": 34,
     "metadata": {},
     "output_type": "execute_result"
    }
   ],
   "source": [
    "#Check null values again \n",
    "dataset.isnull().sum()"
   ]
  },
  {
   "cell_type": "code",
   "execution_count": 35,
   "metadata": {},
   "outputs": [
    {
     "name": "stdout",
     "output_type": "stream",
     "text": [
      "<class 'pandas.core.frame.DataFrame'>\n",
      "Int64Index: 19662 entries, 2 to 23485\n",
      "Data columns (total 11 columns):\n",
      " #   Column          Non-Null Count  Dtype \n",
      "---  ------          --------------  ----- \n",
      " 0   Product_ID      19662 non-null  int64 \n",
      " 1   Category        19662 non-null  object\n",
      " 2   SubCategory1    19662 non-null  object\n",
      " 3   SubCategory2    19662 non-null  object\n",
      " 4   Location        19662 non-null  object\n",
      " 5   Channel         19662 non-null  object\n",
      " 6   Customer_Age    19662 non-null  int64 \n",
      " 7   Review_Title    19662 non-null  object\n",
      " 8   Review_Text     19662 non-null  object\n",
      " 9   Rating          19662 non-null  int64 \n",
      " 10  Recommend_Flag  19662 non-null  int64 \n",
      "dtypes: int64(4), object(7)\n",
      "memory usage: 1.8+ MB\n"
     ]
    }
   ],
   "source": [
    "#Check info \n",
    "dataset.info()"
   ]
  },
  {
   "cell_type": "code",
   "execution_count": 36,
   "metadata": {},
   "outputs": [
    {
     "data": {
      "text/plain": [
       "(19662, 11)"
      ]
     },
     "execution_count": 36,
     "metadata": {},
     "output_type": "execute_result"
    }
   ],
   "source": [
    "dataset.shape"
   ]
  },
  {
   "cell_type": "code",
   "execution_count": 37,
   "metadata": {},
   "outputs": [],
   "source": [
    "#Explore the basic analysis "
   ]
  },
  {
   "cell_type": "code",
   "execution_count": 38,
   "metadata": {},
   "outputs": [
    {
     "data": {
      "text/plain": [
       "Index(['Product_ID', 'Category', 'SubCategory1', 'SubCategory2', 'Location',\n",
       "       'Channel', 'Customer_Age', 'Review_Title', 'Review_Text', 'Rating',\n",
       "       'Recommend_Flag'],\n",
       "      dtype='object')"
      ]
     },
     "execution_count": 38,
     "metadata": {},
     "output_type": "execute_result"
    }
   ],
   "source": [
    "dataset.columns"
   ]
  },
  {
   "cell_type": "code",
   "execution_count": 39,
   "metadata": {},
   "outputs": [
    {
     "data": {
      "text/plain": [
       "<Axes: xlabel='Recommend_Flag', ylabel='count'>"
      ]
     },
     "execution_count": 39,
     "metadata": {},
     "output_type": "execute_result"
    },
    {
     "data": {
      "image/png": "[encoded data removed]",
      "text/plain": [
       "<Figure size 640x480 with 1 Axes>"
      ]
     },
     "metadata": {},
     "output_type": "display_data"
    }
   ],
   "source": [
    "#Some visulallizatoin of data using sns.countplot, sns.dist plots\n",
    "#Create Bar Chart to know the number of customers who gave the recommend flag (1 or 0) for products\n",
    "#Recommend flag = 1 ,it means the product is good \n",
    "#Recommend flag = 0 ,it means the product is not good \n",
    "\n",
    "import seaborn as sns\n",
    "sns.set_style('whitegrid')\n",
    "sns.countplot(x='Recommend_Flag',data=dataset, palette='YlGnBu_r')"
   ]
  },
  {
   "cell_type": "code",
   "execution_count": 40,
   "metadata": {},
   "outputs": [
    {
     "data": {
      "text/plain": [
       "' \\nBy following the above graph, we can see that there are 16000 customers who \\nrecommend Flag 1 for products more than people who recommend Flag 0, approximately 3800 people.\\n '"
      ]
     },
     "execution_count": 40,
     "metadata": {},
     "output_type": "execute_result"
    }
   ],
   "source": [
    "\"\"\" \n",
    "By following the above graph, we can see that there are 16000 customers who \n",
    "recommend Flag 1 for products more than people who recommend Flag 0, approximately 3800 people.\n",
    " \"\"\""
   ]
  },
  {
   "cell_type": "code",
   "execution_count": 41,
   "metadata": {},
   "outputs": [
    {
     "data": {
      "text/plain": [
       "' \\n    In this below graph we want to know the number of customers who rate on our products by giving stars start from 1 to 5.\\n    It typically goes from 1, the lowest rating, to 5, the highest rating.\\n    \\n '"
      ]
     },
     "execution_count": 41,
     "metadata": {},
     "output_type": "execute_result"
    }
   ],
   "source": [
    "\"\"\" \n",
    "    In this below graph we want to know the number of customers who rate on our products by giving stars start from 1 to 5.\n",
    "    It typically goes from 1, the lowest rating, to 5, the highest rating.\n",
    "    \n",
    " \"\"\""
   ]
  },
  {
   "cell_type": "code",
   "execution_count": 42,
   "metadata": {},
   "outputs": [
    {
     "data": {
      "text/plain": [
       "<Axes: xlabel='Rating', ylabel='count'>"
      ]
     },
     "execution_count": 42,
     "metadata": {},
     "output_type": "execute_result"
    },
    {
     "data": {
      "image/png": "[encoded data removed]",
      "text/plain": [
       "<Figure size 640x480 with 1 Axes>"
      ]
     },
     "metadata": {},
     "output_type": "display_data"
    }
   ],
   "source": [
    "sns.set_style('whitegrid')\n",
    "sns.countplot(x='Rating',data=dataset, palette='YlGnBu_r')"
   ]
  },
  {
   "cell_type": "code",
   "execution_count": 43,
   "metadata": {},
   "outputs": [
    {
     "data": {
      "text/plain": [
       "' \\n    \\nBy following the above graph, we see that most of the customers who gave 5 \\nstars were more than 10000 customers, 4 stars were more than 4000 but under 5000 customers, \\n3 stars were more than 2000 but under 3000, 2 stars were almost 2000, and 1 star was not more than 1500. \\nOverall, we can say our product gets a good rating from customers.\\n\\n '"
      ]
     },
     "execution_count": 43,
     "metadata": {},
     "output_type": "execute_result"
    }
   ],
   "source": [
    "\"\"\" \n",
    "    \n",
    "By following the above graph, we see that most of the customers who gave 5 \n",
    "stars were more than 10000 customers, 4 stars were more than 4000 but under 5000 customers, \n",
    "3 stars were more than 2000 but under 3000, 2 stars were almost 2000, and 1 star was not more than 1500. \n",
    "Overall, we can say our product gets a good rating from customers.\n",
    "\n",
    " \"\"\""
   ]
  },
  {
   "cell_type": "code",
   "execution_count": 47,
   "metadata": {},
   "outputs": [
    {
     "data": {
      "text/plain": [
       "<Axes: xlabel='Rating', ylabel='count'>"
      ]
     },
     "execution_count": 47,
     "metadata": {},
     "output_type": "execute_result"
    },
    {
     "data": {
      "image/png": "[encoded data removed]",
      "text/plain": [
       "<Figure size 640x480 with 1 Axes>"
      ]
     },
     "metadata": {},
     "output_type": "display_data"
    }
   ],
   "source": [
    "sns.set_style('whitegrid')\n",
    "sns.countplot(x='Rating',hue='Category',data= dataset,palette='CMRmap')"
   ]
  },
  {
   "cell_type": "code",
   "execution_count": 48,
   "metadata": {},
   "outputs": [
    {
     "data": {
      "text/plain": [
       "<Axes: xlabel='Rating', ylabel='count'>"
      ]
     },
     "execution_count": 48,
     "metadata": {},
     "output_type": "execute_result"
    },
    {
     "data": {
      "image/png": "[encoded data removed]",
      "text/plain": [
       "<Figure size 800x400 with 1 Axes>"
      ]
     },
     "metadata": {},
     "output_type": "display_data"
    }
   ],
   "source": [
    "import matplotlib.pyplot as plt\n",
    "plt.figure(figsize=(8,4))\n",
    "sns.set_style('whitegrid')\n",
    "sns.countplot(x='Rating',hue='SubCategory1',data= dataset,palette='viridis')"
   ]
  },
  {
   "cell_type": "code",
   "execution_count": 49,
   "metadata": {},
   "outputs": [
    {
     "data": {
      "text/plain": [
       "<Axes: xlabel='Recommend_Flag', ylabel='count'>"
      ]
     },
     "execution_count": 49,
     "metadata": {},
     "output_type": "execute_result"
    },
    {
     "data": {
      "image/png": "[encoded data removed]",
      "text/plain": [
       "<Figure size 800x400 with 1 Axes>"
      ]
     },
     "metadata": {},
     "output_type": "display_data"
    }
   ],
   "source": [
    "plt.figure(figsize=(8,4))\n",
    "sns.set_style('whitegrid')\n",
    "sns.countplot(x='Recommend_Flag',hue='SubCategory1',data=dataset,palette='YlGnBu_r')"
   ]
  },
  {
   "cell_type": "code",
   "execution_count": 55,
   "metadata": {},
   "outputs": [
    {
     "name": "stderr",
     "output_type": "stream",
     "text": [
      "C:\\Users\\Raksa Kun\\AppData\\Local\\Temp\\ipykernel_8340\\2933269235.py:2: UserWarning: \n",
      "\n",
      "`distplot` is a deprecated function and will be removed in seaborn v0.14.0.\n",
      "\n",
      "Please adapt your code to use either `displot` (a figure-level function with\n",
      "similar flexibility) or `histplot` (an axes-level function for histograms).\n",
      "\n",
      "For a guide to updating your code to use the new functions, please see\n",
      "https://gist.github.com/mwaskom/de44147ed2974457ad6372750bbe5751\n",
      "\n",
      "  sns.distplot(dataset['Customer_Age'],color='darkred',bins=30)\n"
     ]
    },
    {
     "data": {
      "text/plain": [
       "<Axes: xlabel='Customer_Age', ylabel='Density'>"
      ]
     },
     "execution_count": 55,
     "metadata": {},
     "output_type": "execute_result"
    },
    {
     "data": {
      "image/png": "[encoded data removed]",
      "text/plain": [
       "<Figure size 800x400 with 1 Axes>"
      ]
     },
     "metadata": {},
     "output_type": "display_data"
    }
   ],
   "source": [
    "plt.figure(figsize=(8,4))\n",
    "sns.distplot(dataset['Customer_Age'],color='darkred',bins=30)"
   ]
  },
  {
   "cell_type": "code",
   "execution_count": null,
   "metadata": {},
   "outputs": [],
   "source": [
    "#Some More Basic Exploratory Analysis on Review_Text"
   ]
  },
  {
   "cell_type": "code",
   "execution_count": 60,
   "metadata": {},
   "outputs": [
    {
     "name": "stdout",
     "output_type": "stream",
     "text": [
      "                                             Review_Text  count_sent\n",
      "2      I had such high hopes for this dress and reall...           1\n",
      "3      I love, love, love this jumpsuit. it's fun, fl...           1\n",
      "4      This shirt is very flattering to all due to th...           1\n",
      "5      I love tracy reese dresses, but this one is no...           1\n",
      "6      I aded this in my basket at hte last mintue to...           1\n",
      "...                                                  ...         ...\n",
      "23481  I was very happy to snag this dress at such a ...           1\n",
      "23482  It reminds me of maternity clothes. soft, stre...           2\n",
      "23483  This fit well, but the top was very see throug...           1\n",
      "23484  I bought this dress for a wedding i have this ...           1\n",
      "23485  This dress in a lovely platinum is feminine an...           1\n",
      "\n",
      "[19662 rows x 2 columns]\n"
     ]
    }
   ],
   "source": [
    "# count sentence in each review\n",
    "import re \n",
    "dataset['Review_Text'] = dataset['Review_Text'].astype(str)\n",
    "dataset['count_sent']=dataset['Review_Text'].apply(lambda x: len(re.findall(\"\\n\",str(x)))+1)\n",
    "# Print the result\n",
    "print(dataset[['Review_Text', 'count_sent']])"
   ]
  },
  {
   "cell_type": "code",
   "execution_count": 61,
   "metadata": {},
   "outputs": [
    {
     "data": {
      "text/plain": [
       "2         98\n",
       "3         22\n",
       "4         36\n",
       "5         98\n",
       "6        101\n",
       "        ... \n",
       "23481     28\n",
       "23482     38\n",
       "23483     42\n",
       "23484     86\n",
       "23485     19\n",
       "Name: count_word, Length: 19662, dtype: int64"
      ]
     },
     "execution_count": 61,
     "metadata": {},
     "output_type": "execute_result"
    }
   ],
   "source": [
    "#Word count in each comment:\n",
    "dataset['count_word']=dataset['Review_Text'].apply(lambda x: len(str(x).split()))\n",
    "#Print the result \n",
    "dataset['count_word']"
   ]
  },
  {
   "cell_type": "code",
   "execution_count": 62,
   "metadata": {},
   "outputs": [
    {
     "data": {
      "text/plain": [
       "2        72\n",
       "3        20\n",
       "4        28\n",
       "5        65\n",
       "6        74\n",
       "         ..\n",
       "23481    23\n",
       "23482    36\n",
       "23483    36\n",
       "23484    65\n",
       "23485    18\n",
       "Name: count_unique_word, Length: 19662, dtype: int64"
      ]
     },
     "execution_count": 62,
     "metadata": {},
     "output_type": "execute_result"
    }
   ],
   "source": [
    "#Unique word count\n",
    "dataset['count_unique_word']=dataset['Review_Text'].apply(lambda x: len(set(str(x).split())))\n",
    "#Print the result \n",
    "dataset['count_unique_word']"
   ]
  }
 ],
 "metadata": {
  "kernelspec": {
   "display_name": "Python 3",
   "language": "python",
   "name": "python3"
  },
  "language_info": {
   "codemirror_mode": {
    "name": "ipython",
    "version": 3
   },
   "file_extension": ".py",
   "mimetype": "text/x-python",
   "name": "python",
   "nbconvert_exporter": "python",
   "pygments_lexer": "ipython3",
   "version": "3.11.1"
  },
  "orig_nbformat": 4
 },
 "nbformat": 4,
 "nbformat_minor": 2
}
