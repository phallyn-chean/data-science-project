{
 "cells": [
  {
   "cell_type": "code",
   "execution_count": 1,
   "metadata": {},
   "outputs": [
    {
     "data": {
      "text/html": [
       "<div>\n",
       "<style scoped>\n",
       "    .dataframe tbody tr th:only-of-type {\n",
       "        vertical-align: middle;\n",
       "    }\n",
       "\n",
       "    .dataframe tbody tr th {\n",
       "        vertical-align: top;\n",
       "    }\n",
       "\n",
       "    .dataframe thead th {\n",
       "        text-align: right;\n",
       "    }\n",
       "</style>\n",
       "<table border=\"1\" class=\"dataframe\">\n",
       "  <thead>\n",
       "    <tr style=\"text-align: right;\">\n",
       "      <th></th>\n",
       "      <th>Product_ID</th>\n",
       "      <th>Category</th>\n",
       "      <th>SubCategory1</th>\n",
       "      <th>SubCategory2</th>\n",
       "      <th>Location</th>\n",
       "      <th>Channel</th>\n",
       "      <th>Customer_Age</th>\n",
       "      <th>Rating</th>\n",
       "      <th>Recommend_Flag</th>\n",
       "      <th>Merged_Review</th>\n",
       "    </tr>\n",
       "  </thead>\n",
       "  <tbody>\n",
       "    <tr>\n",
       "      <th>0</th>\n",
       "      <td>767</td>\n",
       "      <td>Initmates</td>\n",
       "      <td>Intimate</td>\n",
       "      <td>Intimates</td>\n",
       "      <td>Mumbai</td>\n",
       "      <td>Mobile</td>\n",
       "      <td>33</td>\n",
       "      <td>4</td>\n",
       "      <td>1</td>\n",
       "      <td>Absolutely wonderful - silky and sexy and com...</td>\n",
       "    </tr>\n",
       "    <tr>\n",
       "      <th>1</th>\n",
       "      <td>1080</td>\n",
       "      <td>General</td>\n",
       "      <td>Dresses</td>\n",
       "      <td>Dresses</td>\n",
       "      <td>Bangalore</td>\n",
       "      <td>Mobile</td>\n",
       "      <td>34</td>\n",
       "      <td>5</td>\n",
       "      <td>1</td>\n",
       "      <td>Love this dress!  it's sooo pretty.  i happen...</td>\n",
       "    </tr>\n",
       "    <tr>\n",
       "      <th>2</th>\n",
       "      <td>1077</td>\n",
       "      <td>General</td>\n",
       "      <td>Dresses</td>\n",
       "      <td>Dresses</td>\n",
       "      <td>Gurgaon</td>\n",
       "      <td>Mobile</td>\n",
       "      <td>60</td>\n",
       "      <td>3</td>\n",
       "      <td>0</td>\n",
       "      <td>Some major design flaws I had such high hopes ...</td>\n",
       "    </tr>\n",
       "    <tr>\n",
       "      <th>3</th>\n",
       "      <td>1049</td>\n",
       "      <td>General Petite</td>\n",
       "      <td>Bottoms</td>\n",
       "      <td>Pants</td>\n",
       "      <td>Chennai</td>\n",
       "      <td>Web</td>\n",
       "      <td>50</td>\n",
       "      <td>5</td>\n",
       "      <td>1</td>\n",
       "      <td>My favorite buy! I love, love, love this jumps...</td>\n",
       "    </tr>\n",
       "    <tr>\n",
       "      <th>4</th>\n",
       "      <td>847</td>\n",
       "      <td>General</td>\n",
       "      <td>Tops</td>\n",
       "      <td>Blouses</td>\n",
       "      <td>Bangalore</td>\n",
       "      <td>Web</td>\n",
       "      <td>47</td>\n",
       "      <td>5</td>\n",
       "      <td>1</td>\n",
       "      <td>Flattering shirt This shirt is very flattering...</td>\n",
       "    </tr>\n",
       "    <tr>\n",
       "      <th>...</th>\n",
       "      <td>...</td>\n",
       "      <td>...</td>\n",
       "      <td>...</td>\n",
       "      <td>...</td>\n",
       "      <td>...</td>\n",
       "      <td>...</td>\n",
       "      <td>...</td>\n",
       "      <td>...</td>\n",
       "      <td>...</td>\n",
       "      <td>...</td>\n",
       "    </tr>\n",
       "    <tr>\n",
       "      <th>22637</th>\n",
       "      <td>1104</td>\n",
       "      <td>General Petite</td>\n",
       "      <td>Dresses</td>\n",
       "      <td>Dresses</td>\n",
       "      <td>Gurgaon</td>\n",
       "      <td>Mobile</td>\n",
       "      <td>34</td>\n",
       "      <td>5</td>\n",
       "      <td>1</td>\n",
       "      <td>Great dress for many occasions I was very happ...</td>\n",
       "    </tr>\n",
       "    <tr>\n",
       "      <th>22638</th>\n",
       "      <td>862</td>\n",
       "      <td>General Petite</td>\n",
       "      <td>Tops</td>\n",
       "      <td>Knits</td>\n",
       "      <td>Gurgaon</td>\n",
       "      <td>Web</td>\n",
       "      <td>48</td>\n",
       "      <td>3</td>\n",
       "      <td>1</td>\n",
       "      <td>Wish it was made of cotton It reminds me of ma...</td>\n",
       "    </tr>\n",
       "    <tr>\n",
       "      <th>22639</th>\n",
       "      <td>1104</td>\n",
       "      <td>General Petite</td>\n",
       "      <td>Dresses</td>\n",
       "      <td>Dresses</td>\n",
       "      <td>Gurgaon</td>\n",
       "      <td>Web</td>\n",
       "      <td>31</td>\n",
       "      <td>3</td>\n",
       "      <td>0</td>\n",
       "      <td>Cute, but see through This fit well, but the t...</td>\n",
       "    </tr>\n",
       "    <tr>\n",
       "      <th>22640</th>\n",
       "      <td>1084</td>\n",
       "      <td>General</td>\n",
       "      <td>Dresses</td>\n",
       "      <td>Dresses</td>\n",
       "      <td>Gurgaon</td>\n",
       "      <td>Web</td>\n",
       "      <td>28</td>\n",
       "      <td>3</td>\n",
       "      <td>1</td>\n",
       "      <td>Very cute dress, perfect for summer parties an...</td>\n",
       "    </tr>\n",
       "    <tr>\n",
       "      <th>22641</th>\n",
       "      <td>1104</td>\n",
       "      <td>General Petite</td>\n",
       "      <td>Dresses</td>\n",
       "      <td>Dresses</td>\n",
       "      <td>Chennai</td>\n",
       "      <td>Mobile</td>\n",
       "      <td>52</td>\n",
       "      <td>5</td>\n",
       "      <td>1</td>\n",
       "      <td>Please make more like this one! This dress in ...</td>\n",
       "    </tr>\n",
       "  </tbody>\n",
       "</table>\n",
       "<p>22642 rows × 10 columns</p>\n",
       "</div>"
      ],
      "text/plain": [
       "       Product_ID        Category SubCategory1 SubCategory2   Location  \\\n",
       "0             767       Initmates     Intimate    Intimates     Mumbai   \n",
       "1            1080         General      Dresses      Dresses  Bangalore   \n",
       "2            1077         General      Dresses      Dresses    Gurgaon   \n",
       "3            1049  General Petite      Bottoms        Pants    Chennai   \n",
       "4             847         General         Tops      Blouses  Bangalore   \n",
       "...           ...             ...          ...          ...        ...   \n",
       "22637        1104  General Petite      Dresses      Dresses    Gurgaon   \n",
       "22638         862  General Petite         Tops        Knits    Gurgaon   \n",
       "22639        1104  General Petite      Dresses      Dresses    Gurgaon   \n",
       "22640        1084         General      Dresses      Dresses    Gurgaon   \n",
       "22641        1104  General Petite      Dresses      Dresses    Chennai   \n",
       "\n",
       "      Channel  Customer_Age  Rating  Recommend_Flag  \\\n",
       "0      Mobile            33       4               1   \n",
       "1      Mobile            34       5               1   \n",
       "2      Mobile            60       3               0   \n",
       "3         Web            50       5               1   \n",
       "4         Web            47       5               1   \n",
       "...       ...           ...     ...             ...   \n",
       "22637  Mobile            34       5               1   \n",
       "22638     Web            48       3               1   \n",
       "22639     Web            31       3               0   \n",
       "22640     Web            28       3               1   \n",
       "22641  Mobile            52       5               1   \n",
       "\n",
       "                                           Merged_Review  \n",
       "0       Absolutely wonderful - silky and sexy and com...  \n",
       "1       Love this dress!  it's sooo pretty.  i happen...  \n",
       "2      Some major design flaws I had such high hopes ...  \n",
       "3      My favorite buy! I love, love, love this jumps...  \n",
       "4      Flattering shirt This shirt is very flattering...  \n",
       "...                                                  ...  \n",
       "22637  Great dress for many occasions I was very happ...  \n",
       "22638  Wish it was made of cotton It reminds me of ma...  \n",
       "22639  Cute, but see through This fit well, but the t...  \n",
       "22640  Very cute dress, perfect for summer parties an...  \n",
       "22641  Please make more like this one! This dress in ...  \n",
       "\n",
       "[22642 rows x 10 columns]"
      ]
     },
     "execution_count": 1,
     "metadata": {},
     "output_type": "execute_result"
    }
   ],
   "source": [
    "import pandas as pd \n",
    "import numpy as np\n",
    "dataset = pd.read_excel(\"../Data/Womens Clothing Reviews Data New.xlsx\")\n",
    "dataset"
   ]
  },
  {
   "cell_type": "code",
   "execution_count": 2,
   "metadata": {},
   "outputs": [
    {
     "name": "stderr",
     "output_type": "stream",
     "text": [
      "[nltk_data] Downloading package vader_lexicon to C:\\Users\\Raksa\n",
      "[nltk_data]     Kun\\AppData\\Roaming\\nltk_data...\n",
      "[nltk_data]   Package vader_lexicon is already up-to-date!\n"
     ]
    },
    {
     "data": {
      "text/plain": [
       "True"
      ]
     },
     "execution_count": 2,
     "metadata": {},
     "output_type": "execute_result"
    }
   ],
   "source": [
    "import nltk\n",
    "from nltk.sentiment.vader import SentimentIntensityAnalyzer\n",
    "\n",
    "# Download necessary resources for SentimentIntensityAnalyzer\n",
    "nltk.download('vader_lexicon')"
   ]
  },
  {
   "cell_type": "code",
   "execution_count": 3,
   "metadata": {},
   "outputs": [
    {
     "data": {
      "text/plain": [
       "Index(['Product_ID', 'Category', 'SubCategory1', 'SubCategory2', 'Location',\n",
       "       'Channel', 'Customer_Age', 'Rating', 'Recommend_Flag', 'Merged_Review'],\n",
       "      dtype='object')"
      ]
     },
     "execution_count": 3,
     "metadata": {},
     "output_type": "execute_result"
    }
   ],
   "source": [
    "dataset.columns"
   ]
  },
  {
   "cell_type": "code",
   "execution_count": 4,
   "metadata": {},
   "outputs": [
    {
     "name": "stdout",
     "output_type": "stream",
     "text": [
      "                                           Merged_Review sentiment_category\n",
      "0       Absolutely wonderful - silky and sexy and com...           Positive\n",
      "1       Love this dress!  it's sooo pretty.  i happen...           Positive\n",
      "2      Some major design flaws I had such high hopes ...           Positive\n",
      "3      My favorite buy! I love, love, love this jumps...           Positive\n",
      "4      Flattering shirt This shirt is very flattering...           Positive\n",
      "...                                                  ...                ...\n",
      "22637  Great dress for many occasions I was very happ...           Positive\n",
      "22638  Wish it was made of cotton It reminds me of ma...           Positive\n",
      "22639  Cute, but see through This fit well, but the t...           Positive\n",
      "22640  Very cute dress, perfect for summer parties an...           Positive\n",
      "22641  Please make more like this one! This dress in ...           Positive\n",
      "\n",
      "[22642 rows x 2 columns]\n"
     ]
    }
   ],
   "source": [
    "from nltk.sentiment import SentimentIntensityAnalyzer\n",
    "import pandas as pd\n",
    "\n",
    "# Assuming you have loaded your dataset into the variable 'dataset'\n",
    "\n",
    "# Initialize the SentimentIntensityAnalyzer\n",
    "analyzer = SentimentIntensityAnalyzer()\n",
    "\n",
    "# Function to calculate sentiment scores using SentimentIntensityAnalyzer\n",
    "def get_sentiment_score(row):\n",
    "    sentiment_score = analyzer.polarity_scores(row['Merged_Review'])\n",
    "    return sentiment_score['compound']\n",
    "\n",
    "# Apply the sentiment analysis function to each row of the DataFrame\n",
    "dataset['sentiment_score'] = dataset.apply(get_sentiment_score, axis=1)\n",
    "\n",
    "# Function to get sentiment category based on the compound score\n",
    "def get_sentiment_category(compound_score):\n",
    "    if compound_score > 0.1:\n",
    "        return 'Positive'\n",
    "    elif compound_score < -0.1:\n",
    "        return 'Negative'\n",
    "    else:\n",
    "        return 'Neutral'\n",
    "\n",
    "# Apply the sentiment analysis function to each row of the DataFrame\n",
    "dataset['sentiment_category'] = dataset['sentiment_score'].apply(get_sentiment_category)\n",
    "\n",
    "# Display the DataFrame with the added 'sentiment_category' column\n",
    "print(dataset[['Merged_Review', 'sentiment_category']])"
   ]
  },
  {
   "cell_type": "code",
   "execution_count": 5,
   "metadata": {},
   "outputs": [
    {
     "data": {
      "text/html": [
       "<div>\n",
       "<style scoped>\n",
       "    .dataframe tbody tr th:only-of-type {\n",
       "        vertical-align: middle;\n",
       "    }\n",
       "\n",
       "    .dataframe tbody tr th {\n",
       "        vertical-align: top;\n",
       "    }\n",
       "\n",
       "    .dataframe thead th {\n",
       "        text-align: right;\n",
       "    }\n",
       "</style>\n",
       "<table border=\"1\" class=\"dataframe\">\n",
       "  <thead>\n",
       "    <tr style=\"text-align: right;\">\n",
       "      <th></th>\n",
       "      <th>Product_ID</th>\n",
       "      <th>Category</th>\n",
       "      <th>SubCategory1</th>\n",
       "      <th>SubCategory2</th>\n",
       "      <th>Location</th>\n",
       "      <th>Channel</th>\n",
       "      <th>Customer_Age</th>\n",
       "      <th>Rating</th>\n",
       "      <th>Recommend_Flag</th>\n",
       "      <th>Merged_Review</th>\n",
       "      <th>sentiment_score</th>\n",
       "      <th>sentiment_category</th>\n",
       "    </tr>\n",
       "  </thead>\n",
       "  <tbody>\n",
       "    <tr>\n",
       "      <th>0</th>\n",
       "      <td>767</td>\n",
       "      <td>Initmates</td>\n",
       "      <td>Intimate</td>\n",
       "      <td>Intimates</td>\n",
       "      <td>Mumbai</td>\n",
       "      <td>Mobile</td>\n",
       "      <td>33</td>\n",
       "      <td>4</td>\n",
       "      <td>1</td>\n",
       "      <td>Absolutely wonderful - silky and sexy and com...</td>\n",
       "      <td>0.8932</td>\n",
       "      <td>Positive</td>\n",
       "    </tr>\n",
       "    <tr>\n",
       "      <th>1</th>\n",
       "      <td>1080</td>\n",
       "      <td>General</td>\n",
       "      <td>Dresses</td>\n",
       "      <td>Dresses</td>\n",
       "      <td>Bangalore</td>\n",
       "      <td>Mobile</td>\n",
       "      <td>34</td>\n",
       "      <td>5</td>\n",
       "      <td>1</td>\n",
       "      <td>Love this dress!  it's sooo pretty.  i happen...</td>\n",
       "      <td>0.9729</td>\n",
       "      <td>Positive</td>\n",
       "    </tr>\n",
       "    <tr>\n",
       "      <th>2</th>\n",
       "      <td>1077</td>\n",
       "      <td>General</td>\n",
       "      <td>Dresses</td>\n",
       "      <td>Dresses</td>\n",
       "      <td>Gurgaon</td>\n",
       "      <td>Mobile</td>\n",
       "      <td>60</td>\n",
       "      <td>3</td>\n",
       "      <td>0</td>\n",
       "      <td>Some major design flaws I had such high hopes ...</td>\n",
       "      <td>0.9427</td>\n",
       "      <td>Positive</td>\n",
       "    </tr>\n",
       "    <tr>\n",
       "      <th>3</th>\n",
       "      <td>1049</td>\n",
       "      <td>General Petite</td>\n",
       "      <td>Bottoms</td>\n",
       "      <td>Pants</td>\n",
       "      <td>Chennai</td>\n",
       "      <td>Web</td>\n",
       "      <td>50</td>\n",
       "      <td>5</td>\n",
       "      <td>1</td>\n",
       "      <td>My favorite buy! I love, love, love this jumps...</td>\n",
       "      <td>0.7182</td>\n",
       "      <td>Positive</td>\n",
       "    </tr>\n",
       "    <tr>\n",
       "      <th>4</th>\n",
       "      <td>847</td>\n",
       "      <td>General</td>\n",
       "      <td>Tops</td>\n",
       "      <td>Blouses</td>\n",
       "      <td>Bangalore</td>\n",
       "      <td>Web</td>\n",
       "      <td>47</td>\n",
       "      <td>5</td>\n",
       "      <td>1</td>\n",
       "      <td>Flattering shirt This shirt is very flattering...</td>\n",
       "      <td>0.9436</td>\n",
       "      <td>Positive</td>\n",
       "    </tr>\n",
       "  </tbody>\n",
       "</table>\n",
       "</div>"
      ],
      "text/plain": [
       "   Product_ID        Category SubCategory1 SubCategory2   Location Channel  \\\n",
       "0         767       Initmates     Intimate    Intimates     Mumbai  Mobile   \n",
       "1        1080         General      Dresses      Dresses  Bangalore  Mobile   \n",
       "2        1077         General      Dresses      Dresses    Gurgaon  Mobile   \n",
       "3        1049  General Petite      Bottoms        Pants    Chennai     Web   \n",
       "4         847         General         Tops      Blouses  Bangalore     Web   \n",
       "\n",
       "   Customer_Age  Rating  Recommend_Flag  \\\n",
       "0            33       4               1   \n",
       "1            34       5               1   \n",
       "2            60       3               0   \n",
       "3            50       5               1   \n",
       "4            47       5               1   \n",
       "\n",
       "                                       Merged_Review  sentiment_score  \\\n",
       "0   Absolutely wonderful - silky and sexy and com...           0.8932   \n",
       "1   Love this dress!  it's sooo pretty.  i happen...           0.9729   \n",
       "2  Some major design flaws I had such high hopes ...           0.9427   \n",
       "3  My favorite buy! I love, love, love this jumps...           0.7182   \n",
       "4  Flattering shirt This shirt is very flattering...           0.9436   \n",
       "\n",
       "  sentiment_category  \n",
       "0           Positive  \n",
       "1           Positive  \n",
       "2           Positive  \n",
       "3           Positive  \n",
       "4           Positive  "
      ]
     },
     "execution_count": 5,
     "metadata": {},
     "output_type": "execute_result"
    }
   ],
   "source": [
    "dataset.head()"
   ]
  },
  {
   "cell_type": "code",
   "execution_count": 6,
   "metadata": {},
   "outputs": [
    {
     "name": "stdout",
     "output_type": "stream",
     "text": [
      "Positive    21089\n",
      "Negative     1208\n",
      "Neutral       345\n",
      "Name: sentiment_category, dtype: int64\n"
     ]
    }
   ],
   "source": [
    "# Calculate the total positive, negative, and neutral sentiments using value_counts()\n",
    "sentiment_counts = dataset['sentiment_category'].value_counts()\n",
    "\n",
    "# Display the total positive, negative, and neutral sentiments\n",
    "print(sentiment_counts)"
   ]
  },
  {
   "cell_type": "code",
   "execution_count": 7,
   "metadata": {},
   "outputs": [
    {
     "data": {
      "text/plain": [
       "Index(['Product_ID', 'Category', 'SubCategory1', 'SubCategory2', 'Location',\n",
       "       'Channel', 'Customer_Age', 'Rating', 'Recommend_Flag', 'Merged_Review',\n",
       "       'sentiment_score', 'sentiment_category'],\n",
       "      dtype='object')"
      ]
     },
     "execution_count": 7,
     "metadata": {},
     "output_type": "execute_result"
    }
   ],
   "source": [
    "dataset.columns"
   ]
  },
  {
   "cell_type": "code",
   "execution_count": 8,
   "metadata": {},
   "outputs": [
    {
     "data": {
      "application/vnd.plotly.v1+json": {
       "config": {
        "plotlyServerURL": "https://plot.ly"
       },
       "data": [
        {
         "alignmentgroup": "True",
         "hovertemplate": "Sentiment=%{x}<br>Count=%{y}<extra></extra>",
         "legendgroup": "Positive",
         "marker": {
          "color": "#636efa",
          "pattern": {
           "shape": ""
          }
         },
         "name": "Positive",
         "offsetgroup": "Positive",
         "orientation": "v",
         "showlegend": true,
         "textposition": "auto",
         "type": "bar",
         "x": [
          "Positive"
         ],
         "xaxis": "x",
         "y": [
          21089
         ],
         "yaxis": "y"
        },
        {
         "alignmentgroup": "True",
         "hovertemplate": "Sentiment=%{x}<br>Count=%{y}<extra></extra>",
         "legendgroup": "Negative",
         "marker": {
          "color": "#EF553B",
          "pattern": {
           "shape": ""
          }
         },
         "name": "Negative",
         "offsetgroup": "Negative",
         "orientation": "v",
         "showlegend": true,
         "textposition": "auto",
         "type": "bar",
         "x": [
          "Negative"
         ],
         "xaxis": "x",
         "y": [
          1208
         ],
         "yaxis": "y"
        },
        {
         "alignmentgroup": "True",
         "hovertemplate": "Sentiment=%{x}<br>Count=%{y}<extra></extra>",
         "legendgroup": "Neutral",
         "marker": {
          "color": "#00cc96",
          "pattern": {
           "shape": ""
          }
         },
         "name": "Neutral",
         "offsetgroup": "Neutral",
         "orientation": "v",
         "showlegend": true,
         "textposition": "auto",
         "type": "bar",
         "x": [
          "Neutral"
         ],
         "xaxis": "x",
         "y": [
          345
         ],
         "yaxis": "y"
        }
       ],
       "layout": {
        "barmode": "relative",
        "legend": {
         "title": {
          "text": "Sentiment"
         },
         "tracegroupgap": 0
        },
        "template": {
         "data": {
          "bar": [
           {
            "error_x": {
             "color": "#2a3f5f"
            },
            "error_y": {
             "color": "#2a3f5f"
            },
            "marker": {
             "line": {
              "color": "#E5ECF6",
              "width": 0.5
             },
             "pattern": {
              "fillmode": "overlay",
              "size": 10,
              "solidity": 0.2
             }
            },
            "type": "bar"
           }
          ],
          "barpolar": [
           {
            "marker": {
             "line": {
              "color": "#E5ECF6",
              "width": 0.5
             },
             "pattern": {
              "fillmode": "overlay",
              "size": 10,
              "solidity": 0.2
             }
            },
            "type": "barpolar"
           }
          ],
          "carpet": [
           {
            "aaxis": {
             "endlinecolor": "#2a3f5f",
             "gridcolor": "white",
             "linecolor": "white",
             "minorgridcolor": "white",
             "startlinecolor": "#2a3f5f"
            },
            "baxis": {
             "endlinecolor": "#2a3f5f",
             "gridcolor": "white",
             "linecolor": "white",
             "minorgridcolor": "white",
             "startlinecolor": "#2a3f5f"
            },
            "type": "carpet"
           }
          ],
          "choropleth": [
           {
            "colorbar": {
             "outlinewidth": 0,
             "ticks": ""
            },
            "type": "choropleth"
           }
          ],
          "contour": [
           {
            "colorbar": {
             "outlinewidth": 0,
             "ticks": ""
            },
            "colorscale": [
             [
              0,
              "#0d0887"
             ],
             [
              0.1111111111111111,
              "#46039f"
             ],
             [
              0.2222222222222222,
              "#7201a8"
             ],
             [
              0.3333333333333333,
              "#9c179e"
             ],
             [
              0.4444444444444444,
              "#bd3786"
             ],
             [
              0.5555555555555556,
              "#d8576b"
             ],
             [
              0.6666666666666666,
              "#ed7953"
             ],
             [
              0.7777777777777778,
              "#fb9f3a"
             ],
             [
              0.8888888888888888,
              "#fdca26"
             ],
             [
              1,
              "#f0f921"
             ]
            ],
            "type": "contour"
           }
          ],
          "contourcarpet": [
           {
            "colorbar": {
             "outlinewidth": 0,
             "ticks": ""
            },
            "type": "contourcarpet"
           }
          ],
          "heatmap": [
           {
            "colorbar": {
             "outlinewidth": 0,
             "ticks": ""
            },
            "colorscale": [
             [
              0,
              "#0d0887"
             ],
             [
              0.1111111111111111,
              "#46039f"
             ],
             [
              0.2222222222222222,
              "#7201a8"
             ],
             [
              0.3333333333333333,
              "#9c179e"
             ],
             [
              0.4444444444444444,
              "#bd3786"
             ],
             [
              0.5555555555555556,
              "#d8576b"
             ],
             [
              0.6666666666666666,
              "#ed7953"
             ],
             [
              0.7777777777777778,
              "#fb9f3a"
             ],
             [
              0.8888888888888888,
              "#fdca26"
             ],
             [
              1,
              "#f0f921"
             ]
            ],
            "type": "heatmap"
           }
          ],
          "heatmapgl": [
           {
            "colorbar": {
             "outlinewidth": 0,
             "ticks": ""
            },
            "colorscale": [
             [
              0,
              "#0d0887"
             ],
             [
              0.1111111111111111,
              "#46039f"
             ],
             [
              0.2222222222222222,
              "#7201a8"
             ],
             [
              0.3333333333333333,
              "#9c179e"
             ],
             [
              0.4444444444444444,
              "#bd3786"
             ],
             [
              0.5555555555555556,
              "#d8576b"
             ],
             [
              0.6666666666666666,
              "#ed7953"
             ],
             [
              0.7777777777777778,
              "#fb9f3a"
             ],
             [
              0.8888888888888888,
              "#fdca26"
             ],
             [
              1,
              "#f0f921"
             ]
            ],
            "type": "heatmapgl"
           }
          ],
          "histogram": [
           {
            "marker": {
             "pattern": {
              "fillmode": "overlay",
              "size": 10,
              "solidity": 0.2
             }
            },
            "type": "histogram"
           }
          ],
          "histogram2d": [
           {
            "colorbar": {
             "outlinewidth": 0,
             "ticks": ""
            },
            "colorscale": [
             [
              0,
              "#0d0887"
             ],
             [
              0.1111111111111111,
              "#46039f"
             ],
             [
              0.2222222222222222,
              "#7201a8"
             ],
             [
              0.3333333333333333,
              "#9c179e"
             ],
             [
              0.4444444444444444,
              "#bd3786"
             ],
             [
              0.5555555555555556,
              "#d8576b"
             ],
             [
              0.6666666666666666,
              "#ed7953"
             ],
             [
              0.7777777777777778,
              "#fb9f3a"
             ],
             [
              0.8888888888888888,
              "#fdca26"
             ],
             [
              1,
              "#f0f921"
             ]
            ],
            "type": "histogram2d"
           }
          ],
          "histogram2dcontour": [
           {
            "colorbar": {
             "outlinewidth": 0,
             "ticks": ""
            },
            "colorscale": [
             [
              0,
              "#0d0887"
             ],
             [
              0.1111111111111111,
              "#46039f"
             ],
             [
              0.2222222222222222,
              "#7201a8"
             ],
             [
              0.3333333333333333,
              "#9c179e"
             ],
             [
              0.4444444444444444,
              "#bd3786"
             ],
             [
              0.5555555555555556,
              "#d8576b"
             ],
             [
              0.6666666666666666,
              "#ed7953"
             ],
             [
              0.7777777777777778,
              "#fb9f3a"
             ],
             [
              0.8888888888888888,
              "#fdca26"
             ],
             [
              1,
              "#f0f921"
             ]
            ],
            "type": "histogram2dcontour"
           }
          ],
          "mesh3d": [
           {
            "colorbar": {
             "outlinewidth": 0,
             "ticks": ""
            },
            "type": "mesh3d"
           }
          ],
          "parcoords": [
           {
            "line": {
             "colorbar": {
              "outlinewidth": 0,
              "ticks": ""
             }
            },
            "type": "parcoords"
           }
          ],
          "pie": [
           {
            "automargin": true,
            "type": "pie"
           }
          ],
          "scatter": [
           {
            "fillpattern": {
             "fillmode": "overlay",
             "size": 10,
             "solidity": 0.2
            },
            "type": "scatter"
           }
          ],
          "scatter3d": [
           {
            "line": {
             "colorbar": {
              "outlinewidth": 0,
              "ticks": ""
             }
            },
            "marker": {
             "colorbar": {
              "outlinewidth": 0,
              "ticks": ""
             }
            },
            "type": "scatter3d"
           }
          ],
          "scattercarpet": [
           {
            "marker": {
             "colorbar": {
              "outlinewidth": 0,
              "ticks": ""
             }
            },
            "type": "scattercarpet"
           }
          ],
          "scattergeo": [
           {
            "marker": {
             "colorbar": {
              "outlinewidth": 0,
              "ticks": ""
             }
            },
            "type": "scattergeo"
           }
          ],
          "scattergl": [
           {
            "marker": {
             "colorbar": {
              "outlinewidth": 0,
              "ticks": ""
             }
            },
            "type": "scattergl"
           }
          ],
          "scattermapbox": [
           {
            "marker": {
             "colorbar": {
              "outlinewidth": 0,
              "ticks": ""
             }
            },
            "type": "scattermapbox"
           }
          ],
          "scatterpolar": [
           {
            "marker": {
             "colorbar": {
              "outlinewidth": 0,
              "ticks": ""
             }
            },
            "type": "scatterpolar"
           }
          ],
          "scatterpolargl": [
           {
            "marker": {
             "colorbar": {
              "outlinewidth": 0,
              "ticks": ""
             }
            },
            "type": "scatterpolargl"
           }
          ],
          "scatterternary": [
           {
            "marker": {
             "colorbar": {
              "outlinewidth": 0,
              "ticks": ""
             }
            },
            "type": "scatterternary"
           }
          ],
          "surface": [
           {
            "colorbar": {
             "outlinewidth": 0,
             "ticks": ""
            },
            "colorscale": [
             [
              0,
              "#0d0887"
             ],
             [
              0.1111111111111111,
              "#46039f"
             ],
             [
              0.2222222222222222,
              "#7201a8"
             ],
             [
              0.3333333333333333,
              "#9c179e"
             ],
             [
              0.4444444444444444,
              "#bd3786"
             ],
             [
              0.5555555555555556,
              "#d8576b"
             ],
             [
              0.6666666666666666,
              "#ed7953"
             ],
             [
              0.7777777777777778,
              "#fb9f3a"
             ],
             [
              0.8888888888888888,
              "#fdca26"
             ],
             [
              1,
              "#f0f921"
             ]
            ],
            "type": "surface"
           }
          ],
          "table": [
           {
            "cells": {
             "fill": {
              "color": "#EBF0F8"
             },
             "line": {
              "color": "white"
             }
            },
            "header": {
             "fill": {
              "color": "#C8D4E3"
             },
             "line": {
              "color": "white"
             }
            },
            "type": "table"
           }
          ]
         },
         "layout": {
          "annotationdefaults": {
           "arrowcolor": "#2a3f5f",
           "arrowhead": 0,
           "arrowwidth": 1
          },
          "autotypenumbers": "strict",
          "coloraxis": {
           "colorbar": {
            "outlinewidth": 0,
            "ticks": ""
           }
          },
          "colorscale": {
           "diverging": [
            [
             0,
             "#8e0152"
            ],
            [
             0.1,
             "#c51b7d"
            ],
            [
             0.2,
             "#de77ae"
            ],
            [
             0.3,
             "#f1b6da"
            ],
            [
             0.4,
             "#fde0ef"
            ],
            [
             0.5,
             "#f7f7f7"
            ],
            [
             0.6,
             "#e6f5d0"
            ],
            [
             0.7,
             "#b8e186"
            ],
            [
             0.8,
             "#7fbc41"
            ],
            [
             0.9,
             "#4d9221"
            ],
            [
             1,
             "#276419"
            ]
           ],
           "sequential": [
            [
             0,
             "#0d0887"
            ],
            [
             0.1111111111111111,
             "#46039f"
            ],
            [
             0.2222222222222222,
             "#7201a8"
            ],
            [
             0.3333333333333333,
             "#9c179e"
            ],
            [
             0.4444444444444444,
             "#bd3786"
            ],
            [
             0.5555555555555556,
             "#d8576b"
            ],
            [
             0.6666666666666666,
             "#ed7953"
            ],
            [
             0.7777777777777778,
             "#fb9f3a"
            ],
            [
             0.8888888888888888,
             "#fdca26"
            ],
            [
             1,
             "#f0f921"
            ]
           ],
           "sequentialminus": [
            [
             0,
             "#0d0887"
            ],
            [
             0.1111111111111111,
             "#46039f"
            ],
            [
             0.2222222222222222,
             "#7201a8"
            ],
            [
             0.3333333333333333,
             "#9c179e"
            ],
            [
             0.4444444444444444,
             "#bd3786"
            ],
            [
             0.5555555555555556,
             "#d8576b"
            ],
            [
             0.6666666666666666,
             "#ed7953"
            ],
            [
             0.7777777777777778,
             "#fb9f3a"
            ],
            [
             0.8888888888888888,
             "#fdca26"
            ],
            [
             1,
             "#f0f921"
            ]
           ]
          },
          "colorway": [
           "#636efa",
           "#EF553B",
           "#00cc96",
           "#ab63fa",
           "#FFA15A",
           "#19d3f3",
           "#FF6692",
           "#B6E880",
           "#FF97FF",
           "#FECB52"
          ],
          "font": {
           "color": "#2a3f5f"
          },
          "geo": {
           "bgcolor": "white",
           "lakecolor": "white",
           "landcolor": "#E5ECF6",
           "showlakes": true,
           "showland": true,
           "subunitcolor": "white"
          },
          "hoverlabel": {
           "align": "left"
          },
          "hovermode": "closest",
          "mapbox": {
           "style": "light"
          },
          "paper_bgcolor": "white",
          "plot_bgcolor": "#E5ECF6",
          "polar": {
           "angularaxis": {
            "gridcolor": "white",
            "linecolor": "white",
            "ticks": ""
           },
           "bgcolor": "#E5ECF6",
           "radialaxis": {
            "gridcolor": "white",
            "linecolor": "white",
            "ticks": ""
           }
          },
          "scene": {
           "xaxis": {
            "backgroundcolor": "#E5ECF6",
            "gridcolor": "white",
            "gridwidth": 2,
            "linecolor": "white",
            "showbackground": true,
            "ticks": "",
            "zerolinecolor": "white"
           },
           "yaxis": {
            "backgroundcolor": "#E5ECF6",
            "gridcolor": "white",
            "gridwidth": 2,
            "linecolor": "white",
            "showbackground": true,
            "ticks": "",
            "zerolinecolor": "white"
           },
           "zaxis": {
            "backgroundcolor": "#E5ECF6",
            "gridcolor": "white",
            "gridwidth": 2,
            "linecolor": "white",
            "showbackground": true,
            "ticks": "",
            "zerolinecolor": "white"
           }
          },
          "shapedefaults": {
           "line": {
            "color": "#2a3f5f"
           }
          },
          "ternary": {
           "aaxis": {
            "gridcolor": "white",
            "linecolor": "white",
            "ticks": ""
           },
           "baxis": {
            "gridcolor": "white",
            "linecolor": "white",
            "ticks": ""
           },
           "bgcolor": "#E5ECF6",
           "caxis": {
            "gridcolor": "white",
            "linecolor": "white",
            "ticks": ""
           }
          },
          "title": {
           "x": 0.05
          },
          "xaxis": {
           "automargin": true,
           "gridcolor": "white",
           "linecolor": "white",
           "ticks": "",
           "title": {
            "standoff": 15
           },
           "zerolinecolor": "white",
           "zerolinewidth": 2
          },
          "yaxis": {
           "automargin": true,
           "gridcolor": "white",
           "linecolor": "white",
           "ticks": "",
           "title": {
            "standoff": 15
           },
           "zerolinecolor": "white",
           "zerolinewidth": 2
          }
         }
        },
        "title": {
         "text": "Sentiment Distribution in the Dataset"
        },
        "xaxis": {
         "anchor": "y",
         "categoryarray": [
          "Positive",
          "Negative",
          "Neutral"
         ],
         "categoryorder": "array",
         "domain": [
          0,
          1
         ],
         "title": {
          "text": "Sentiment"
         }
        },
        "yaxis": {
         "anchor": "x",
         "domain": [
          0,
          1
         ],
         "title": {
          "text": "Count"
         }
        }
       }
      }
     },
     "metadata": {},
     "output_type": "display_data"
    },
    {
     "data": {
      "application/vnd.plotly.v1+json": {
       "config": {
        "plotlyServerURL": "https://plot.ly"
       },
       "data": [
        {
         "domain": {
          "x": [
           0,
           1
          ],
          "y": [
           0,
           1
          ]
         },
         "hovertemplate": "index=%{label}<br>sentiment_category=%{value}<extra></extra>",
         "labels": [
          "Positive",
          "Negative",
          "Neutral"
         ],
         "legendgroup": "",
         "name": "",
         "showlegend": true,
         "type": "pie",
         "values": [
          21089,
          1208,
          345
         ]
        }
       ],
       "layout": {
        "legend": {
         "tracegroupgap": 0
        },
        "template": {
         "data": {
          "bar": [
           {
            "error_x": {
             "color": "#2a3f5f"
            },
            "error_y": {
             "color": "#2a3f5f"
            },
            "marker": {
             "line": {
              "color": "#E5ECF6",
              "width": 0.5
             },
             "pattern": {
              "fillmode": "overlay",
              "size": 10,
              "solidity": 0.2
             }
            },
            "type": "bar"
           }
          ],
          "barpolar": [
           {
            "marker": {
             "line": {
              "color": "#E5ECF6",
              "width": 0.5
             },
             "pattern": {
              "fillmode": "overlay",
              "size": 10,
              "solidity": 0.2
             }
            },
            "type": "barpolar"
           }
          ],
          "carpet": [
           {
            "aaxis": {
             "endlinecolor": "#2a3f5f",
             "gridcolor": "white",
             "linecolor": "white",
             "minorgridcolor": "white",
             "startlinecolor": "#2a3f5f"
            },
            "baxis": {
             "endlinecolor": "#2a3f5f",
             "gridcolor": "white",
             "linecolor": "white",
             "minorgridcolor": "white",
             "startlinecolor": "#2a3f5f"
            },
            "type": "carpet"
           }
          ],
          "choropleth": [
           {
            "colorbar": {
             "outlinewidth": 0,
             "ticks": ""
            },
            "type": "choropleth"
           }
          ],
          "contour": [
           {
            "colorbar": {
             "outlinewidth": 0,
             "ticks": ""
            },
            "colorscale": [
             [
              0,
              "#0d0887"
             ],
             [
              0.1111111111111111,
              "#46039f"
             ],
             [
              0.2222222222222222,
              "#7201a8"
             ],
             [
              0.3333333333333333,
              "#9c179e"
             ],
             [
              0.4444444444444444,
              "#bd3786"
             ],
             [
              0.5555555555555556,
              "#d8576b"
             ],
             [
              0.6666666666666666,
              "#ed7953"
             ],
             [
              0.7777777777777778,
              "#fb9f3a"
             ],
             [
              0.8888888888888888,
              "#fdca26"
             ],
             [
              1,
              "#f0f921"
             ]
            ],
            "type": "contour"
           }
          ],
          "contourcarpet": [
           {
            "colorbar": {
             "outlinewidth": 0,
             "ticks": ""
            },
            "type": "contourcarpet"
           }
          ],
          "heatmap": [
           {
            "colorbar": {
             "outlinewidth": 0,
             "ticks": ""
            },
            "colorscale": [
             [
              0,
              "#0d0887"
             ],
             [
              0.1111111111111111,
              "#46039f"
             ],
             [
              0.2222222222222222,
              "#7201a8"
             ],
             [
              0.3333333333333333,
              "#9c179e"
             ],
             [
              0.4444444444444444,
              "#bd3786"
             ],
             [
              0.5555555555555556,
              "#d8576b"
             ],
             [
              0.6666666666666666,
              "#ed7953"
             ],
             [
              0.7777777777777778,
              "#fb9f3a"
             ],
             [
              0.8888888888888888,
              "#fdca26"
             ],
             [
              1,
              "#f0f921"
             ]
            ],
            "type": "heatmap"
           }
          ],
          "heatmapgl": [
           {
            "colorbar": {
             "outlinewidth": 0,
             "ticks": ""
            },
            "colorscale": [
             [
              0,
              "#0d0887"
             ],
             [
              0.1111111111111111,
              "#46039f"
             ],
             [
              0.2222222222222222,
              "#7201a8"
             ],
             [
              0.3333333333333333,
              "#9c179e"
             ],
             [
              0.4444444444444444,
              "#bd3786"
             ],
             [
              0.5555555555555556,
              "#d8576b"
             ],
             [
              0.6666666666666666,
              "#ed7953"
             ],
             [
              0.7777777777777778,
              "#fb9f3a"
             ],
             [
              0.8888888888888888,
              "#fdca26"
             ],
             [
              1,
              "#f0f921"
             ]
            ],
            "type": "heatmapgl"
           }
          ],
          "histogram": [
           {
            "marker": {
             "pattern": {
              "fillmode": "overlay",
              "size": 10,
              "solidity": 0.2
             }
            },
            "type": "histogram"
           }
          ],
          "histogram2d": [
           {
            "colorbar": {
             "outlinewidth": 0,
             "ticks": ""
            },
            "colorscale": [
             [
              0,
              "#0d0887"
             ],
             [
              0.1111111111111111,
              "#46039f"
             ],
             [
              0.2222222222222222,
              "#7201a8"
             ],
             [
              0.3333333333333333,
              "#9c179e"
             ],
             [
              0.4444444444444444,
              "#bd3786"
             ],
             [
              0.5555555555555556,
              "#d8576b"
             ],
             [
              0.6666666666666666,
              "#ed7953"
             ],
             [
              0.7777777777777778,
              "#fb9f3a"
             ],
             [
              0.8888888888888888,
              "#fdca26"
             ],
             [
              1,
              "#f0f921"
             ]
            ],
            "type": "histogram2d"
           }
          ],
          "histogram2dcontour": [
           {
            "colorbar": {
             "outlinewidth": 0,
             "ticks": ""
            },
            "colorscale": [
             [
              0,
              "#0d0887"
             ],
             [
              0.1111111111111111,
              "#46039f"
             ],
             [
              0.2222222222222222,
              "#7201a8"
             ],
             [
              0.3333333333333333,
              "#9c179e"
             ],
             [
              0.4444444444444444,
              "#bd3786"
             ],
             [
              0.5555555555555556,
              "#d8576b"
             ],
             [
              0.6666666666666666,
              "#ed7953"
             ],
             [
              0.7777777777777778,
              "#fb9f3a"
             ],
             [
              0.8888888888888888,
              "#fdca26"
             ],
             [
              1,
              "#f0f921"
             ]
            ],
            "type": "histogram2dcontour"
           }
          ],
          "mesh3d": [
           {
            "colorbar": {
             "outlinewidth": 0,
             "ticks": ""
            },
            "type": "mesh3d"
           }
          ],
          "parcoords": [
           {
            "line": {
             "colorbar": {
              "outlinewidth": 0,
              "ticks": ""
             }
            },
            "type": "parcoords"
           }
          ],
          "pie": [
           {
            "automargin": true,
            "type": "pie"
           }
          ],
          "scatter": [
           {
            "fillpattern": {
             "fillmode": "overlay",
             "size": 10,
             "solidity": 0.2
            },
            "type": "scatter"
           }
          ],
          "scatter3d": [
           {
            "line": {
             "colorbar": {
              "outlinewidth": 0,
              "ticks": ""
             }
            },
            "marker": {
             "colorbar": {
              "outlinewidth": 0,
              "ticks": ""
             }
            },
            "type": "scatter3d"
           }
          ],
          "scattercarpet": [
           {
            "marker": {
             "colorbar": {
              "outlinewidth": 0,
              "ticks": ""
             }
            },
            "type": "scattercarpet"
           }
          ],
          "scattergeo": [
           {
            "marker": {
             "colorbar": {
              "outlinewidth": 0,
              "ticks": ""
             }
            },
            "type": "scattergeo"
           }
          ],
          "scattergl": [
           {
            "marker": {
             "colorbar": {
              "outlinewidth": 0,
              "ticks": ""
             }
            },
            "type": "scattergl"
           }
          ],
          "scattermapbox": [
           {
            "marker": {
             "colorbar": {
              "outlinewidth": 0,
              "ticks": ""
             }
            },
            "type": "scattermapbox"
           }
          ],
          "scatterpolar": [
           {
            "marker": {
             "colorbar": {
              "outlinewidth": 0,
              "ticks": ""
             }
            },
            "type": "scatterpolar"
           }
          ],
          "scatterpolargl": [
           {
            "marker": {
             "colorbar": {
              "outlinewidth": 0,
              "ticks": ""
             }
            },
            "type": "scatterpolargl"
           }
          ],
          "scatterternary": [
           {
            "marker": {
             "colorbar": {
              "outlinewidth": 0,
              "ticks": ""
             }
            },
            "type": "scatterternary"
           }
          ],
          "surface": [
           {
            "colorbar": {
             "outlinewidth": 0,
             "ticks": ""
            },
            "colorscale": [
             [
              0,
              "#0d0887"
             ],
             [
              0.1111111111111111,
              "#46039f"
             ],
             [
              0.2222222222222222,
              "#7201a8"
             ],
             [
              0.3333333333333333,
              "#9c179e"
             ],
             [
              0.4444444444444444,
              "#bd3786"
             ],
             [
              0.5555555555555556,
              "#d8576b"
             ],
             [
              0.6666666666666666,
              "#ed7953"
             ],
             [
              0.7777777777777778,
              "#fb9f3a"
             ],
             [
              0.8888888888888888,
              "#fdca26"
             ],
             [
              1,
              "#f0f921"
             ]
            ],
            "type": "surface"
           }
          ],
          "table": [
           {
            "cells": {
             "fill": {
              "color": "#EBF0F8"
             },
             "line": {
              "color": "white"
             }
            },
            "header": {
             "fill": {
              "color": "#C8D4E3"
             },
             "line": {
              "color": "white"
             }
            },
            "type": "table"
           }
          ]
         },
         "layout": {
          "annotationdefaults": {
           "arrowcolor": "#2a3f5f",
           "arrowhead": 0,
           "arrowwidth": 1
          },
          "autotypenumbers": "strict",
          "coloraxis": {
           "colorbar": {
            "outlinewidth": 0,
            "ticks": ""
           }
          },
          "colorscale": {
           "diverging": [
            [
             0,
             "#8e0152"
            ],
            [
             0.1,
             "#c51b7d"
            ],
            [
             0.2,
             "#de77ae"
            ],
            [
             0.3,
             "#f1b6da"
            ],
            [
             0.4,
             "#fde0ef"
            ],
            [
             0.5,
             "#f7f7f7"
            ],
            [
             0.6,
             "#e6f5d0"
            ],
            [
             0.7,
             "#b8e186"
            ],
            [
             0.8,
             "#7fbc41"
            ],
            [
             0.9,
             "#4d9221"
            ],
            [
             1,
             "#276419"
            ]
           ],
           "sequential": [
            [
             0,
             "#0d0887"
            ],
            [
             0.1111111111111111,
             "#46039f"
            ],
            [
             0.2222222222222222,
             "#7201a8"
            ],
            [
             0.3333333333333333,
             "#9c179e"
            ],
            [
             0.4444444444444444,
             "#bd3786"
            ],
            [
             0.5555555555555556,
             "#d8576b"
            ],
            [
             0.6666666666666666,
             "#ed7953"
            ],
            [
             0.7777777777777778,
             "#fb9f3a"
            ],
            [
             0.8888888888888888,
             "#fdca26"
            ],
            [
             1,
             "#f0f921"
            ]
           ],
           "sequentialminus": [
            [
             0,
             "#0d0887"
            ],
            [
             0.1111111111111111,
             "#46039f"
            ],
            [
             0.2222222222222222,
             "#7201a8"
            ],
            [
             0.3333333333333333,
             "#9c179e"
            ],
            [
             0.4444444444444444,
             "#bd3786"
            ],
            [
             0.5555555555555556,
             "#d8576b"
            ],
            [
             0.6666666666666666,
             "#ed7953"
            ],
            [
             0.7777777777777778,
             "#fb9f3a"
            ],
            [
             0.8888888888888888,
             "#fdca26"
            ],
            [
             1,
             "#f0f921"
            ]
           ]
          },
          "colorway": [
           "#636efa",
           "#EF553B",
           "#00cc96",
           "#ab63fa",
           "#FFA15A",
           "#19d3f3",
           "#FF6692",
           "#B6E880",
           "#FF97FF",
           "#FECB52"
          ],
          "font": {
           "color": "#2a3f5f"
          },
          "geo": {
           "bgcolor": "white",
           "lakecolor": "white",
           "landcolor": "#E5ECF6",
           "showlakes": true,
           "showland": true,
           "subunitcolor": "white"
          },
          "hoverlabel": {
           "align": "left"
          },
          "hovermode": "closest",
          "mapbox": {
           "style": "light"
          },
          "paper_bgcolor": "white",
          "plot_bgcolor": "#E5ECF6",
          "polar": {
           "angularaxis": {
            "gridcolor": "white",
            "linecolor": "white",
            "ticks": ""
           },
           "bgcolor": "#E5ECF6",
           "radialaxis": {
            "gridcolor": "white",
            "linecolor": "white",
            "ticks": ""
           }
          },
          "scene": {
           "xaxis": {
            "backgroundcolor": "#E5ECF6",
            "gridcolor": "white",
            "gridwidth": 2,
            "linecolor": "white",
            "showbackground": true,
            "ticks": "",
            "zerolinecolor": "white"
           },
           "yaxis": {
            "backgroundcolor": "#E5ECF6",
            "gridcolor": "white",
            "gridwidth": 2,
            "linecolor": "white",
            "showbackground": true,
            "ticks": "",
            "zerolinecolor": "white"
           },
           "zaxis": {
            "backgroundcolor": "#E5ECF6",
            "gridcolor": "white",
            "gridwidth": 2,
            "linecolor": "white",
            "showbackground": true,
            "ticks": "",
            "zerolinecolor": "white"
           }
          },
          "shapedefaults": {
           "line": {
            "color": "#2a3f5f"
           }
          },
          "ternary": {
           "aaxis": {
            "gridcolor": "white",
            "linecolor": "white",
            "ticks": ""
           },
           "baxis": {
            "gridcolor": "white",
            "linecolor": "white",
            "ticks": ""
           },
           "bgcolor": "#E5ECF6",
           "caxis": {
            "gridcolor": "white",
            "linecolor": "white",
            "ticks": ""
           }
          },
          "title": {
           "x": 0.05
          },
          "xaxis": {
           "automargin": true,
           "gridcolor": "white",
           "linecolor": "white",
           "ticks": "",
           "title": {
            "standoff": 15
           },
           "zerolinecolor": "white",
           "zerolinewidth": 2
          },
          "yaxis": {
           "automargin": true,
           "gridcolor": "white",
           "linecolor": "white",
           "ticks": "",
           "title": {
            "standoff": 15
           },
           "zerolinecolor": "white",
           "zerolinewidth": 2
          }
         }
        },
        "title": {
         "text": "Sentiment Distribution in the Dataset"
        }
       }
      }
     },
     "metadata": {},
     "output_type": "display_data"
    }
   ],
   "source": [
    "import matplotlib.pyplot as plt\n",
    "import matplotlib.gridspec as gridspec \n",
    "import seaborn as sns\n",
    "import plotly.express as px\n",
    "# Calculate the total positive, negative, and neutral sentiments using value_counts()\n",
    "sentiment_counts = dataset['sentiment_category'].value_counts().reset_index()\n",
    "\n",
    "# Create a bar plot using Plotly Express to visualize the distribution of sentiments\n",
    "fig_bar = px.bar(sentiment_counts, x='index', y='sentiment_category', color='index',\n",
    "                 labels={'index': 'Sentiment', 'sentiment_category': 'Count'},\n",
    "                 title='Sentiment Distribution in the Dataset')\n",
    "\n",
    "# Create a pie chart using Plotly Express to visualize the distribution of sentiments\n",
    "fig_pie = px.pie(sentiment_counts, values='sentiment_category', names='index',\n",
    "                 title='Sentiment Distribution in the Dataset')\n",
    "\n",
    "# Display both the bar plot and pie chart side by side\n",
    "fig_bar.show()\n",
    "fig_pie.show()"
   ]
  },
  {
   "cell_type": "code",
   "execution_count": 9,
   "metadata": {},
   "outputs": [
    {
     "data": {
      "text/plain": [
       "5    12541\n",
       "4     4908\n",
       "3     2823\n",
       "2     1549\n",
       "1      821\n",
       "Name: Rating, dtype: int64"
      ]
     },
     "execution_count": 9,
     "metadata": {},
     "output_type": "execute_result"
    }
   ],
   "source": [
    "dataset.Rating.value_counts()"
   ]
  },
  {
   "cell_type": "code",
   "execution_count": 10,
   "metadata": {},
   "outputs": [
    {
     "data": {
      "text/html": [
       "<div>\n",
       "<style scoped>\n",
       "    .dataframe tbody tr th:only-of-type {\n",
       "        vertical-align: middle;\n",
       "    }\n",
       "\n",
       "    .dataframe tbody tr th {\n",
       "        vertical-align: top;\n",
       "    }\n",
       "\n",
       "    .dataframe thead th {\n",
       "        text-align: right;\n",
       "    }\n",
       "</style>\n",
       "<table border=\"1\" class=\"dataframe\">\n",
       "  <thead>\n",
       "    <tr style=\"text-align: right;\">\n",
       "      <th>Rating</th>\n",
       "      <th>1</th>\n",
       "      <th>2</th>\n",
       "      <th>3</th>\n",
       "      <th>4</th>\n",
       "      <th>5</th>\n",
       "    </tr>\n",
       "    <tr>\n",
       "      <th>sentiment_category</th>\n",
       "      <th></th>\n",
       "      <th></th>\n",
       "      <th></th>\n",
       "      <th></th>\n",
       "      <th></th>\n",
       "    </tr>\n",
       "  </thead>\n",
       "  <tbody>\n",
       "    <tr>\n",
       "      <th>Negative</th>\n",
       "      <td>286</td>\n",
       "      <td>330</td>\n",
       "      <td>348</td>\n",
       "      <td>147</td>\n",
       "      <td>97</td>\n",
       "    </tr>\n",
       "    <tr>\n",
       "      <th>Neutral</th>\n",
       "      <td>58</td>\n",
       "      <td>87</td>\n",
       "      <td>112</td>\n",
       "      <td>53</td>\n",
       "      <td>35</td>\n",
       "    </tr>\n",
       "    <tr>\n",
       "      <th>Positive</th>\n",
       "      <td>477</td>\n",
       "      <td>1132</td>\n",
       "      <td>2363</td>\n",
       "      <td>4708</td>\n",
       "      <td>12409</td>\n",
       "    </tr>\n",
       "  </tbody>\n",
       "</table>\n",
       "</div>"
      ],
      "text/plain": [
       "Rating                1     2     3     4      5\n",
       "sentiment_category                              \n",
       "Negative            286   330   348   147     97\n",
       "Neutral              58    87   112    53     35\n",
       "Positive            477  1132  2363  4708  12409"
      ]
     },
     "execution_count": 10,
     "metadata": {},
     "output_type": "execute_result"
    }
   ],
   "source": [
    "pd.crosstab(dataset.sentiment_category, dataset.Rating)"
   ]
  },
  {
   "cell_type": "code",
   "execution_count": 11,
   "metadata": {},
   "outputs": [],
   "source": [
    "\"\"\" Divide the data into three groups on the basis of sentiments like positive, negative and neutral \"\"\"\n",
    "dataset_neg = dataset[(dataset.sentiment_category=='Negative')]\n",
    "dataset_pos = dataset[(dataset.sentiment_category=='Positive')]\n",
    "dataset_neu = dataset[(dataset.sentiment_category=='Neutral')]"
   ]
  },
  {
   "cell_type": "code",
   "execution_count": 12,
   "metadata": {},
   "outputs": [
    {
     "data": {
      "text/plain": [
       "Index(['Product_ID', 'Category', 'SubCategory1', 'SubCategory2', 'Location',\n",
       "       'Channel', 'Customer_Age', 'Rating', 'Recommend_Flag', 'Merged_Review',\n",
       "       'sentiment_score', 'sentiment_category'],\n",
       "      dtype='object')"
      ]
     },
     "execution_count": 12,
     "metadata": {},
     "output_type": "execute_result"
    }
   ],
   "source": [
    "dataset.columns"
   ]
  },
  {
   "cell_type": "code",
   "execution_count": 13,
   "metadata": {},
   "outputs": [
    {
     "name": "stdout",
     "output_type": "stream",
     "text": [
      "(16981,)\n",
      "(5661,)\n",
      "(16981,)\n",
      "(5661,)\n"
     ]
    }
   ],
   "source": [
    "\"\"\" plit the data into train & Test where y variable is Rating \"\"\"\n",
    "from sklearn.model_selection import train_test_split\n",
    "## X-variable is Merged_Review and y-variable is Rating\n",
    "# define X and y\n",
    "X = dataset.Merged_Review\n",
    "y = dataset.Rating\n",
    "\n",
    "# split the new DataFrame into training and testing sets\n",
    "X_train, X_test, y_train, y_test = train_test_split(X, y, random_state=1)\n",
    "print(X_train.shape)\n",
    "print(X_test.shape)\n",
    "print(y_train.shape)\n",
    "print(y_test.shape)"
   ]
  },
  {
   "cell_type": "code",
   "execution_count": 14,
   "metadata": {},
   "outputs": [
    {
     "name": "stdout",
     "output_type": "stream",
     "text": [
      "(15816,)\n",
      "(5273,)\n",
      "(15816,)\n",
      "(5273,)\n"
     ]
    }
   ],
   "source": [
    "\"\"\" Split the data into train & Test for positive sentiments and negative sentiments \"\"\"\n",
    "# create a new DataFrame that only contains the 5 Rating and 1-Rating reviews\n",
    "# define X and y\n",
    "X2 = dataset_pos.Merged_Review\n",
    "y2 = dataset_pos.Rating\n",
    "\n",
    "# split the new DataFrame into training and testing sets\n",
    "X2_train, X2_test, y2_train, y2_test = train_test_split(X2, y2, random_state=1)\n",
    "print(X2_train.shape)\n",
    "print(X2_test.shape)\n",
    "print(y2_train.shape)\n",
    "print(y2_test.shape)"
   ]
  },
  {
   "cell_type": "code",
   "execution_count": 15,
   "metadata": {},
   "outputs": [
    {
     "name": "stdout",
     "output_type": "stream",
     "text": [
      "(906,)\n",
      "(302,)\n",
      "(906,)\n",
      "(302,)\n"
     ]
    }
   ],
   "source": [
    "# define X and y\n",
    "X1 = dataset_neg.Merged_Review\n",
    "y1 = dataset_neg.Rating\n",
    "\n",
    "# split the new DataFrame into training and testing sets\n",
    "X1_train, X1_test, y1_train, y1_test = train_test_split(X1, y1, random_state=1)\n",
    "print(X1_train.shape)\n",
    "print(X1_test.shape)\n",
    "print(y1_train.shape)\n",
    "print(y1_test.shape)"
   ]
  },
  {
   "cell_type": "code",
   "execution_count": 16,
   "metadata": {},
   "outputs": [
    {
     "data": {
      "text/plain": [
       "(21089, 12)"
      ]
     },
     "execution_count": 16,
     "metadata": {},
     "output_type": "execute_result"
    }
   ],
   "source": [
    "dataset_pos.shape"
   ]
  },
  {
   "cell_type": "code",
   "execution_count": 17,
   "metadata": {},
   "outputs": [
    {
     "data": {
      "text/plain": [
       "(1208, 12)"
      ]
     },
     "execution_count": 17,
     "metadata": {},
     "output_type": "execute_result"
    }
   ],
   "source": [
    "dataset_neg.shape"
   ]
  },
  {
   "cell_type": "code",
   "execution_count": 18,
   "metadata": {},
   "outputs": [],
   "source": [
    "\"\"\" Creating user defined functions for clean the text and pre-process the data \"\"\"\n",
    "import re\n",
    "from nltk.tokenize import word_tokenize\n",
    "def clean_text(Merged_Review):\n",
    "    Merged_Review = Merged_Review.lower()\n",
    "    Merged_Review = Merged_Review.strip()\n",
    "    Merged_Review = re.sub(r' +', ' ', Merged_Review)\n",
    "    Merged_Review = re.sub(r\"[-()\\\"#/@;:{}`+=~|.!?*&£%€¦_><‘|,'0-9]\", \"\", Merged_Review)\n",
    "    Merged_Review = Merged_Review.replace('wat', 'what').replace('txts', 'texts').replace('vry', 'very').replace('gud', 'good').replace('nyt', 'night').replace('msg', 'message')\n",
    "    return Merged_Review"
   ]
  },
  {
   "cell_type": "code",
   "execution_count": 19,
   "metadata": {},
   "outputs": [
    {
     "name": "stdout",
     "output_type": "stream",
     "text": [
      "['i', 'own', 'our', \"couldn't\", 's', \"won't\", 'and', 'just', 'a', 'you', 'shouldn', 'ma', 'ain', 'is', 'y', 'both', 'haven', 'here', 'd', 'against', 'theirs', 'each', 'only', 'herself', 'again', 'she', 'under', \"that'll\", \"aren't\", 'about', 'have', 'who', \"she's\", 'so', \"should've\", 'are', 'wasn', 'has', 'doing', 'on', 'at', 'by', 'needn', 'over', 'hasn', 'mightn', 'wouldn', \"didn't\", 'he', 'below', 'itself', 'we', 'his', 'o', \"shouldn't\", 'with', 'most', 'yourself', 'but', 'being', \"doesn't\", 'didn', 'before', 'very', 'such', \"isn't\", \"it's\", 'having', \"haven't\", 'had', 't', \"mustn't\", 'yours', 'does', 'than', \"you'll\", 'down', 'between', 'him', 'was', 'will', 'into', 'or', 'doesn', 're', 'too', 'those', 'couldn', 'ours', 'there', 'while', 'aren', 'because', 'for', 'why', 'nor', 'been', 'what', 'as', 'weren', 'an', 'shan', 'off', 'no', 'this', 'should', 'can', 'above', \"weren't\", 'them', 'any', 'more', 'all', 'of', 'until', \"mightn't\", 'my', \"wasn't\", 'her', 'the', 'to', 'after', 'if', 'same', 'hers', 'won', 'ourselves', \"shan't\", 'your', 'from', 'during', 'll', 'they', 'be', 'myself', 'that', \"hasn't\", 'further', 'which', \"needn't\", 'himself', 'it', \"you'd\", 'other', 'some', 'yourselves', 'whom', \"you've\", 'their', 'out', 'isn', 'themselves', 'me', 'not', 'up', 'its', 'don', 'do', 'then', 'these', 'when', 'how', 'few', 'mustn', 'am', 'm', \"don't\", 'through', 'in', 'now', 'hadn', 'were', 'once', \"wouldn't\", \"hadn't\", 've', 'where', 'did', \"you're\"]\n"
     ]
    },
    {
     "name": "stderr",
     "output_type": "stream",
     "text": [
      "[nltk_data] Downloading package stopwords to C:\\Users\\Raksa\n",
      "[nltk_data]     Kun\\AppData\\Roaming\\nltk_data...\n",
      "[nltk_data]   Package stopwords is already up-to-date!\n"
     ]
    }
   ],
   "source": [
    "import nltk\n",
    "nltk.download('stopwords')\n",
    "\n",
    "sw = list(set(nltk.corpus.stopwords.words('english')))\n",
    "print(sw)"
   ]
  },
  {
   "cell_type": "code",
   "execution_count": 20,
   "metadata": {},
   "outputs": [
    {
     "name": "stderr",
     "output_type": "stream",
     "text": [
      "[nltk_data] Downloading package punkt to C:\\Users\\Raksa\n",
      "[nltk_data]     Kun\\AppData\\Roaming\\nltk_data...\n",
      "[nltk_data]   Package punkt is already up-to-date!\n",
      "[nltk_data] Downloading package wordnet to C:\\Users\\Raksa\n",
      "[nltk_data]     Kun\\AppData\\Roaming\\nltk_data...\n",
      "[nltk_data]   Package wordnet is already up-to-date!\n",
      "[nltk_data] Downloading package stopwords to C:\\Users\\Raksa\n",
      "[nltk_data]     Kun\\AppData\\Roaming\\nltk_data...\n",
      "[nltk_data]   Package stopwords is already up-to-date!\n"
     ]
    }
   ],
   "source": [
    "import string\n",
    "import nltk\n",
    "from nltk.corpus import stopwords\n",
    "from nltk.tokenize import word_tokenize\n",
    "from nltk.stem import WordNetLemmatizer\n",
    "\n",
    "# Download NLTK resources\n",
    "nltk.download('punkt')\n",
    "nltk.download('wordnet')\n",
    "nltk.download('stopwords')\n",
    "\n",
    "# Create a set of English stopwords\n",
    "stop = set(stopwords.words('english'))\n",
    "\n",
    "# Initialize the WordNetLemmatizer\n",
    "lemmatizer = WordNetLemmatizer()\n",
    "\n",
    "def pre_process(Merged_Review):\n",
    "    Merged_Review = Merged_Review.str.replace('/', '')  # Replacing the / with none\n",
    "    Merged_Review = Merged_Review.apply(lambda x: \" \".join(word for word in word_tokenize(x) if word not in stop))  # Removing stop words\n",
    "    Merged_Review = Merged_Review.apply(lambda x: \" \".join(lemmatizer.lemmatize(word) for word in word_tokenize(x)))  # Lemmatization\n",
    "    return Merged_Review"
   ]
  },
  {
   "cell_type": "code",
   "execution_count": 21,
   "metadata": {},
   "outputs": [],
   "source": [
    "X_train = X_train.apply(lambda x: clean_text(x))\n",
    "X_test = X_test.apply(lambda x: clean_text(x))"
   ]
  },
  {
   "cell_type": "code",
   "execution_count": 22,
   "metadata": {},
   "outputs": [],
   "source": [
    "X_train=pre_process(X_train)\n",
    "X_test=pre_process(X_test)"
   ]
  },
  {
   "cell_type": "markdown",
   "metadata": {},
   "source": [
    "CLean the text and pre-process the data for positive sentiments\n"
   ]
  },
  {
   "cell_type": "code",
   "execution_count": 23,
   "metadata": {},
   "outputs": [],
   "source": [
    "X2_train = X2_train.apply(lambda x: clean_text(x))\n",
    "X2_test = X2_test.apply(lambda x: clean_text(x))"
   ]
  },
  {
   "cell_type": "code",
   "execution_count": 24,
   "metadata": {},
   "outputs": [],
   "source": [
    "X2_train=pre_process(X2_train)\n",
    "X2_test=pre_process(X2_test)"
   ]
  },
  {
   "cell_type": "code",
   "execution_count": 25,
   "metadata": {},
   "outputs": [
    {
     "data": {
      "text/plain": [
       "16673    gorgous design poor fit suit absolutely gorgeo...\n",
       "6499     knockoff dress gorgeous flattering oood qualit...\n",
       "8615     cozy soft shirt love shirt subdued color casua...\n",
       "17057    classy tried store ended size almost could gon...\n",
       "8238     dont try arent prepared buy love jacket great ...\n",
       "                               ...                        \n",
       "11754             love love shirt fit great cute must fall\n",
       "18557    im thrilled fabric little heavier fit really w...\n",
       "5567     cute run large top run large loose fitting mid...\n",
       "13057    wanted love like feel stretch softness dress c...\n",
       "253      pretty denim jacket perfect jacket shirt tee d...\n",
       "Name: Merged_Review, Length: 15816, dtype: object"
      ]
     },
     "execution_count": 25,
     "metadata": {},
     "output_type": "execute_result"
    }
   ],
   "source": [
    "X2_train"
   ]
  },
  {
   "cell_type": "markdown",
   "metadata": {},
   "source": [
    "CLean the text and pre-process the data for negative sentiments"
   ]
  },
  {
   "cell_type": "code",
   "execution_count": 26,
   "metadata": {},
   "outputs": [],
   "source": [
    "X1_train = X1_train.apply(lambda x: clean_text(x))\n",
    "X1_test = X1_test.apply(lambda x: clean_text(x))"
   ]
  },
  {
   "cell_type": "code",
   "execution_count": 27,
   "metadata": {},
   "outputs": [],
   "source": [
    "X1_train=pre_process(X1_train)\n",
    "X1_test=pre_process(X1_test)"
   ]
  },
  {
   "cell_type": "code",
   "execution_count": 28,
   "metadata": {},
   "outputs": [
    {
     "data": {
      "text/plain": [
       "13594    doesnt look like photo arrived week disappoint...\n",
       "13390    didnt work im shorter side spectrum usually we...\n",
       "3903     product hole pocket area soft comfortable jack...\n",
       "18013    returning thought dress would perfect th birth...\n",
       "15187    returned immediately first product arrived sma...\n",
       "                               ...                        \n",
       "13868    odd fit dress odd fit loose top pointy dart ti...\n",
       "17329    fabric comfortable pretty blouse polyester fab...\n",
       "20594    underwhelmed stalked blouse price dropped poun...\n",
       "4369     white background love top everything previous ...\n",
       "19826    oh dear elastic waistband ruined skirt meit ma...\n",
       "Name: Merged_Review, Length: 906, dtype: object"
      ]
     },
     "execution_count": 28,
     "metadata": {},
     "output_type": "execute_result"
    }
   ],
   "source": [
    "X1_train"
   ]
  },
  {
   "cell_type": "markdown",
   "metadata": {},
   "source": [
    "Vectorization (Count, Tfidf) for positive sentiments"
   ]
  },
  {
   "cell_type": "code",
   "execution_count": 29,
   "metadata": {},
   "outputs": [],
   "source": [
    "from sklearn.feature_extraction.text import TfidfVectorizer, CountVectorizer, HashingVectorizer, TfidfTransformer\n",
    "#Train\n",
    "count_vect2 = CountVectorizer(analyzer='word', token_pattern=r'\\w{1,}', \n",
    "                             ngram_range=(1, 1 ), \n",
    "                             min_df=5, \n",
    "                             encoding='latin-1' ,\n",
    "                             max_features=800)\n",
    "xtrain2_count = count_vect2.fit_transform(X2_train)"
   ]
  },
  {
   "cell_type": "code",
   "execution_count": 30,
   "metadata": {},
   "outputs": [
    {
     "data": {
      "text/plain": [
       "<15816x800 sparse matrix of type '<class 'numpy.int64'>'\n",
       "\twith 363350 stored elements in Compressed Sparse Row format>"
      ]
     },
     "execution_count": 30,
     "metadata": {},
     "output_type": "execute_result"
    }
   ],
   "source": [
    "xtrain2_count"
   ]
  },
  {
   "cell_type": "markdown",
   "metadata": {},
   "source": [
    "Vectorization (Count, Tfidf) for negative sentiments\n"
   ]
  },
  {
   "cell_type": "code",
   "execution_count": 31,
   "metadata": {},
   "outputs": [],
   "source": [
    "#Train\n",
    "count_vect1 = CountVectorizer(analyzer='word', token_pattern=r'\\w{1,}', \n",
    "                             ngram_range=(1, 1 ), \n",
    "                             min_df=5, \n",
    "                             encoding='latin-1' ,\n",
    "                             max_features=800)\n",
    "xtrain1_count = count_vect1.fit_transform(X1_train)"
   ]
  },
  {
   "cell_type": "code",
   "execution_count": 32,
   "metadata": {},
   "outputs": [
    {
     "data": {
      "text/plain": [
       "<906x800 sparse matrix of type '<class 'numpy.int64'>'\n",
       "\twith 19773 stored elements in Compressed Sparse Row format>"
      ]
     },
     "execution_count": 32,
     "metadata": {},
     "output_type": "execute_result"
    }
   ],
   "source": [
    "xtrain1_count"
   ]
  },
  {
   "cell_type": "markdown",
   "metadata": {},
   "source": [
    "View the document term metrics for positive sentiments\n"
   ]
  },
  {
   "cell_type": "code",
   "execution_count": 33,
   "metadata": {},
   "outputs": [],
   "source": [
    "dtm=xtrain2_count.toarray()"
   ]
  },
  {
   "cell_type": "code",
   "execution_count": 34,
   "metadata": {},
   "outputs": [
    {
     "data": {
      "text/plain": [
       "array(['able', 'absolutely', 'across', 'actually', 'add', 'added',\n",
       "       'addition', 'adorable', 'adore', 'ag', 'ago', 'agree', 'airy',\n",
       "       'aline', 'almost', 'along', 'already', 'also', 'although',\n",
       "       'always', 'amazing', 'amount', 'anighthing', 'ankle', 'another',\n",
       "       'anyone', 'anyway', 'appears', 'appropriate', 'area', 'arent',\n",
       "       'arm', 'armhole', 'around', 'arrived', 'athletic', 'attractive',\n",
       "       'available', 'average', 'away', 'awesome', 'awkward', 'b', 'baby',\n",
       "       'back', 'bad', 'bag', 'baggy', 'band', 'barely', 'based', 'basic',\n",
       "       'bc', 'beach', 'beading', 'beautiful', 'beautifully', 'beauty',\n",
       "       'believe', 'belly', 'belt', 'best', 'better', 'big', 'bigger',\n",
       "       'billowy', 'bit', 'black', 'blazer', 'blouse', 'blue', 'bodice',\n",
       "       'body', 'boot', 'booty', 'bottom', 'bought', 'boxy', 'bra',\n",
       "       'brand', 'breezy', 'bright', 'broad', 'brown', 'build', 'bulky',\n",
       "       'bust', 'busty', 'butt', 'button', 'buy', 'buying', 'c', 'came',\n",
       "       'cami', 'camisole', 'cant', 'cardigan', 'care', 'case', 'casual',\n",
       "       'caught', 'chance', 'cheap', 'chest', 'chested', 'chic', 'classic',\n",
       "       'classy', 'clean', 'clingy', 'close', 'closet', 'clothes',\n",
       "       'clothing', 'coat', 'cold', 'collar', 'color', 'colored',\n",
       "       'combination', 'come', 'comfort', 'comfortable', 'comfy',\n",
       "       'complaint', 'completely', 'compliment', 'considering', 'cool',\n",
       "       'cooler', 'coral', 'cotton', 'could', 'couldnt', 'couple', 'cover',\n",
       "       'coverage', 'cozy', 'cream', 'crop', 'cropped', 'cuff', 'cup',\n",
       "       'curve', 'curvy', 'cut', 'cute', 'cuter', 'dark', 'darker',\n",
       "       'daughter', 'day', 'dd', 'deal', 'decided', 'deep', 'definitely',\n",
       "       'delicate', 'denim', 'depending', 'description', 'design',\n",
       "       'despite', 'detail', 'detailing', 'didnt', 'different',\n",
       "       'difficult', 'dinner', 'disappointed', 'doesnt', 'done', 'dont',\n",
       "       'dot', 'drape', 'dream', 'dress', 'dressed', 'dressing', 'dressy',\n",
       "       'dry', 'due', 'easily', 'easy', 'edge', 'either', 'elastic',\n",
       "       'elegant', 'else', 'embroidery', 'end', 'ended', 'enough',\n",
       "       'especially', 'etc', 'even', 'evening', 'event', 'ever', 'every',\n",
       "       'everyday', 'everyone', 'everything', 'everywhere', 'exactly',\n",
       "       'excellent', 'except', 'exchange', 'excited', 'expect', 'expected',\n",
       "       'expecting', 'expensive', 'extra', 'extremely', 'eye', 'fabric',\n",
       "       'fabulous', 'fact', 'fairly', 'fall', 'fan', 'fantastic', 'far',\n",
       "       'favorite', 'feel', 'feeling', 'fell', 'felt', 'feminine',\n",
       "       'figure', 'finally', 'find', 'finding', 'fine', 'first', 'fit',\n",
       "       'fitted', 'fitting', 'flare', 'flat', 'flattering', 'flaw',\n",
       "       'floral', 'flow', 'flower', 'flowing', 'flowy', 'foot',\n",
       "       'forgiving', 'form', 'forward', 'found', 'frame', 'friend',\n",
       "       'front', 'frumpy', 'full', 'fun', 'gave', 'generally', 'get',\n",
       "       'getting', 'girl', 'give', 'glad', 'glove', 'go', 'going', 'gold',\n",
       "       'gone', 'good', 'gorgeous', 'got', 'gotten', 'gray', 'great',\n",
       "       'green', 'grey', 'guess', 'half', 'hand', 'hang', 'hanging',\n",
       "       'happy', 'hard', 'havent', 'heavier', 'heavy', 'heel', 'height',\n",
       "       'help', 'hem', 'hide', 'high', 'higher', 'highly', 'hip', 'hit',\n",
       "       'hold', 'hole', 'holiday', 'home', 'hope', 'hoped', 'hoping',\n",
       "       'hot', 'hour', 'hourglass', 'house', 'however', 'hug', 'huge',\n",
       "       'hung', 'husband', 'id', 'idea', 'ill', 'im', 'imagine',\n",
       "       'immediately', 'inch', 'incredibly', 'inside', 'instead',\n",
       "       'interesting', 'isnt', 'issue', 'itchy', 'item', 'ive', 'ivory',\n",
       "       'jacket', 'jean', 'jumpsuit', 'justice', 'keep', 'keeper',\n",
       "       'keeping', 'kept', 'kind', 'knee', 'knew', 'knit', 'know', 'l',\n",
       "       'lace', 'lady', 'large', 'larger', 'last', 'lay', 'layer',\n",
       "       'layered', 'layering', 'lb', 'le', 'least', 'leather', 'left',\n",
       "       'leg', 'legging', 'length', 'let', 'light', 'lighter',\n",
       "       'lightweight', 'like', 'liked', 'line', 'lined', 'linen', 'lining',\n",
       "       'little', 'live', 'local', 'long', 'longer', 'look', 'looked',\n",
       "       'looking', 'loose', 'looser', 'lot', 'love', 'loved', 'lovely',\n",
       "       'low', 'lower', 'machine', 'made', 'maeve', 'mail', 'make',\n",
       "       'making', 'many', 'match', 'material', 'maternity', 'maxi', 'may',\n",
       "       'maybe', 'mean', 'meant', 'medium', 'mentioned', 'mid', 'middle',\n",
       "       'might', 'mind', 'mine', 'model', 'money', 'month', 'motif',\n",
       "       'move', 'movement', 'much', 'must', 'narrow', 'natural', 'navy',\n",
       "       'neck', 'necklace', 'neckline', 'need', 'needed', 'neutral',\n",
       "       'never', 'new', 'next', 'nice', 'nicely', 'night', 'normal',\n",
       "       'normally', 'note', 'nothing', 'noticed', 'nude', 'occasion',\n",
       "       'odd', 'office', 'often', 'oh', 'ok', 'okay', 'old', 'one',\n",
       "       'online', 'open', 'opening', 'opinion', 'option', 'orange',\n",
       "       'order', 'ordered', 'ordering', 'originally', 'others',\n",
       "       'otherwise', 'outfit', 'overall', 'oversized', 'p', 'pair',\n",
       "       'paired', 'pant', 'part', 'party', 'pas', 'past', 'pattern', 'pay',\n",
       "       'pencil', 'people', 'peplum', 'perfect', 'perfection', 'perfectly',\n",
       "       'perhaps', 'person', 'petite', 'photo', 'pic', 'picture',\n",
       "       'pictured', 'piece', 'pilcro', 'pink', 'place', 'plaid', 'plain',\n",
       "       'plan', 'please', 'pleased', 'pleat', 'plenty', 'plus', 'pocket',\n",
       "       'point', 'poncho', 'poor', 'pop', 'portion', 'pound', 'prefer',\n",
       "       'pregnant', 'prettier', 'pretty', 'previous', 'price', 'pricey',\n",
       "       'print', 'probably', 'problem', 'product', 'pull', 'pulled',\n",
       "       'purchase', 'purchased', 'purchasing', 'purple', 'put', 'quality',\n",
       "       'quite', 'ran', 'rather', 'read', 'reading', 'real', 'really',\n",
       "       'reason', 'received', 'recently', 'recommend', 'red', 'reference',\n",
       "       'regular', 'relaxed', 'rest', 'retailer', 'return', 'returned',\n",
       "       'returning', 'review', 'reviewer', 'rich', 'right', 'rise',\n",
       "       'romantic', 'romper', 'room', 'roomy', 'ruffle', 'run', 'running',\n",
       "       'sack', 'sad', 'sadly', 'said', 'sale', 'sandal', 'saw', 'say',\n",
       "       'scarf', 'scratchy', 'seam', 'season', 'second', 'section', 'see',\n",
       "       'seem', 'seemed', 'seems', 'seen', 'seethrough', 'send', 'several',\n",
       "       'sewn', 'sexy', 'shade', 'shape', 'sheer', 'shirt', 'shoe',\n",
       "       'short', 'shorter', 'shoulder', 'show', 'showing', 'shown',\n",
       "       'shrink', 'side', 'silhouette', 'silk', 'silky', 'similar',\n",
       "       'simple', 'simply', 'since', 'size', 'sized', 'sizing', 'skin',\n",
       "       'skinny', 'skirt', 'sleeve', 'slender', 'slight', 'slightly',\n",
       "       'slim', 'slimming', 'slip', 'slit', 'small', 'smaller', 'snag',\n",
       "       'snug', 'soft', 'sold', 'solid', 'someone', 'something',\n",
       "       'sometimes', 'somewhat', 'soon', 'sort', 'special', 'spot',\n",
       "       'spring', 'stand', 'staple', 'star', 'stay', 'stiff', 'still',\n",
       "       'stitching', 'stock', 'stomach', 'store', 'straight', 'strange',\n",
       "       'strap', 'stretch', 'stretchy', 'stripe', 'structured', 'stunning',\n",
       "       'style', 'styling', 'stylish', 'substantial', 'subtle', 'suit',\n",
       "       'summer', 'super', 'sure', 'surprise', 'surprised', 'sweater',\n",
       "       'sweatshirt', 'sweet', 'swing', 'swingy', 'tad', 'tag', 'tailored',\n",
       "       'take', 'tall', 'taller', 'tank', 'tee', 'tell', 'tent', 'texture',\n",
       "       'th', 'thats', 'there', 'theyre', 'thick', 'thicker', 'thigh',\n",
       "       'thin', 'thing', 'think', 'thinking', 'though', 'thought',\n",
       "       'thread', 'three', 'throw', 'tie', 'tight', 'tights', 'time',\n",
       "       'tiny', 'today', 'together', 'ton', 'tone', 'took', 'top', 'torso',\n",
       "       'totally', 'touch', 'transition', 'tried', 'true', 'truly', 'try',\n",
       "       'trying', 'tshirt', 'tt', 'tucked', 'tummy', 'tunic', 'twice',\n",
       "       'two', 'type', 'typical', 'typically', 'u', 'underneath',\n",
       "       'unflattering', 'unfortunately', 'unique', 'unless', 'upper',\n",
       "       'use', 'used', 'usual', 'usually', 'v', 'versatile', 'version',\n",
       "       'vest', 'vibrant', 'vintage', 'w', 'waist', 'waistband', 'waisted',\n",
       "       'wait', 'want', 'wanted', 'wardrobe', 'warm', 'wash', 'washed',\n",
       "       'washing', 'wasnt', 'way', 'wear', 'wearing', 'weather', 'wedding',\n",
       "       'wedge', 'week', 'weekend', 'weight', 'weird', 'well', 'went',\n",
       "       'white', 'whole', 'wide', 'wider', 'winner', 'winter', 'wish',\n",
       "       'without', 'woman', 'wonderful', 'wont', 'wool', 'wore', 'work',\n",
       "       'worked', 'worn', 'worried', 'worth', 'would', 'wouldnt', 'wow',\n",
       "       'wrap', 'wrinkle', 'wrong', 'x', 'xd', 'xl', 'xx', 'year',\n",
       "       'yellow', 'yes', 'yet', 'youre', 'zip', 'zipper'], dtype=object)"
      ]
     },
     "execution_count": 34,
     "metadata": {},
     "output_type": "execute_result"
    }
   ],
   "source": [
    "feature_names = count_vect2.get_feature_names_out()\n",
    "feature_names"
   ]
  },
  {
   "cell_type": "code",
   "execution_count": 35,
   "metadata": {},
   "outputs": [
    {
     "data": {
      "text/html": [
       "<div>\n",
       "<style scoped>\n",
       "    .dataframe tbody tr th:only-of-type {\n",
       "        vertical-align: middle;\n",
       "    }\n",
       "\n",
       "    .dataframe tbody tr th {\n",
       "        vertical-align: top;\n",
       "    }\n",
       "\n",
       "    .dataframe thead th {\n",
       "        text-align: right;\n",
       "    }\n",
       "</style>\n",
       "<table border=\"1\" class=\"dataframe\">\n",
       "  <thead>\n",
       "    <tr style=\"text-align: right;\">\n",
       "      <th></th>\n",
       "      <th>able</th>\n",
       "      <th>absolutely</th>\n",
       "      <th>across</th>\n",
       "      <th>actually</th>\n",
       "      <th>add</th>\n",
       "      <th>added</th>\n",
       "      <th>addition</th>\n",
       "      <th>adorable</th>\n",
       "      <th>adore</th>\n",
       "      <th>ag</th>\n",
       "      <th>...</th>\n",
       "      <th>xd</th>\n",
       "      <th>xl</th>\n",
       "      <th>xx</th>\n",
       "      <th>year</th>\n",
       "      <th>yellow</th>\n",
       "      <th>yes</th>\n",
       "      <th>yet</th>\n",
       "      <th>youre</th>\n",
       "      <th>zip</th>\n",
       "      <th>zipper</th>\n",
       "    </tr>\n",
       "  </thead>\n",
       "  <tbody>\n",
       "    <tr>\n",
       "      <th>0</th>\n",
       "      <td>0</td>\n",
       "      <td>1</td>\n",
       "      <td>0</td>\n",
       "      <td>0</td>\n",
       "      <td>0</td>\n",
       "      <td>0</td>\n",
       "      <td>0</td>\n",
       "      <td>0</td>\n",
       "      <td>0</td>\n",
       "      <td>0</td>\n",
       "      <td>...</td>\n",
       "      <td>0</td>\n",
       "      <td>0</td>\n",
       "      <td>0</td>\n",
       "      <td>0</td>\n",
       "      <td>0</td>\n",
       "      <td>0</td>\n",
       "      <td>0</td>\n",
       "      <td>0</td>\n",
       "      <td>0</td>\n",
       "      <td>0</td>\n",
       "    </tr>\n",
       "    <tr>\n",
       "      <th>1</th>\n",
       "      <td>0</td>\n",
       "      <td>0</td>\n",
       "      <td>0</td>\n",
       "      <td>0</td>\n",
       "      <td>0</td>\n",
       "      <td>0</td>\n",
       "      <td>0</td>\n",
       "      <td>0</td>\n",
       "      <td>0</td>\n",
       "      <td>0</td>\n",
       "      <td>...</td>\n",
       "      <td>0</td>\n",
       "      <td>0</td>\n",
       "      <td>0</td>\n",
       "      <td>0</td>\n",
       "      <td>0</td>\n",
       "      <td>0</td>\n",
       "      <td>0</td>\n",
       "      <td>0</td>\n",
       "      <td>0</td>\n",
       "      <td>0</td>\n",
       "    </tr>\n",
       "    <tr>\n",
       "      <th>2</th>\n",
       "      <td>0</td>\n",
       "      <td>0</td>\n",
       "      <td>0</td>\n",
       "      <td>0</td>\n",
       "      <td>0</td>\n",
       "      <td>0</td>\n",
       "      <td>0</td>\n",
       "      <td>0</td>\n",
       "      <td>0</td>\n",
       "      <td>0</td>\n",
       "      <td>...</td>\n",
       "      <td>0</td>\n",
       "      <td>0</td>\n",
       "      <td>0</td>\n",
       "      <td>0</td>\n",
       "      <td>0</td>\n",
       "      <td>0</td>\n",
       "      <td>0</td>\n",
       "      <td>0</td>\n",
       "      <td>0</td>\n",
       "      <td>0</td>\n",
       "    </tr>\n",
       "    <tr>\n",
       "      <th>3</th>\n",
       "      <td>0</td>\n",
       "      <td>0</td>\n",
       "      <td>0</td>\n",
       "      <td>0</td>\n",
       "      <td>0</td>\n",
       "      <td>0</td>\n",
       "      <td>0</td>\n",
       "      <td>0</td>\n",
       "      <td>0</td>\n",
       "      <td>0</td>\n",
       "      <td>...</td>\n",
       "      <td>0</td>\n",
       "      <td>0</td>\n",
       "      <td>0</td>\n",
       "      <td>0</td>\n",
       "      <td>0</td>\n",
       "      <td>0</td>\n",
       "      <td>0</td>\n",
       "      <td>0</td>\n",
       "      <td>0</td>\n",
       "      <td>0</td>\n",
       "    </tr>\n",
       "    <tr>\n",
       "      <th>4</th>\n",
       "      <td>0</td>\n",
       "      <td>0</td>\n",
       "      <td>1</td>\n",
       "      <td>0</td>\n",
       "      <td>0</td>\n",
       "      <td>0</td>\n",
       "      <td>0</td>\n",
       "      <td>0</td>\n",
       "      <td>0</td>\n",
       "      <td>0</td>\n",
       "      <td>...</td>\n",
       "      <td>0</td>\n",
       "      <td>0</td>\n",
       "      <td>0</td>\n",
       "      <td>0</td>\n",
       "      <td>0</td>\n",
       "      <td>0</td>\n",
       "      <td>0</td>\n",
       "      <td>0</td>\n",
       "      <td>0</td>\n",
       "      <td>0</td>\n",
       "    </tr>\n",
       "    <tr>\n",
       "      <th>...</th>\n",
       "      <td>...</td>\n",
       "      <td>...</td>\n",
       "      <td>...</td>\n",
       "      <td>...</td>\n",
       "      <td>...</td>\n",
       "      <td>...</td>\n",
       "      <td>...</td>\n",
       "      <td>...</td>\n",
       "      <td>...</td>\n",
       "      <td>...</td>\n",
       "      <td>...</td>\n",
       "      <td>...</td>\n",
       "      <td>...</td>\n",
       "      <td>...</td>\n",
       "      <td>...</td>\n",
       "      <td>...</td>\n",
       "      <td>...</td>\n",
       "      <td>...</td>\n",
       "      <td>...</td>\n",
       "      <td>...</td>\n",
       "      <td>...</td>\n",
       "    </tr>\n",
       "    <tr>\n",
       "      <th>15811</th>\n",
       "      <td>0</td>\n",
       "      <td>0</td>\n",
       "      <td>0</td>\n",
       "      <td>0</td>\n",
       "      <td>0</td>\n",
       "      <td>0</td>\n",
       "      <td>0</td>\n",
       "      <td>0</td>\n",
       "      <td>0</td>\n",
       "      <td>0</td>\n",
       "      <td>...</td>\n",
       "      <td>0</td>\n",
       "      <td>0</td>\n",
       "      <td>0</td>\n",
       "      <td>0</td>\n",
       "      <td>0</td>\n",
       "      <td>0</td>\n",
       "      <td>0</td>\n",
       "      <td>0</td>\n",
       "      <td>0</td>\n",
       "      <td>0</td>\n",
       "    </tr>\n",
       "    <tr>\n",
       "      <th>15812</th>\n",
       "      <td>0</td>\n",
       "      <td>0</td>\n",
       "      <td>0</td>\n",
       "      <td>0</td>\n",
       "      <td>0</td>\n",
       "      <td>0</td>\n",
       "      <td>0</td>\n",
       "      <td>0</td>\n",
       "      <td>0</td>\n",
       "      <td>0</td>\n",
       "      <td>...</td>\n",
       "      <td>0</td>\n",
       "      <td>0</td>\n",
       "      <td>0</td>\n",
       "      <td>0</td>\n",
       "      <td>0</td>\n",
       "      <td>0</td>\n",
       "      <td>0</td>\n",
       "      <td>0</td>\n",
       "      <td>0</td>\n",
       "      <td>0</td>\n",
       "    </tr>\n",
       "    <tr>\n",
       "      <th>15813</th>\n",
       "      <td>0</td>\n",
       "      <td>0</td>\n",
       "      <td>0</td>\n",
       "      <td>0</td>\n",
       "      <td>0</td>\n",
       "      <td>0</td>\n",
       "      <td>0</td>\n",
       "      <td>0</td>\n",
       "      <td>0</td>\n",
       "      <td>0</td>\n",
       "      <td>...</td>\n",
       "      <td>0</td>\n",
       "      <td>0</td>\n",
       "      <td>0</td>\n",
       "      <td>0</td>\n",
       "      <td>0</td>\n",
       "      <td>0</td>\n",
       "      <td>0</td>\n",
       "      <td>0</td>\n",
       "      <td>0</td>\n",
       "      <td>0</td>\n",
       "    </tr>\n",
       "    <tr>\n",
       "      <th>15814</th>\n",
       "      <td>0</td>\n",
       "      <td>0</td>\n",
       "      <td>0</td>\n",
       "      <td>0</td>\n",
       "      <td>0</td>\n",
       "      <td>0</td>\n",
       "      <td>0</td>\n",
       "      <td>0</td>\n",
       "      <td>0</td>\n",
       "      <td>0</td>\n",
       "      <td>...</td>\n",
       "      <td>0</td>\n",
       "      <td>0</td>\n",
       "      <td>0</td>\n",
       "      <td>0</td>\n",
       "      <td>0</td>\n",
       "      <td>0</td>\n",
       "      <td>0</td>\n",
       "      <td>0</td>\n",
       "      <td>0</td>\n",
       "      <td>0</td>\n",
       "    </tr>\n",
       "    <tr>\n",
       "      <th>15815</th>\n",
       "      <td>0</td>\n",
       "      <td>0</td>\n",
       "      <td>0</td>\n",
       "      <td>0</td>\n",
       "      <td>0</td>\n",
       "      <td>0</td>\n",
       "      <td>0</td>\n",
       "      <td>0</td>\n",
       "      <td>0</td>\n",
       "      <td>0</td>\n",
       "      <td>...</td>\n",
       "      <td>0</td>\n",
       "      <td>0</td>\n",
       "      <td>0</td>\n",
       "      <td>0</td>\n",
       "      <td>0</td>\n",
       "      <td>0</td>\n",
       "      <td>0</td>\n",
       "      <td>0</td>\n",
       "      <td>0</td>\n",
       "      <td>0</td>\n",
       "    </tr>\n",
       "  </tbody>\n",
       "</table>\n",
       "<p>15816 rows × 800 columns</p>\n",
       "</div>"
      ],
      "text/plain": [
       "       able  absolutely  across  actually  add  added  addition  adorable  \\\n",
       "0         0           1       0         0    0      0         0         0   \n",
       "1         0           0       0         0    0      0         0         0   \n",
       "2         0           0       0         0    0      0         0         0   \n",
       "3         0           0       0         0    0      0         0         0   \n",
       "4         0           0       1         0    0      0         0         0   \n",
       "...     ...         ...     ...       ...  ...    ...       ...       ...   \n",
       "15811     0           0       0         0    0      0         0         0   \n",
       "15812     0           0       0         0    0      0         0         0   \n",
       "15813     0           0       0         0    0      0         0         0   \n",
       "15814     0           0       0         0    0      0         0         0   \n",
       "15815     0           0       0         0    0      0         0         0   \n",
       "\n",
       "       adore  ag  ...  xd  xl  xx  year  yellow  yes  yet  youre  zip  zipper  \n",
       "0          0   0  ...   0   0   0     0       0    0    0      0    0       0  \n",
       "1          0   0  ...   0   0   0     0       0    0    0      0    0       0  \n",
       "2          0   0  ...   0   0   0     0       0    0    0      0    0       0  \n",
       "3          0   0  ...   0   0   0     0       0    0    0      0    0       0  \n",
       "4          0   0  ...   0   0   0     0       0    0    0      0    0       0  \n",
       "...      ...  ..  ...  ..  ..  ..   ...     ...  ...  ...    ...  ...     ...  \n",
       "15811      0   0  ...   0   0   0     0       0    0    0      0    0       0  \n",
       "15812      0   0  ...   0   0   0     0       0    0    0      0    0       0  \n",
       "15813      0   0  ...   0   0   0     0       0    0    0      0    0       0  \n",
       "15814      0   0  ...   0   0   0     0       0    0    0      0    0       0  \n",
       "15815      0   0  ...   0   0   0     0       0    0    0      0    0       0  \n",
       "\n",
       "[15816 rows x 800 columns]"
      ]
     },
     "execution_count": 35,
     "metadata": {},
     "output_type": "execute_result"
    }
   ],
   "source": [
    "dtm1=pd.DataFrame(dtm, columns = count_vect2.get_feature_names_out())\n",
    "dtm1"
   ]
  },
  {
   "cell_type": "code",
   "execution_count": 36,
   "metadata": {},
   "outputs": [
    {
     "data": {
      "text/plain": [
       "able          296\n",
       "absolutely    638\n",
       "across        243\n",
       "actually      475\n",
       "add           442\n",
       "             ... \n",
       "yes           172\n",
       "yet           482\n",
       "youre         282\n",
       "zip           109\n",
       "zipper        278\n",
       "Length: 800, dtype: int64"
      ]
     },
     "execution_count": 36,
     "metadata": {},
     "output_type": "execute_result"
    }
   ],
   "source": [
    "dtm1.apply(sum)"
   ]
  },
  {
   "cell_type": "markdown",
   "metadata": {},
   "source": [
    "View the document term metrics for negative sentiments\n"
   ]
  },
  {
   "cell_type": "code",
   "execution_count": 37,
   "metadata": {},
   "outputs": [
    {
     "name": "stdout",
     "output_type": "stream",
     "text": [
      "['able' 'absolutely' 'across' 'actually' 'add' 'added' 'adorable' 'afraid'\n",
      " 'ago' 'agree' 'ala' 'aline' 'almost' 'along' 'already' 'also' 'although'\n",
      " 'always' 'amazing' 'amount' 'anighthing' 'ankle' 'another' 'anyone'\n",
      " 'anyway' 'apart' 'appears' 'area' 'arent' 'arm' 'armhole' 'armpit'\n",
      " 'around' 'arrived' 'assumed' 'attached' 'available' 'average' 'avoid'\n",
      " 'away' 'awesome' 'awful' 'awkward' 'b' 'back' 'backside' 'bad' 'bag'\n",
      " 'baggy' 'band' 'barely' 'based' 'basically' 'bead' 'beautiful' 'behind'\n",
      " 'belt' 'best' 'better' 'beware' 'big' 'bigger' 'bit' 'black' 'blah'\n",
      " 'blazer' 'blouse' 'blue' 'bodice' 'body' 'boob' 'boot' 'boring' 'bother'\n",
      " 'bottom' 'bought' 'box' 'boxy' 'bra' 'brand' 'breast' 'bright' 'broad'\n",
      " 'broke' 'brown' 'built' 'bulk' 'bulky' 'bummer' 'bust' 'busty' 'butt'\n",
      " 'button' 'buy' 'buying' 'c' 'calf' 'came' 'cami' 'camisole' 'cant'\n",
      " 'cardigan' 'care' 'case' 'casual' 'center' 'cheap' 'chest' 'chested'\n",
      " 'cling' 'close' 'closely' 'clothes' 'clothing' 'coat' 'cold' 'collar'\n",
      " 'color' 'colored' 'come' 'comfortable' 'comfy' 'coming' 'compared'\n",
      " 'complaint' 'completely' 'considered' 'considering' 'construction' 'cool'\n",
      " 'correctly' 'cost' 'cotton' 'could' 'couldnt' 'couple' 'coverage'\n",
      " 'covered' 'cozy' 'crazy' 'cream' 'cropped' 'crotch' 'cuff' 'cup' 'curve'\n",
      " 'curvy' 'customer' 'cut' 'cute' 'damaged' 'dark' 'darker' 'day' 'dd'\n",
      " 'deal' 'decided' 'deep' 'definitely' 'delicate' 'denim' 'depending'\n",
      " 'description' 'design' 'designer' 'despite' 'detail' 'didnt' 'different'\n",
      " 'difficult' 'dinner' 'disappointed' 'disappointing' 'disappointment'\n",
      " 'disaster' 'doesnt' 'dont' 'dot' 'drape' 'draped' 'drapey' 'dress'\n",
      " 'dressy' 'dry' 'due' 'dull' 'easily' 'edge' 'effect' 'either' 'elastic'\n",
      " 'else' 'elsewhere' 'embroidery' 'empire' 'end' 'ended' 'enormous'\n",
      " 'enough' 'entire' 'especially' 'even' 'ever' 'every' 'everyone'\n",
      " 'everything' 'exactly' 'except' 'exchanged' 'excited' 'execution'\n",
      " 'expected' 'expecting' 'expensive' 'exposed' 'extra' 'extremely' 'fabric'\n",
      " 'fact' 'fall' 'fan' 'far' 'fat' 'favorite' 'feel' 'feeling' 'fell' 'felt'\n",
      " 'feminine' 'figure' 'finally' 'find' 'fine' 'first' 'fit' 'fitted'\n",
      " 'fitting' 'flare' 'flat' 'flatter' 'flattering' 'flaw' 'flimsy' 'flow'\n",
      " 'flowy' 'fold' 'forward' 'found' 'frame' 'front' 'frumpy' 'full' 'fuller'\n",
      " 'fun' 'garment' 'gathered' 'get' 'getting' 'girl' 'give' 'given' 'go'\n",
      " 'going' 'gone' 'good' 'gorgeous' 'got' 'gotten' 'gray' 'great' 'green'\n",
      " 'grey' 'guess' 'half' 'hang' 'hanging' 'happened' 'happy' 'hard' 'hate'\n",
      " 'hated' 'head' 'heavier' 'heavy' 'height' 'held' 'help' 'helped' 'hem'\n",
      " 'hide' 'high' 'higher' 'hip' 'hit' 'hold' 'hole' 'home' 'hook' 'hope'\n",
      " 'hoping' 'horrible' 'horribly' 'hot' 'hour' 'hourglass' 'however' 'huge'\n",
      " 'hung' 'husband' 'id' 'idea' 'ill' 'im' 'image' 'imagine' 'immediately'\n",
      " 'impossible' 'impressed' 'inch' 'incredibly' 'initially' 'inside'\n",
      " 'instead' 'isnt' 'issue' 'itchy' 'item' 'ive' 'ivory' 'jacket' 'jean'\n",
      " 'jumpsuit' 'keep' 'keeping' 'kept' 'kind' 'knee' 'knew' 'knit' 'know' 'l'\n",
      " 'label' 'lace' 'lack' 'large' 'larger' 'last' 'lately' 'later' 'lay'\n",
      " 'layer' 'lb' 'le' 'least' 'leave' 'leaving' 'left' 'leg' 'legging'\n",
      " 'length' 'level' 'life' 'light' 'lightweight' 'like' 'liked' 'line'\n",
      " 'lined' 'lining' 'listened' 'literally' 'little' 'live' 'local' 'long'\n",
      " 'longer' 'look' 'looked' 'looking' 'loose' 'lose' 'lost' 'lot' 'love'\n",
      " 'loved' 'lovely' 'low' 'lower' 'made' 'maeve' 'mail' 'make' 'making'\n",
      " 'many' 'mark' 'match' 'material' 'maternity' 'may' 'maybe' 'mean'\n",
      " 'medium' 'meet' 'meh' 'mentioned' 'mess' 'messy' 'mid' 'middle' 'might'\n",
      " 'mind' 'mine' 'minute' 'misleading' 'miss' 'missing' 'mistake' 'model'\n",
      " 'mom' 'money' 'month' 'move' 'much' 'must' 'narrow' 'navy' 'near' 'neck'\n",
      " 'neckline' 'need' 'needed' 'negative' 'neither' 'never' 'new' 'next'\n",
      " 'nice' 'nicely' 'nope' 'normal' 'normally' 'nothing' 'notice' 'noticed'\n",
      " 'nude' 'odd' 'oddly' 'oh' 'ok' 'okay' 'old' 'one' 'online' 'open'\n",
      " 'opened' 'opening' 'opinion' 'orange' 'order' 'ordered' 'ordering'\n",
      " 'others' 'otherwise' 'outer' 'outside' 'overall' 'oversized' 'p'\n",
      " 'package' 'pair' 'pajama' 'pant' 'part' 'pas' 'past' 'pattern' 'people'\n",
      " 'peplum' 'perfect' 'perfectly' 'perhaps' 'person' 'petite' 'photo' 'pic'\n",
      " 'picture' 'pictured' 'piece' 'pilcro' 'pilling' 'pink' 'place' 'plain'\n",
      " 'pleat' 'plus' 'pocket' 'point' 'polyester' 'poor' 'poorly' 'portion'\n",
      " 'pound' 'pretty' 'previous' 'price' 'print' 'probably' 'problem'\n",
      " 'product' 'proportion' 'puffy' 'pull' 'pulled' 'pulling' 'purchase'\n",
      " 'purchased' 'purchasing' 'put' 'quality' 'quite' 'raise' 'ran' 'rather'\n",
      " 'read' 'reading' 'real' 'reality' 'really' 'rear' 'reason' 'receive'\n",
      " 'received' 'recommend' 'red' 'reference' 'regular' 'rest' 'retailer'\n",
      " 'return' 'returned' 'returning' 'review' 'reviewer' 'ridiculous' 'right'\n",
      " 'rise' 'robe' 'room' 'roomy' 'round' 'ruffle' 'ruined' 'run' 'sack' 'sad'\n",
      " 'sadly' 'said' 'sale' 'saw' 'say' 'saying' 'scratchy' 'seam' 'season'\n",
      " 'second' 'section' 'see' 'seem' 'seemed' 'seems' 'seen' 'seethrough'\n",
      " 'send' 'sending' 'sent' 'seriously' 'set' 'several' 'sewn' 'shame'\n",
      " 'shape' 'shaped' 'shapeless' 'shed' 'sheer' 'shipping' 'shirt' 'shopping'\n",
      " 'short' 'shorter' 'shoulder' 'show' 'showed' 'showing' 'shown' 'shrunk'\n",
      " 'side' 'similar' 'since' 'sit' 'size' 'sized' 'sizing' 'skin' 'skinny'\n",
      " 'skirt' 'sleeve' 'slightly' 'slip' 'slit' 'sloppy' 'small' 'smaller'\n",
      " 'smell' 'snag' 'snap' 'snug' 'soft' 'sold' 'solid' 'someone' 'something'\n",
      " 'sometimes' 'somewhat' 'sort' 'special' 'spot' 'stain' 'stand' 'standard'\n",
      " 'staple' 'star' 'start' 'started' 'stated' 'stay' 'stiff' 'still'\n",
      " 'stitching' 'stock' 'stomach' 'store' 'straight' 'strange' 'strap'\n",
      " 'stretch' 'stretched' 'stretchy' 'string' 'stripe' 'structure'\n",
      " 'structured' 'stunning' 'style' 'stylish' 'suit' 'summer' 'super' 'sure'\n",
      " 'surprised' 'sweater' 'sweatshirt' 'swimming' 'swimsuit' 'swing' 'tag'\n",
      " 'take' 'taken' 'tall' 'taller' 'tank' 'tee' 'tell' 'tent' 'terrible'\n",
      " 'terribly' 'texture' 'th' 'thats' 'there' 'theyre' 'thick' 'thigh' 'thin'\n",
      " 'thing' 'think' 'thinner' 'though' 'thought' 'thread' 'three' 'tie'\n",
      " 'tied' 'tight' 'time' 'tiny' 'today' 'took' 'top' 'torso' 'totally'\n",
      " 'tried' 'trouble' 'true' 'try' 'trying' 'tshirt' 'tt' 'tummy' 'tunic'\n",
      " 'two' 'type' 'typically' 'ugly' 'uncomfortable' 'underneath' 'uneven'\n",
      " 'unflattering' 'unfortunately' 'unique' 'unless' 'unwearable' 'upper'\n",
      " 'use' 'used' 'usual' 'usually' 'v' 'version' 'vest' 'vibrant' 'view'\n",
      " 'vneck' 'waist' 'waistband' 'waisted' 'waistline' 'wait' 'waited' 'want'\n",
      " 'wanted' 'wardrobe' 'warm' 'wash' 'washed' 'washing' 'wasnt' 'waste'\n",
      " 'way' 'wear' 'wearing' 'website' 'wedding' 'week' 'weight' 'weird' 'well'\n",
      " 'went' 'whater' 'whatsoever' 'white' 'whole' 'wide' 'wider' 'winter'\n",
      " 'wish' 'within' 'without' 'woman' 'wonder' 'wont' 'wool' 'word' 'wore'\n",
      " 'work' 'worked' 'worn' 'worse' 'worst' 'worth' 'would' 'wouldnt'\n",
      " 'wouldve' 'wrinkle' 'wrinkled' 'wrong' 'x' 'xd' 'xl' 'xsp' 'xx' 'year'\n",
      " 'yellow' 'yesterday' 'yet' 'youd' 'youre' 'zip' 'zipped' 'zipper']\n"
     ]
    }
   ],
   "source": [
    "dtm4=xtrain1_count.toarray()\n",
    "print(count_vect1.get_feature_names_out())"
   ]
  },
  {
   "cell_type": "code",
   "execution_count": 38,
   "metadata": {},
   "outputs": [
    {
     "data": {
      "text/html": [
       "<div>\n",
       "<style scoped>\n",
       "    .dataframe tbody tr th:only-of-type {\n",
       "        vertical-align: middle;\n",
       "    }\n",
       "\n",
       "    .dataframe tbody tr th {\n",
       "        vertical-align: top;\n",
       "    }\n",
       "\n",
       "    .dataframe thead th {\n",
       "        text-align: right;\n",
       "    }\n",
       "</style>\n",
       "<table border=\"1\" class=\"dataframe\">\n",
       "  <thead>\n",
       "    <tr style=\"text-align: right;\">\n",
       "      <th></th>\n",
       "      <th>able</th>\n",
       "      <th>absolutely</th>\n",
       "      <th>across</th>\n",
       "      <th>actually</th>\n",
       "      <th>add</th>\n",
       "      <th>added</th>\n",
       "      <th>adorable</th>\n",
       "      <th>afraid</th>\n",
       "      <th>ago</th>\n",
       "      <th>agree</th>\n",
       "      <th>...</th>\n",
       "      <th>xx</th>\n",
       "      <th>year</th>\n",
       "      <th>yellow</th>\n",
       "      <th>yesterday</th>\n",
       "      <th>yet</th>\n",
       "      <th>youd</th>\n",
       "      <th>youre</th>\n",
       "      <th>zip</th>\n",
       "      <th>zipped</th>\n",
       "      <th>zipper</th>\n",
       "    </tr>\n",
       "  </thead>\n",
       "  <tbody>\n",
       "    <tr>\n",
       "      <th>0</th>\n",
       "      <td>0</td>\n",
       "      <td>0</td>\n",
       "      <td>0</td>\n",
       "      <td>0</td>\n",
       "      <td>0</td>\n",
       "      <td>1</td>\n",
       "      <td>0</td>\n",
       "      <td>0</td>\n",
       "      <td>0</td>\n",
       "      <td>0</td>\n",
       "      <td>...</td>\n",
       "      <td>0</td>\n",
       "      <td>0</td>\n",
       "      <td>0</td>\n",
       "      <td>0</td>\n",
       "      <td>0</td>\n",
       "      <td>0</td>\n",
       "      <td>0</td>\n",
       "      <td>0</td>\n",
       "      <td>0</td>\n",
       "      <td>0</td>\n",
       "    </tr>\n",
       "    <tr>\n",
       "      <th>1</th>\n",
       "      <td>0</td>\n",
       "      <td>0</td>\n",
       "      <td>0</td>\n",
       "      <td>0</td>\n",
       "      <td>0</td>\n",
       "      <td>0</td>\n",
       "      <td>0</td>\n",
       "      <td>0</td>\n",
       "      <td>0</td>\n",
       "      <td>0</td>\n",
       "      <td>...</td>\n",
       "      <td>0</td>\n",
       "      <td>0</td>\n",
       "      <td>0</td>\n",
       "      <td>0</td>\n",
       "      <td>0</td>\n",
       "      <td>0</td>\n",
       "      <td>0</td>\n",
       "      <td>0</td>\n",
       "      <td>0</td>\n",
       "      <td>0</td>\n",
       "    </tr>\n",
       "    <tr>\n",
       "      <th>2</th>\n",
       "      <td>0</td>\n",
       "      <td>0</td>\n",
       "      <td>0</td>\n",
       "      <td>0</td>\n",
       "      <td>0</td>\n",
       "      <td>0</td>\n",
       "      <td>0</td>\n",
       "      <td>0</td>\n",
       "      <td>0</td>\n",
       "      <td>0</td>\n",
       "      <td>...</td>\n",
       "      <td>0</td>\n",
       "      <td>0</td>\n",
       "      <td>0</td>\n",
       "      <td>0</td>\n",
       "      <td>0</td>\n",
       "      <td>0</td>\n",
       "      <td>0</td>\n",
       "      <td>0</td>\n",
       "      <td>0</td>\n",
       "      <td>0</td>\n",
       "    </tr>\n",
       "    <tr>\n",
       "      <th>3</th>\n",
       "      <td>0</td>\n",
       "      <td>0</td>\n",
       "      <td>0</td>\n",
       "      <td>0</td>\n",
       "      <td>0</td>\n",
       "      <td>0</td>\n",
       "      <td>0</td>\n",
       "      <td>0</td>\n",
       "      <td>0</td>\n",
       "      <td>0</td>\n",
       "      <td>...</td>\n",
       "      <td>0</td>\n",
       "      <td>0</td>\n",
       "      <td>0</td>\n",
       "      <td>0</td>\n",
       "      <td>0</td>\n",
       "      <td>0</td>\n",
       "      <td>0</td>\n",
       "      <td>0</td>\n",
       "      <td>0</td>\n",
       "      <td>0</td>\n",
       "    </tr>\n",
       "    <tr>\n",
       "      <th>4</th>\n",
       "      <td>0</td>\n",
       "      <td>0</td>\n",
       "      <td>0</td>\n",
       "      <td>0</td>\n",
       "      <td>0</td>\n",
       "      <td>0</td>\n",
       "      <td>0</td>\n",
       "      <td>0</td>\n",
       "      <td>0</td>\n",
       "      <td>0</td>\n",
       "      <td>...</td>\n",
       "      <td>0</td>\n",
       "      <td>0</td>\n",
       "      <td>0</td>\n",
       "      <td>0</td>\n",
       "      <td>0</td>\n",
       "      <td>0</td>\n",
       "      <td>0</td>\n",
       "      <td>0</td>\n",
       "      <td>0</td>\n",
       "      <td>0</td>\n",
       "    </tr>\n",
       "    <tr>\n",
       "      <th>...</th>\n",
       "      <td>...</td>\n",
       "      <td>...</td>\n",
       "      <td>...</td>\n",
       "      <td>...</td>\n",
       "      <td>...</td>\n",
       "      <td>...</td>\n",
       "      <td>...</td>\n",
       "      <td>...</td>\n",
       "      <td>...</td>\n",
       "      <td>...</td>\n",
       "      <td>...</td>\n",
       "      <td>...</td>\n",
       "      <td>...</td>\n",
       "      <td>...</td>\n",
       "      <td>...</td>\n",
       "      <td>...</td>\n",
       "      <td>...</td>\n",
       "      <td>...</td>\n",
       "      <td>...</td>\n",
       "      <td>...</td>\n",
       "      <td>...</td>\n",
       "    </tr>\n",
       "    <tr>\n",
       "      <th>901</th>\n",
       "      <td>0</td>\n",
       "      <td>0</td>\n",
       "      <td>0</td>\n",
       "      <td>0</td>\n",
       "      <td>0</td>\n",
       "      <td>0</td>\n",
       "      <td>0</td>\n",
       "      <td>0</td>\n",
       "      <td>0</td>\n",
       "      <td>0</td>\n",
       "      <td>...</td>\n",
       "      <td>0</td>\n",
       "      <td>0</td>\n",
       "      <td>0</td>\n",
       "      <td>0</td>\n",
       "      <td>0</td>\n",
       "      <td>0</td>\n",
       "      <td>0</td>\n",
       "      <td>0</td>\n",
       "      <td>0</td>\n",
       "      <td>0</td>\n",
       "    </tr>\n",
       "    <tr>\n",
       "      <th>902</th>\n",
       "      <td>0</td>\n",
       "      <td>0</td>\n",
       "      <td>0</td>\n",
       "      <td>0</td>\n",
       "      <td>0</td>\n",
       "      <td>0</td>\n",
       "      <td>0</td>\n",
       "      <td>0</td>\n",
       "      <td>0</td>\n",
       "      <td>0</td>\n",
       "      <td>...</td>\n",
       "      <td>0</td>\n",
       "      <td>0</td>\n",
       "      <td>0</td>\n",
       "      <td>0</td>\n",
       "      <td>0</td>\n",
       "      <td>0</td>\n",
       "      <td>0</td>\n",
       "      <td>0</td>\n",
       "      <td>0</td>\n",
       "      <td>0</td>\n",
       "    </tr>\n",
       "    <tr>\n",
       "      <th>903</th>\n",
       "      <td>0</td>\n",
       "      <td>0</td>\n",
       "      <td>0</td>\n",
       "      <td>0</td>\n",
       "      <td>0</td>\n",
       "      <td>0</td>\n",
       "      <td>0</td>\n",
       "      <td>0</td>\n",
       "      <td>0</td>\n",
       "      <td>0</td>\n",
       "      <td>...</td>\n",
       "      <td>0</td>\n",
       "      <td>0</td>\n",
       "      <td>0</td>\n",
       "      <td>0</td>\n",
       "      <td>0</td>\n",
       "      <td>1</td>\n",
       "      <td>0</td>\n",
       "      <td>0</td>\n",
       "      <td>0</td>\n",
       "      <td>0</td>\n",
       "    </tr>\n",
       "    <tr>\n",
       "      <th>904</th>\n",
       "      <td>0</td>\n",
       "      <td>0</td>\n",
       "      <td>0</td>\n",
       "      <td>0</td>\n",
       "      <td>0</td>\n",
       "      <td>0</td>\n",
       "      <td>0</td>\n",
       "      <td>0</td>\n",
       "      <td>0</td>\n",
       "      <td>0</td>\n",
       "      <td>...</td>\n",
       "      <td>0</td>\n",
       "      <td>0</td>\n",
       "      <td>1</td>\n",
       "      <td>0</td>\n",
       "      <td>0</td>\n",
       "      <td>0</td>\n",
       "      <td>0</td>\n",
       "      <td>0</td>\n",
       "      <td>0</td>\n",
       "      <td>0</td>\n",
       "    </tr>\n",
       "    <tr>\n",
       "      <th>905</th>\n",
       "      <td>0</td>\n",
       "      <td>0</td>\n",
       "      <td>0</td>\n",
       "      <td>0</td>\n",
       "      <td>0</td>\n",
       "      <td>0</td>\n",
       "      <td>0</td>\n",
       "      <td>0</td>\n",
       "      <td>0</td>\n",
       "      <td>0</td>\n",
       "      <td>...</td>\n",
       "      <td>0</td>\n",
       "      <td>0</td>\n",
       "      <td>0</td>\n",
       "      <td>0</td>\n",
       "      <td>0</td>\n",
       "      <td>0</td>\n",
       "      <td>0</td>\n",
       "      <td>1</td>\n",
       "      <td>0</td>\n",
       "      <td>0</td>\n",
       "    </tr>\n",
       "  </tbody>\n",
       "</table>\n",
       "<p>906 rows × 800 columns</p>\n",
       "</div>"
      ],
      "text/plain": [
       "     able  absolutely  across  actually  add  added  adorable  afraid  ago  \\\n",
       "0       0           0       0         0    0      1         0       0    0   \n",
       "1       0           0       0         0    0      0         0       0    0   \n",
       "2       0           0       0         0    0      0         0       0    0   \n",
       "3       0           0       0         0    0      0         0       0    0   \n",
       "4       0           0       0         0    0      0         0       0    0   \n",
       "..    ...         ...     ...       ...  ...    ...       ...     ...  ...   \n",
       "901     0           0       0         0    0      0         0       0    0   \n",
       "902     0           0       0         0    0      0         0       0    0   \n",
       "903     0           0       0         0    0      0         0       0    0   \n",
       "904     0           0       0         0    0      0         0       0    0   \n",
       "905     0           0       0         0    0      0         0       0    0   \n",
       "\n",
       "     agree  ...  xx  year  yellow  yesterday  yet  youd  youre  zip  zipped  \\\n",
       "0        0  ...   0     0       0          0    0     0      0    0       0   \n",
       "1        0  ...   0     0       0          0    0     0      0    0       0   \n",
       "2        0  ...   0     0       0          0    0     0      0    0       0   \n",
       "3        0  ...   0     0       0          0    0     0      0    0       0   \n",
       "4        0  ...   0     0       0          0    0     0      0    0       0   \n",
       "..     ...  ...  ..   ...     ...        ...  ...   ...    ...  ...     ...   \n",
       "901      0  ...   0     0       0          0    0     0      0    0       0   \n",
       "902      0  ...   0     0       0          0    0     0      0    0       0   \n",
       "903      0  ...   0     0       0          0    0     1      0    0       0   \n",
       "904      0  ...   0     0       1          0    0     0      0    0       0   \n",
       "905      0  ...   0     0       0          0    0     0      0    1       0   \n",
       "\n",
       "     zipper  \n",
       "0         0  \n",
       "1         0  \n",
       "2         0  \n",
       "3         0  \n",
       "4         0  \n",
       "..      ...  \n",
       "901       0  \n",
       "902       0  \n",
       "903       0  \n",
       "904       0  \n",
       "905       0  \n",
       "\n",
       "[906 rows x 800 columns]"
      ]
     },
     "execution_count": 38,
     "metadata": {},
     "output_type": "execute_result"
    }
   ],
   "source": [
    "dtm5=pd.DataFrame(dtm4, columns = count_vect1.get_feature_names_out())\n",
    "dtm5"
   ]
  },
  {
   "cell_type": "code",
   "execution_count": 39,
   "metadata": {},
   "outputs": [
    {
     "data": {
      "text/plain": [
       "able          18\n",
       "absolutely    20\n",
       "across        14\n",
       "actually      21\n",
       "add            8\n",
       "              ..\n",
       "youd           5\n",
       "youre         10\n",
       "zip           22\n",
       "zipped         8\n",
       "zipper        34\n",
       "Length: 800, dtype: int64"
      ]
     },
     "execution_count": 39,
     "metadata": {},
     "output_type": "execute_result"
    }
   ],
   "source": [
    "dtm5.apply(sum)"
   ]
  },
  {
   "cell_type": "markdown",
   "metadata": {},
   "source": [
    "Word frequencies for positive sentiments\n"
   ]
  },
  {
   "cell_type": "code",
   "execution_count": 40,
   "metadata": {},
   "outputs": [],
   "source": [
    "word_freq = pd.DataFrame(dtm1.apply(sum).head(40), columns=['freq'])\n",
    "word_freq.sort_values('freq', ascending=False, inplace=True)"
   ]
  },
  {
   "cell_type": "code",
   "execution_count": 41,
   "metadata": {},
   "outputs": [
    {
     "data": {
      "text/html": [
       "<div>\n",
       "<style scoped>\n",
       "    .dataframe tbody tr th:only-of-type {\n",
       "        vertical-align: middle;\n",
       "    }\n",
       "\n",
       "    .dataframe tbody tr th {\n",
       "        vertical-align: top;\n",
       "    }\n",
       "\n",
       "    .dataframe thead th {\n",
       "        text-align: right;\n",
       "    }\n",
       "</style>\n",
       "<table border=\"1\" class=\"dataframe\">\n",
       "  <thead>\n",
       "    <tr style=\"text-align: right;\">\n",
       "      <th></th>\n",
       "      <th>freq</th>\n",
       "    </tr>\n",
       "  </thead>\n",
       "  <tbody>\n",
       "    <tr>\n",
       "      <th>also</th>\n",
       "      <td>1788</td>\n",
       "    </tr>\n",
       "    <tr>\n",
       "      <th>arm</th>\n",
       "      <td>1011</td>\n",
       "    </tr>\n",
       "    <tr>\n",
       "      <th>around</th>\n",
       "      <td>813</td>\n",
       "    </tr>\n",
       "    <tr>\n",
       "      <th>absolutely</th>\n",
       "      <td>638</td>\n",
       "    </tr>\n",
       "    <tr>\n",
       "      <th>adorable</th>\n",
       "      <td>580</td>\n",
       "    </tr>\n",
       "    <tr>\n",
       "      <th>another</th>\n",
       "      <td>543</td>\n",
       "    </tr>\n",
       "    <tr>\n",
       "      <th>almost</th>\n",
       "      <td>506</td>\n",
       "    </tr>\n",
       "    <tr>\n",
       "      <th>area</th>\n",
       "      <td>491</td>\n",
       "    </tr>\n",
       "    <tr>\n",
       "      <th>amazing</th>\n",
       "      <td>479</td>\n",
       "    </tr>\n",
       "    <tr>\n",
       "      <th>actually</th>\n",
       "      <td>475</td>\n",
       "    </tr>\n",
       "    <tr>\n",
       "      <th>add</th>\n",
       "      <td>442</td>\n",
       "    </tr>\n",
       "    <tr>\n",
       "      <th>always</th>\n",
       "      <td>423</td>\n",
       "    </tr>\n",
       "    <tr>\n",
       "      <th>although</th>\n",
       "      <td>302</td>\n",
       "    </tr>\n",
       "    <tr>\n",
       "      <th>able</th>\n",
       "      <td>296</td>\n",
       "    </tr>\n",
       "    <tr>\n",
       "      <th>anighthing</th>\n",
       "      <td>277</td>\n",
       "    </tr>\n",
       "    <tr>\n",
       "      <th>already</th>\n",
       "      <td>266</td>\n",
       "    </tr>\n",
       "    <tr>\n",
       "      <th>agree</th>\n",
       "      <td>251</td>\n",
       "    </tr>\n",
       "    <tr>\n",
       "      <th>across</th>\n",
       "      <td>243</td>\n",
       "    </tr>\n",
       "    <tr>\n",
       "      <th>ankle</th>\n",
       "      <td>236</td>\n",
       "    </tr>\n",
       "    <tr>\n",
       "      <th>away</th>\n",
       "      <td>234</td>\n",
       "    </tr>\n",
       "    <tr>\n",
       "      <th>arrived</th>\n",
       "      <td>220</td>\n",
       "    </tr>\n",
       "    <tr>\n",
       "      <th>available</th>\n",
       "      <td>187</td>\n",
       "    </tr>\n",
       "    <tr>\n",
       "      <th>addition</th>\n",
       "      <td>167</td>\n",
       "    </tr>\n",
       "    <tr>\n",
       "      <th>armhole</th>\n",
       "      <td>165</td>\n",
       "    </tr>\n",
       "    <tr>\n",
       "      <th>athletic</th>\n",
       "      <td>158</td>\n",
       "    </tr>\n",
       "    <tr>\n",
       "      <th>appears</th>\n",
       "      <td>147</td>\n",
       "    </tr>\n",
       "    <tr>\n",
       "      <th>appropriate</th>\n",
       "      <td>143</td>\n",
       "    </tr>\n",
       "    <tr>\n",
       "      <th>amount</th>\n",
       "      <td>136</td>\n",
       "    </tr>\n",
       "    <tr>\n",
       "      <th>added</th>\n",
       "      <td>125</td>\n",
       "    </tr>\n",
       "    <tr>\n",
       "      <th>airy</th>\n",
       "      <td>120</td>\n",
       "    </tr>\n",
       "    <tr>\n",
       "      <th>anyway</th>\n",
       "      <td>119</td>\n",
       "    </tr>\n",
       "    <tr>\n",
       "      <th>along</th>\n",
       "      <td>118</td>\n",
       "    </tr>\n",
       "    <tr>\n",
       "      <th>anyone</th>\n",
       "      <td>116</td>\n",
       "    </tr>\n",
       "    <tr>\n",
       "      <th>arent</th>\n",
       "      <td>102</td>\n",
       "    </tr>\n",
       "    <tr>\n",
       "      <th>ago</th>\n",
       "      <td>99</td>\n",
       "    </tr>\n",
       "    <tr>\n",
       "      <th>adore</th>\n",
       "      <td>90</td>\n",
       "    </tr>\n",
       "    <tr>\n",
       "      <th>ag</th>\n",
       "      <td>88</td>\n",
       "    </tr>\n",
       "    <tr>\n",
       "      <th>aline</th>\n",
       "      <td>88</td>\n",
       "    </tr>\n",
       "    <tr>\n",
       "      <th>average</th>\n",
       "      <td>85</td>\n",
       "    </tr>\n",
       "    <tr>\n",
       "      <th>attractive</th>\n",
       "      <td>82</td>\n",
       "    </tr>\n",
       "  </tbody>\n",
       "</table>\n",
       "</div>"
      ],
      "text/plain": [
       "             freq\n",
       "also         1788\n",
       "arm          1011\n",
       "around        813\n",
       "absolutely    638\n",
       "adorable      580\n",
       "another       543\n",
       "almost        506\n",
       "area          491\n",
       "amazing       479\n",
       "actually      475\n",
       "add           442\n",
       "always        423\n",
       "although      302\n",
       "able          296\n",
       "anighthing    277\n",
       "already       266\n",
       "agree         251\n",
       "across        243\n",
       "ankle         236\n",
       "away          234\n",
       "arrived       220\n",
       "available     187\n",
       "addition      167\n",
       "armhole       165\n",
       "athletic      158\n",
       "appears       147\n",
       "appropriate   143\n",
       "amount        136\n",
       "added         125\n",
       "airy          120\n",
       "anyway        119\n",
       "along         118\n",
       "anyone        116\n",
       "arent         102\n",
       "ago            99\n",
       "adore          90\n",
       "ag             88\n",
       "aline          88\n",
       "average        85\n",
       "attractive     82"
      ]
     },
     "execution_count": 41,
     "metadata": {},
     "output_type": "execute_result"
    }
   ],
   "source": [
    "word_freq"
   ]
  },
  {
   "cell_type": "code",
   "execution_count": 42,
   "metadata": {},
   "outputs": [],
   "source": [
    "word_freq_dictionary = dict(dtm1.apply(sum))"
   ]
  },
  {
   "cell_type": "code",
   "execution_count": 55,
   "metadata": {},
   "outputs": [
    {
     "data": {
      "application/vnd.plotly.v1+json": {
       "config": {
        "plotlyServerURL": "https://plot.ly"
       },
       "data": [
        {
         "alignmentgroup": "True",
         "hovertemplate": "index=%{x}<br>freq=%{y}<extra></extra>",
         "legendgroup": "also",
         "marker": {
          "color": "rgb(251,180,174)",
          "pattern": {
           "shape": ""
          }
         },
         "name": "also",
         "offsetgroup": "also",
         "orientation": "v",
         "showlegend": true,
         "textposition": "auto",
         "type": "bar",
         "x": [
          "also"
         ],
         "xaxis": "x",
         "y": [
          1788
         ],
         "yaxis": "y"
        },
        {
         "alignmentgroup": "True",
         "hovertemplate": "index=%{x}<br>freq=%{y}<extra></extra>",
         "legendgroup": "arm",
         "marker": {
          "color": "rgb(179,205,227)",
          "pattern": {
           "shape": ""
          }
         },
         "name": "arm",
         "offsetgroup": "arm",
         "orientation": "v",
         "showlegend": true,
         "textposition": "auto",
         "type": "bar",
         "x": [
          "arm"
         ],
         "xaxis": "x",
         "y": [
          1011
         ],
         "yaxis": "y"
        },
        {
         "alignmentgroup": "True",
         "hovertemplate": "index=%{x}<br>freq=%{y}<extra></extra>",
         "legendgroup": "around",
         "marker": {
          "color": "rgb(204,235,197)",
          "pattern": {
           "shape": ""
          }
         },
         "name": "around",
         "offsetgroup": "around",
         "orientation": "v",
         "showlegend": true,
         "textposition": "auto",
         "type": "bar",
         "x": [
          "around"
         ],
         "xaxis": "x",
         "y": [
          813
         ],
         "yaxis": "y"
        },
        {
         "alignmentgroup": "True",
         "hovertemplate": "index=%{x}<br>freq=%{y}<extra></extra>",
         "legendgroup": "absolutely",
         "marker": {
          "color": "rgb(222,203,228)",
          "pattern": {
           "shape": ""
          }
         },
         "name": "absolutely",
         "offsetgroup": "absolutely",
         "orientation": "v",
         "showlegend": true,
         "textposition": "auto",
         "type": "bar",
         "x": [
          "absolutely"
         ],
         "xaxis": "x",
         "y": [
          638
         ],
         "yaxis": "y"
        },
        {
         "alignmentgroup": "True",
         "hovertemplate": "index=%{x}<br>freq=%{y}<extra></extra>",
         "legendgroup": "adorable",
         "marker": {
          "color": "rgb(254,217,166)",
          "pattern": {
           "shape": ""
          }
         },
         "name": "adorable",
         "offsetgroup": "adorable",
         "orientation": "v",
         "showlegend": true,
         "textposition": "auto",
         "type": "bar",
         "x": [
          "adorable"
         ],
         "xaxis": "x",
         "y": [
          580
         ],
         "yaxis": "y"
        },
        {
         "alignmentgroup": "True",
         "hovertemplate": "index=%{x}<br>freq=%{y}<extra></extra>",
         "legendgroup": "another",
         "marker": {
          "color": "rgb(255,255,204)",
          "pattern": {
           "shape": ""
          }
         },
         "name": "another",
         "offsetgroup": "another",
         "orientation": "v",
         "showlegend": true,
         "textposition": "auto",
         "type": "bar",
         "x": [
          "another"
         ],
         "xaxis": "x",
         "y": [
          543
         ],
         "yaxis": "y"
        },
        {
         "alignmentgroup": "True",
         "hovertemplate": "index=%{x}<br>freq=%{y}<extra></extra>",
         "legendgroup": "almost",
         "marker": {
          "color": "rgb(229,216,189)",
          "pattern": {
           "shape": ""
          }
         },
         "name": "almost",
         "offsetgroup": "almost",
         "orientation": "v",
         "showlegend": true,
         "textposition": "auto",
         "type": "bar",
         "x": [
          "almost"
         ],
         "xaxis": "x",
         "y": [
          506
         ],
         "yaxis": "y"
        },
        {
         "alignmentgroup": "True",
         "hovertemplate": "index=%{x}<br>freq=%{y}<extra></extra>",
         "legendgroup": "area",
         "marker": {
          "color": "rgb(253,218,236)",
          "pattern": {
           "shape": ""
          }
         },
         "name": "area",
         "offsetgroup": "area",
         "orientation": "v",
         "showlegend": true,
         "textposition": "auto",
         "type": "bar",
         "x": [
          "area"
         ],
         "xaxis": "x",
         "y": [
          491
         ],
         "yaxis": "y"
        },
        {
         "alignmentgroup": "True",
         "hovertemplate": "index=%{x}<br>freq=%{y}<extra></extra>",
         "legendgroup": "amazing",
         "marker": {
          "color": "rgb(242,242,242)",
          "pattern": {
           "shape": ""
          }
         },
         "name": "amazing",
         "offsetgroup": "amazing",
         "orientation": "v",
         "showlegend": true,
         "textposition": "auto",
         "type": "bar",
         "x": [
          "amazing"
         ],
         "xaxis": "x",
         "y": [
          479
         ],
         "yaxis": "y"
        },
        {
         "alignmentgroup": "True",
         "hovertemplate": "index=%{x}<br>freq=%{y}<extra></extra>",
         "legendgroup": "actually",
         "marker": {
          "color": "rgb(251,180,174)",
          "pattern": {
           "shape": ""
          }
         },
         "name": "actually",
         "offsetgroup": "actually",
         "orientation": "v",
         "showlegend": true,
         "textposition": "auto",
         "type": "bar",
         "x": [
          "actually"
         ],
         "xaxis": "x",
         "y": [
          475
         ],
         "yaxis": "y"
        },
        {
         "alignmentgroup": "True",
         "hovertemplate": "index=%{x}<br>freq=%{y}<extra></extra>",
         "legendgroup": "add",
         "marker": {
          "color": "rgb(179,205,227)",
          "pattern": {
           "shape": ""
          }
         },
         "name": "add",
         "offsetgroup": "add",
         "orientation": "v",
         "showlegend": true,
         "textposition": "auto",
         "type": "bar",
         "x": [
          "add"
         ],
         "xaxis": "x",
         "y": [
          442
         ],
         "yaxis": "y"
        },
        {
         "alignmentgroup": "True",
         "hovertemplate": "index=%{x}<br>freq=%{y}<extra></extra>",
         "legendgroup": "always",
         "marker": {
          "color": "rgb(204,235,197)",
          "pattern": {
           "shape": ""
          }
         },
         "name": "always",
         "offsetgroup": "always",
         "orientation": "v",
         "showlegend": true,
         "textposition": "auto",
         "type": "bar",
         "x": [
          "always"
         ],
         "xaxis": "x",
         "y": [
          423
         ],
         "yaxis": "y"
        },
        {
         "alignmentgroup": "True",
         "hovertemplate": "index=%{x}<br>freq=%{y}<extra></extra>",
         "legendgroup": "although",
         "marker": {
          "color": "rgb(222,203,228)",
          "pattern": {
           "shape": ""
          }
         },
         "name": "although",
         "offsetgroup": "although",
         "orientation": "v",
         "showlegend": true,
         "textposition": "auto",
         "type": "bar",
         "x": [
          "although"
         ],
         "xaxis": "x",
         "y": [
          302
         ],
         "yaxis": "y"
        },
        {
         "alignmentgroup": "True",
         "hovertemplate": "index=%{x}<br>freq=%{y}<extra></extra>",
         "legendgroup": "able",
         "marker": {
          "color": "rgb(254,217,166)",
          "pattern": {
           "shape": ""
          }
         },
         "name": "able",
         "offsetgroup": "able",
         "orientation": "v",
         "showlegend": true,
         "textposition": "auto",
         "type": "bar",
         "x": [
          "able"
         ],
         "xaxis": "x",
         "y": [
          296
         ],
         "yaxis": "y"
        },
        {
         "alignmentgroup": "True",
         "hovertemplate": "index=%{x}<br>freq=%{y}<extra></extra>",
         "legendgroup": "anighthing",
         "marker": {
          "color": "rgb(255,255,204)",
          "pattern": {
           "shape": ""
          }
         },
         "name": "anighthing",
         "offsetgroup": "anighthing",
         "orientation": "v",
         "showlegend": true,
         "textposition": "auto",
         "type": "bar",
         "x": [
          "anighthing"
         ],
         "xaxis": "x",
         "y": [
          277
         ],
         "yaxis": "y"
        },
        {
         "alignmentgroup": "True",
         "hovertemplate": "index=%{x}<br>freq=%{y}<extra></extra>",
         "legendgroup": "already",
         "marker": {
          "color": "rgb(229,216,189)",
          "pattern": {
           "shape": ""
          }
         },
         "name": "already",
         "offsetgroup": "already",
         "orientation": "v",
         "showlegend": true,
         "textposition": "auto",
         "type": "bar",
         "x": [
          "already"
         ],
         "xaxis": "x",
         "y": [
          266
         ],
         "yaxis": "y"
        },
        {
         "alignmentgroup": "True",
         "hovertemplate": "index=%{x}<br>freq=%{y}<extra></extra>",
         "legendgroup": "agree",
         "marker": {
          "color": "rgb(253,218,236)",
          "pattern": {
           "shape": ""
          }
         },
         "name": "agree",
         "offsetgroup": "agree",
         "orientation": "v",
         "showlegend": true,
         "textposition": "auto",
         "type": "bar",
         "x": [
          "agree"
         ],
         "xaxis": "x",
         "y": [
          251
         ],
         "yaxis": "y"
        },
        {
         "alignmentgroup": "True",
         "hovertemplate": "index=%{x}<br>freq=%{y}<extra></extra>",
         "legendgroup": "across",
         "marker": {
          "color": "rgb(242,242,242)",
          "pattern": {
           "shape": ""
          }
         },
         "name": "across",
         "offsetgroup": "across",
         "orientation": "v",
         "showlegend": true,
         "textposition": "auto",
         "type": "bar",
         "x": [
          "across"
         ],
         "xaxis": "x",
         "y": [
          243
         ],
         "yaxis": "y"
        },
        {
         "alignmentgroup": "True",
         "hovertemplate": "index=%{x}<br>freq=%{y}<extra></extra>",
         "legendgroup": "ankle",
         "marker": {
          "color": "rgb(251,180,174)",
          "pattern": {
           "shape": ""
          }
         },
         "name": "ankle",
         "offsetgroup": "ankle",
         "orientation": "v",
         "showlegend": true,
         "textposition": "auto",
         "type": "bar",
         "x": [
          "ankle"
         ],
         "xaxis": "x",
         "y": [
          236
         ],
         "yaxis": "y"
        },
        {
         "alignmentgroup": "True",
         "hovertemplate": "index=%{x}<br>freq=%{y}<extra></extra>",
         "legendgroup": "away",
         "marker": {
          "color": "rgb(179,205,227)",
          "pattern": {
           "shape": ""
          }
         },
         "name": "away",
         "offsetgroup": "away",
         "orientation": "v",
         "showlegend": true,
         "textposition": "auto",
         "type": "bar",
         "x": [
          "away"
         ],
         "xaxis": "x",
         "y": [
          234
         ],
         "yaxis": "y"
        },
        {
         "alignmentgroup": "True",
         "hovertemplate": "index=%{x}<br>freq=%{y}<extra></extra>",
         "legendgroup": "arrived",
         "marker": {
          "color": "rgb(204,235,197)",
          "pattern": {
           "shape": ""
          }
         },
         "name": "arrived",
         "offsetgroup": "arrived",
         "orientation": "v",
         "showlegend": true,
         "textposition": "auto",
         "type": "bar",
         "x": [
          "arrived"
         ],
         "xaxis": "x",
         "y": [
          220
         ],
         "yaxis": "y"
        },
        {
         "alignmentgroup": "True",
         "hovertemplate": "index=%{x}<br>freq=%{y}<extra></extra>",
         "legendgroup": "available",
         "marker": {
          "color": "rgb(222,203,228)",
          "pattern": {
           "shape": ""
          }
         },
         "name": "available",
         "offsetgroup": "available",
         "orientation": "v",
         "showlegend": true,
         "textposition": "auto",
         "type": "bar",
         "x": [
          "available"
         ],
         "xaxis": "x",
         "y": [
          187
         ],
         "yaxis": "y"
        },
        {
         "alignmentgroup": "True",
         "hovertemplate": "index=%{x}<br>freq=%{y}<extra></extra>",
         "legendgroup": "addition",
         "marker": {
          "color": "rgb(254,217,166)",
          "pattern": {
           "shape": ""
          }
         },
         "name": "addition",
         "offsetgroup": "addition",
         "orientation": "v",
         "showlegend": true,
         "textposition": "auto",
         "type": "bar",
         "x": [
          "addition"
         ],
         "xaxis": "x",
         "y": [
          167
         ],
         "yaxis": "y"
        },
        {
         "alignmentgroup": "True",
         "hovertemplate": "index=%{x}<br>freq=%{y}<extra></extra>",
         "legendgroup": "armhole",
         "marker": {
          "color": "rgb(255,255,204)",
          "pattern": {
           "shape": ""
          }
         },
         "name": "armhole",
         "offsetgroup": "armhole",
         "orientation": "v",
         "showlegend": true,
         "textposition": "auto",
         "type": "bar",
         "x": [
          "armhole"
         ],
         "xaxis": "x",
         "y": [
          165
         ],
         "yaxis": "y"
        },
        {
         "alignmentgroup": "True",
         "hovertemplate": "index=%{x}<br>freq=%{y}<extra></extra>",
         "legendgroup": "athletic",
         "marker": {
          "color": "rgb(229,216,189)",
          "pattern": {
           "shape": ""
          }
         },
         "name": "athletic",
         "offsetgroup": "athletic",
         "orientation": "v",
         "showlegend": true,
         "textposition": "auto",
         "type": "bar",
         "x": [
          "athletic"
         ],
         "xaxis": "x",
         "y": [
          158
         ],
         "yaxis": "y"
        },
        {
         "alignmentgroup": "True",
         "hovertemplate": "index=%{x}<br>freq=%{y}<extra></extra>",
         "legendgroup": "appears",
         "marker": {
          "color": "rgb(253,218,236)",
          "pattern": {
           "shape": ""
          }
         },
         "name": "appears",
         "offsetgroup": "appears",
         "orientation": "v",
         "showlegend": true,
         "textposition": "auto",
         "type": "bar",
         "x": [
          "appears"
         ],
         "xaxis": "x",
         "y": [
          147
         ],
         "yaxis": "y"
        },
        {
         "alignmentgroup": "True",
         "hovertemplate": "index=%{x}<br>freq=%{y}<extra></extra>",
         "legendgroup": "appropriate",
         "marker": {
          "color": "rgb(242,242,242)",
          "pattern": {
           "shape": ""
          }
         },
         "name": "appropriate",
         "offsetgroup": "appropriate",
         "orientation": "v",
         "showlegend": true,
         "textposition": "auto",
         "type": "bar",
         "x": [
          "appropriate"
         ],
         "xaxis": "x",
         "y": [
          143
         ],
         "yaxis": "y"
        },
        {
         "alignmentgroup": "True",
         "hovertemplate": "index=%{x}<br>freq=%{y}<extra></extra>",
         "legendgroup": "amount",
         "marker": {
          "color": "rgb(251,180,174)",
          "pattern": {
           "shape": ""
          }
         },
         "name": "amount",
         "offsetgroup": "amount",
         "orientation": "v",
         "showlegend": true,
         "textposition": "auto",
         "type": "bar",
         "x": [
          "amount"
         ],
         "xaxis": "x",
         "y": [
          136
         ],
         "yaxis": "y"
        },
        {
         "alignmentgroup": "True",
         "hovertemplate": "index=%{x}<br>freq=%{y}<extra></extra>",
         "legendgroup": "added",
         "marker": {
          "color": "rgb(179,205,227)",
          "pattern": {
           "shape": ""
          }
         },
         "name": "added",
         "offsetgroup": "added",
         "orientation": "v",
         "showlegend": true,
         "textposition": "auto",
         "type": "bar",
         "x": [
          "added"
         ],
         "xaxis": "x",
         "y": [
          125
         ],
         "yaxis": "y"
        },
        {
         "alignmentgroup": "True",
         "hovertemplate": "index=%{x}<br>freq=%{y}<extra></extra>",
         "legendgroup": "airy",
         "marker": {
          "color": "rgb(204,235,197)",
          "pattern": {
           "shape": ""
          }
         },
         "name": "airy",
         "offsetgroup": "airy",
         "orientation": "v",
         "showlegend": true,
         "textposition": "auto",
         "type": "bar",
         "x": [
          "airy"
         ],
         "xaxis": "x",
         "y": [
          120
         ],
         "yaxis": "y"
        },
        {
         "alignmentgroup": "True",
         "hovertemplate": "index=%{x}<br>freq=%{y}<extra></extra>",
         "legendgroup": "anyway",
         "marker": {
          "color": "rgb(222,203,228)",
          "pattern": {
           "shape": ""
          }
         },
         "name": "anyway",
         "offsetgroup": "anyway",
         "orientation": "v",
         "showlegend": true,
         "textposition": "auto",
         "type": "bar",
         "x": [
          "anyway"
         ],
         "xaxis": "x",
         "y": [
          119
         ],
         "yaxis": "y"
        },
        {
         "alignmentgroup": "True",
         "hovertemplate": "index=%{x}<br>freq=%{y}<extra></extra>",
         "legendgroup": "along",
         "marker": {
          "color": "rgb(254,217,166)",
          "pattern": {
           "shape": ""
          }
         },
         "name": "along",
         "offsetgroup": "along",
         "orientation": "v",
         "showlegend": true,
         "textposition": "auto",
         "type": "bar",
         "x": [
          "along"
         ],
         "xaxis": "x",
         "y": [
          118
         ],
         "yaxis": "y"
        },
        {
         "alignmentgroup": "True",
         "hovertemplate": "index=%{x}<br>freq=%{y}<extra></extra>",
         "legendgroup": "anyone",
         "marker": {
          "color": "rgb(255,255,204)",
          "pattern": {
           "shape": ""
          }
         },
         "name": "anyone",
         "offsetgroup": "anyone",
         "orientation": "v",
         "showlegend": true,
         "textposition": "auto",
         "type": "bar",
         "x": [
          "anyone"
         ],
         "xaxis": "x",
         "y": [
          116
         ],
         "yaxis": "y"
        },
        {
         "alignmentgroup": "True",
         "hovertemplate": "index=%{x}<br>freq=%{y}<extra></extra>",
         "legendgroup": "arent",
         "marker": {
          "color": "rgb(229,216,189)",
          "pattern": {
           "shape": ""
          }
         },
         "name": "arent",
         "offsetgroup": "arent",
         "orientation": "v",
         "showlegend": true,
         "textposition": "auto",
         "type": "bar",
         "x": [
          "arent"
         ],
         "xaxis": "x",
         "y": [
          102
         ],
         "yaxis": "y"
        },
        {
         "alignmentgroup": "True",
         "hovertemplate": "index=%{x}<br>freq=%{y}<extra></extra>",
         "legendgroup": "ago",
         "marker": {
          "color": "rgb(253,218,236)",
          "pattern": {
           "shape": ""
          }
         },
         "name": "ago",
         "offsetgroup": "ago",
         "orientation": "v",
         "showlegend": true,
         "textposition": "auto",
         "type": "bar",
         "x": [
          "ago"
         ],
         "xaxis": "x",
         "y": [
          99
         ],
         "yaxis": "y"
        },
        {
         "alignmentgroup": "True",
         "hovertemplate": "index=%{x}<br>freq=%{y}<extra></extra>",
         "legendgroup": "adore",
         "marker": {
          "color": "rgb(242,242,242)",
          "pattern": {
           "shape": ""
          }
         },
         "name": "adore",
         "offsetgroup": "adore",
         "orientation": "v",
         "showlegend": true,
         "textposition": "auto",
         "type": "bar",
         "x": [
          "adore"
         ],
         "xaxis": "x",
         "y": [
          90
         ],
         "yaxis": "y"
        },
        {
         "alignmentgroup": "True",
         "hovertemplate": "index=%{x}<br>freq=%{y}<extra></extra>",
         "legendgroup": "ag",
         "marker": {
          "color": "rgb(251,180,174)",
          "pattern": {
           "shape": ""
          }
         },
         "name": "ag",
         "offsetgroup": "ag",
         "orientation": "v",
         "showlegend": true,
         "textposition": "auto",
         "type": "bar",
         "x": [
          "ag"
         ],
         "xaxis": "x",
         "y": [
          88
         ],
         "yaxis": "y"
        },
        {
         "alignmentgroup": "True",
         "hovertemplate": "index=%{x}<br>freq=%{y}<extra></extra>",
         "legendgroup": "aline",
         "marker": {
          "color": "rgb(179,205,227)",
          "pattern": {
           "shape": ""
          }
         },
         "name": "aline",
         "offsetgroup": "aline",
         "orientation": "v",
         "showlegend": true,
         "textposition": "auto",
         "type": "bar",
         "x": [
          "aline"
         ],
         "xaxis": "x",
         "y": [
          88
         ],
         "yaxis": "y"
        },
        {
         "alignmentgroup": "True",
         "hovertemplate": "index=%{x}<br>freq=%{y}<extra></extra>",
         "legendgroup": "average",
         "marker": {
          "color": "rgb(204,235,197)",
          "pattern": {
           "shape": ""
          }
         },
         "name": "average",
         "offsetgroup": "average",
         "orientation": "v",
         "showlegend": true,
         "textposition": "auto",
         "type": "bar",
         "x": [
          "average"
         ],
         "xaxis": "x",
         "y": [
          85
         ],
         "yaxis": "y"
        },
        {
         "alignmentgroup": "True",
         "hovertemplate": "index=%{x}<br>freq=%{y}<extra></extra>",
         "legendgroup": "attractive",
         "marker": {
          "color": "rgb(222,203,228)",
          "pattern": {
           "shape": ""
          }
         },
         "name": "attractive",
         "offsetgroup": "attractive",
         "orientation": "v",
         "showlegend": true,
         "textposition": "auto",
         "type": "bar",
         "x": [
          "attractive"
         ],
         "xaxis": "x",
         "y": [
          82
         ],
         "yaxis": "y"
        }
       ],
       "layout": {
        "barmode": "relative",
        "legend": {
         "title": {
          "text": "index"
         },
         "tracegroupgap": 0
        },
        "margin": {
         "t": 60
        },
        "plot_bgcolor": "rgba(0,0,0,0)",
        "showlegend": false,
        "template": {
         "data": {
          "bar": [
           {
            "error_x": {
             "color": "#2a3f5f"
            },
            "error_y": {
             "color": "#2a3f5f"
            },
            "marker": {
             "line": {
              "color": "#E5ECF6",
              "width": 0.5
             },
             "pattern": {
              "fillmode": "overlay",
              "size": 10,
              "solidity": 0.2
             }
            },
            "type": "bar"
           }
          ],
          "barpolar": [
           {
            "marker": {
             "line": {
              "color": "#E5ECF6",
              "width": 0.5
             },
             "pattern": {
              "fillmode": "overlay",
              "size": 10,
              "solidity": 0.2
             }
            },
            "type": "barpolar"
           }
          ],
          "carpet": [
           {
            "aaxis": {
             "endlinecolor": "#2a3f5f",
             "gridcolor": "white",
             "linecolor": "white",
             "minorgridcolor": "white",
             "startlinecolor": "#2a3f5f"
            },
            "baxis": {
             "endlinecolor": "#2a3f5f",
             "gridcolor": "white",
             "linecolor": "white",
             "minorgridcolor": "white",
             "startlinecolor": "#2a3f5f"
            },
            "type": "carpet"
           }
          ],
          "choropleth": [
           {
            "colorbar": {
             "outlinewidth": 0,
             "ticks": ""
            },
            "type": "choropleth"
           }
          ],
          "contour": [
           {
            "colorbar": {
             "outlinewidth": 0,
             "ticks": ""
            },
            "colorscale": [
             [
              0,
              "#0d0887"
             ],
             [
              0.1111111111111111,
              "#46039f"
             ],
             [
              0.2222222222222222,
              "#7201a8"
             ],
             [
              0.3333333333333333,
              "#9c179e"
             ],
             [
              0.4444444444444444,
              "#bd3786"
             ],
             [
              0.5555555555555556,
              "#d8576b"
             ],
             [
              0.6666666666666666,
              "#ed7953"
             ],
             [
              0.7777777777777778,
              "#fb9f3a"
             ],
             [
              0.8888888888888888,
              "#fdca26"
             ],
             [
              1,
              "#f0f921"
             ]
            ],
            "type": "contour"
           }
          ],
          "contourcarpet": [
           {
            "colorbar": {
             "outlinewidth": 0,
             "ticks": ""
            },
            "type": "contourcarpet"
           }
          ],
          "heatmap": [
           {
            "colorbar": {
             "outlinewidth": 0,
             "ticks": ""
            },
            "colorscale": [
             [
              0,
              "#0d0887"
             ],
             [
              0.1111111111111111,
              "#46039f"
             ],
             [
              0.2222222222222222,
              "#7201a8"
             ],
             [
              0.3333333333333333,
              "#9c179e"
             ],
             [
              0.4444444444444444,
              "#bd3786"
             ],
             [
              0.5555555555555556,
              "#d8576b"
             ],
             [
              0.6666666666666666,
              "#ed7953"
             ],
             [
              0.7777777777777778,
              "#fb9f3a"
             ],
             [
              0.8888888888888888,
              "#fdca26"
             ],
             [
              1,
              "#f0f921"
             ]
            ],
            "type": "heatmap"
           }
          ],
          "heatmapgl": [
           {
            "colorbar": {
             "outlinewidth": 0,
             "ticks": ""
            },
            "colorscale": [
             [
              0,
              "#0d0887"
             ],
             [
              0.1111111111111111,
              "#46039f"
             ],
             [
              0.2222222222222222,
              "#7201a8"
             ],
             [
              0.3333333333333333,
              "#9c179e"
             ],
             [
              0.4444444444444444,
              "#bd3786"
             ],
             [
              0.5555555555555556,
              "#d8576b"
             ],
             [
              0.6666666666666666,
              "#ed7953"
             ],
             [
              0.7777777777777778,
              "#fb9f3a"
             ],
             [
              0.8888888888888888,
              "#fdca26"
             ],
             [
              1,
              "#f0f921"
             ]
            ],
            "type": "heatmapgl"
           }
          ],
          "histogram": [
           {
            "marker": {
             "pattern": {
              "fillmode": "overlay",
              "size": 10,
              "solidity": 0.2
             }
            },
            "type": "histogram"
           }
          ],
          "histogram2d": [
           {
            "colorbar": {
             "outlinewidth": 0,
             "ticks": ""
            },
            "colorscale": [
             [
              0,
              "#0d0887"
             ],
             [
              0.1111111111111111,
              "#46039f"
             ],
             [
              0.2222222222222222,
              "#7201a8"
             ],
             [
              0.3333333333333333,
              "#9c179e"
             ],
             [
              0.4444444444444444,
              "#bd3786"
             ],
             [
              0.5555555555555556,
              "#d8576b"
             ],
             [
              0.6666666666666666,
              "#ed7953"
             ],
             [
              0.7777777777777778,
              "#fb9f3a"
             ],
             [
              0.8888888888888888,
              "#fdca26"
             ],
             [
              1,
              "#f0f921"
             ]
            ],
            "type": "histogram2d"
           }
          ],
          "histogram2dcontour": [
           {
            "colorbar": {
             "outlinewidth": 0,
             "ticks": ""
            },
            "colorscale": [
             [
              0,
              "#0d0887"
             ],
             [
              0.1111111111111111,
              "#46039f"
             ],
             [
              0.2222222222222222,
              "#7201a8"
             ],
             [
              0.3333333333333333,
              "#9c179e"
             ],
             [
              0.4444444444444444,
              "#bd3786"
             ],
             [
              0.5555555555555556,
              "#d8576b"
             ],
             [
              0.6666666666666666,
              "#ed7953"
             ],
             [
              0.7777777777777778,
              "#fb9f3a"
             ],
             [
              0.8888888888888888,
              "#fdca26"
             ],
             [
              1,
              "#f0f921"
             ]
            ],
            "type": "histogram2dcontour"
           }
          ],
          "mesh3d": [
           {
            "colorbar": {
             "outlinewidth": 0,
             "ticks": ""
            },
            "type": "mesh3d"
           }
          ],
          "parcoords": [
           {
            "line": {
             "colorbar": {
              "outlinewidth": 0,
              "ticks": ""
             }
            },
            "type": "parcoords"
           }
          ],
          "pie": [
           {
            "automargin": true,
            "type": "pie"
           }
          ],
          "scatter": [
           {
            "fillpattern": {
             "fillmode": "overlay",
             "size": 10,
             "solidity": 0.2
            },
            "type": "scatter"
           }
          ],
          "scatter3d": [
           {
            "line": {
             "colorbar": {
              "outlinewidth": 0,
              "ticks": ""
             }
            },
            "marker": {
             "colorbar": {
              "outlinewidth": 0,
              "ticks": ""
             }
            },
            "type": "scatter3d"
           }
          ],
          "scattercarpet": [
           {
            "marker": {
             "colorbar": {
              "outlinewidth": 0,
              "ticks": ""
             }
            },
            "type": "scattercarpet"
           }
          ],
          "scattergeo": [
           {
            "marker": {
             "colorbar": {
              "outlinewidth": 0,
              "ticks": ""
             }
            },
            "type": "scattergeo"
           }
          ],
          "scattergl": [
           {
            "marker": {
             "colorbar": {
              "outlinewidth": 0,
              "ticks": ""
             }
            },
            "type": "scattergl"
           }
          ],
          "scattermapbox": [
           {
            "marker": {
             "colorbar": {
              "outlinewidth": 0,
              "ticks": ""
             }
            },
            "type": "scattermapbox"
           }
          ],
          "scatterpolar": [
           {
            "marker": {
             "colorbar": {
              "outlinewidth": 0,
              "ticks": ""
             }
            },
            "type": "scatterpolar"
           }
          ],
          "scatterpolargl": [
           {
            "marker": {
             "colorbar": {
              "outlinewidth": 0,
              "ticks": ""
             }
            },
            "type": "scatterpolargl"
           }
          ],
          "scatterternary": [
           {
            "marker": {
             "colorbar": {
              "outlinewidth": 0,
              "ticks": ""
             }
            },
            "type": "scatterternary"
           }
          ],
          "surface": [
           {
            "colorbar": {
             "outlinewidth": 0,
             "ticks": ""
            },
            "colorscale": [
             [
              0,
              "#0d0887"
             ],
             [
              0.1111111111111111,
              "#46039f"
             ],
             [
              0.2222222222222222,
              "#7201a8"
             ],
             [
              0.3333333333333333,
              "#9c179e"
             ],
             [
              0.4444444444444444,
              "#bd3786"
             ],
             [
              0.5555555555555556,
              "#d8576b"
             ],
             [
              0.6666666666666666,
              "#ed7953"
             ],
             [
              0.7777777777777778,
              "#fb9f3a"
             ],
             [
              0.8888888888888888,
              "#fdca26"
             ],
             [
              1,
              "#f0f921"
             ]
            ],
            "type": "surface"
           }
          ],
          "table": [
           {
            "cells": {
             "fill": {
              "color": "#EBF0F8"
             },
             "line": {
              "color": "white"
             }
            },
            "header": {
             "fill": {
              "color": "#C8D4E3"
             },
             "line": {
              "color": "white"
             }
            },
            "type": "table"
           }
          ]
         },
         "layout": {
          "annotationdefaults": {
           "arrowcolor": "#2a3f5f",
           "arrowhead": 0,
           "arrowwidth": 1
          },
          "autotypenumbers": "strict",
          "coloraxis": {
           "colorbar": {
            "outlinewidth": 0,
            "ticks": ""
           }
          },
          "colorscale": {
           "diverging": [
            [
             0,
             "#8e0152"
            ],
            [
             0.1,
             "#c51b7d"
            ],
            [
             0.2,
             "#de77ae"
            ],
            [
             0.3,
             "#f1b6da"
            ],
            [
             0.4,
             "#fde0ef"
            ],
            [
             0.5,
             "#f7f7f7"
            ],
            [
             0.6,
             "#e6f5d0"
            ],
            [
             0.7,
             "#b8e186"
            ],
            [
             0.8,
             "#7fbc41"
            ],
            [
             0.9,
             "#4d9221"
            ],
            [
             1,
             "#276419"
            ]
           ],
           "sequential": [
            [
             0,
             "#0d0887"
            ],
            [
             0.1111111111111111,
             "#46039f"
            ],
            [
             0.2222222222222222,
             "#7201a8"
            ],
            [
             0.3333333333333333,
             "#9c179e"
            ],
            [
             0.4444444444444444,
             "#bd3786"
            ],
            [
             0.5555555555555556,
             "#d8576b"
            ],
            [
             0.6666666666666666,
             "#ed7953"
            ],
            [
             0.7777777777777778,
             "#fb9f3a"
            ],
            [
             0.8888888888888888,
             "#fdca26"
            ],
            [
             1,
             "#f0f921"
            ]
           ],
           "sequentialminus": [
            [
             0,
             "#0d0887"
            ],
            [
             0.1111111111111111,
             "#46039f"
            ],
            [
             0.2222222222222222,
             "#7201a8"
            ],
            [
             0.3333333333333333,
             "#9c179e"
            ],
            [
             0.4444444444444444,
             "#bd3786"
            ],
            [
             0.5555555555555556,
             "#d8576b"
            ],
            [
             0.6666666666666666,
             "#ed7953"
            ],
            [
             0.7777777777777778,
             "#fb9f3a"
            ],
            [
             0.8888888888888888,
             "#fdca26"
            ],
            [
             1,
             "#f0f921"
            ]
           ]
          },
          "colorway": [
           "#636efa",
           "#EF553B",
           "#00cc96",
           "#ab63fa",
           "#FFA15A",
           "#19d3f3",
           "#FF6692",
           "#B6E880",
           "#FF97FF",
           "#FECB52"
          ],
          "font": {
           "color": "#2a3f5f"
          },
          "geo": {
           "bgcolor": "white",
           "lakecolor": "white",
           "landcolor": "#E5ECF6",
           "showlakes": true,
           "showland": true,
           "subunitcolor": "white"
          },
          "hoverlabel": {
           "align": "left"
          },
          "hovermode": "closest",
          "mapbox": {
           "style": "light"
          },
          "paper_bgcolor": "white",
          "plot_bgcolor": "#E5ECF6",
          "polar": {
           "angularaxis": {
            "gridcolor": "white",
            "linecolor": "white",
            "ticks": ""
           },
           "bgcolor": "#E5ECF6",
           "radialaxis": {
            "gridcolor": "white",
            "linecolor": "white",
            "ticks": ""
           }
          },
          "scene": {
           "xaxis": {
            "backgroundcolor": "#E5ECF6",
            "gridcolor": "white",
            "gridwidth": 2,
            "linecolor": "white",
            "showbackground": true,
            "ticks": "",
            "zerolinecolor": "white"
           },
           "yaxis": {
            "backgroundcolor": "#E5ECF6",
            "gridcolor": "white",
            "gridwidth": 2,
            "linecolor": "white",
            "showbackground": true,
            "ticks": "",
            "zerolinecolor": "white"
           },
           "zaxis": {
            "backgroundcolor": "#E5ECF6",
            "gridcolor": "white",
            "gridwidth": 2,
            "linecolor": "white",
            "showbackground": true,
            "ticks": "",
            "zerolinecolor": "white"
           }
          },
          "shapedefaults": {
           "line": {
            "color": "#2a3f5f"
           }
          },
          "ternary": {
           "aaxis": {
            "gridcolor": "white",
            "linecolor": "white",
            "ticks": ""
           },
           "baxis": {
            "gridcolor": "white",
            "linecolor": "white",
            "ticks": ""
           },
           "bgcolor": "#E5ECF6",
           "caxis": {
            "gridcolor": "white",
            "linecolor": "white",
            "ticks": ""
           }
          },
          "title": {
           "x": 0.05
          },
          "xaxis": {
           "automargin": true,
           "gridcolor": "white",
           "linecolor": "white",
           "ticks": "",
           "title": {
            "standoff": 15
           },
           "zerolinecolor": "white",
           "zerolinewidth": 2
          },
          "yaxis": {
           "automargin": true,
           "gridcolor": "white",
           "linecolor": "white",
           "ticks": "",
           "title": {
            "standoff": 15
           },
           "zerolinecolor": "white",
           "zerolinewidth": 2
          }
         }
        },
        "title": {
         "text": "Word Frequency"
        },
        "xaxis": {
         "anchor": "y",
         "categoryarray": [
          "also",
          "arm",
          "around",
          "absolutely",
          "adorable",
          "another",
          "almost",
          "area",
          "amazing",
          "actually",
          "add",
          "always",
          "although",
          "able",
          "anighthing",
          "already",
          "agree",
          "across",
          "ankle",
          "away",
          "arrived",
          "available",
          "addition",
          "armhole",
          "athletic",
          "appears",
          "appropriate",
          "amount",
          "added",
          "airy",
          "anyway",
          "along",
          "anyone",
          "arent",
          "ago",
          "adore",
          "ag",
          "aline",
          "average",
          "attractive"
         ],
         "categoryorder": "array",
         "domain": [
          0,
          1
         ],
         "tickangle": -45,
         "tickfont": {
          "size": 10
         },
         "title": {
          "text": "Words"
         }
        },
        "yaxis": {
         "anchor": "x",
         "domain": [
          0,
          1
         ],
         "tickfont": {
          "size": 10
         },
         "title": {
          "text": "Frequency"
         }
        }
       }
      }
     },
     "metadata": {},
     "output_type": "display_data"
    }
   ],
   "source": [
    "# Sort the DataFrame by frequency in descending order\n",
    "word_freq.sort_values('freq', ascending=False, inplace=True)\n",
    "\n",
    "# Reset the index (necessary for Plotly Express)\n",
    "word_freq.reset_index(inplace=True)\n",
    "\n",
    "# Create the bar graph using Plotly Express\n",
    "fig = px.bar(word_freq, x='index', y='freq', color='index', color_discrete_sequence=px.colors.qualitative.Pastel1)\n",
    "\n",
    "# Customize the layout\n",
    "fig.update_layout(\n",
    "    title='Word Frequency',\n",
    "    xaxis_title='Words',\n",
    "    yaxis_title='Frequency',\n",
    "    xaxis=dict(tickangle=-45, tickfont=dict(size=10)),\n",
    "    yaxis=dict(tickfont=dict(size=10)),\n",
    "    plot_bgcolor='rgba(0,0,0,0)',  # Make the background transparent\n",
    "    showlegend=False  # Hide the legend\n",
    ")\n",
    "\n",
    "# Show the plot\n",
    "fig.show()"
   ]
  },
  {
   "cell_type": "markdown",
   "metadata": {},
   "source": [
    "Word frequencies for negative sentiments\n"
   ]
  },
  {
   "cell_type": "code",
   "execution_count": 44,
   "metadata": {},
   "outputs": [],
   "source": [
    "word_freq1 = pd.DataFrame(dtm5.apply(sum).head(40), columns=['freq'])\n",
    "word_freq1.sort_values('freq', ascending=False, inplace=True)"
   ]
  },
  {
   "cell_type": "code",
   "execution_count": 45,
   "metadata": {},
   "outputs": [],
   "source": [
    "word_freq_dictionary1 = dict(dtm5.apply(sum))"
   ]
  },
  {
   "cell_type": "code",
   "execution_count": 46,
   "metadata": {},
   "outputs": [
    {
     "data": {
      "text/plain": [
       "{'able': 18,\n",
       " 'absolutely': 20,\n",
       " 'across': 14,\n",
       " 'actually': 21,\n",
       " 'add': 8,\n",
       " 'added': 11,\n",
       " 'adorable': 20,\n",
       " 'afraid': 5,\n",
       " 'ago': 6,\n",
       " 'agree': 9,\n",
       " 'ala': 6,\n",
       " 'aline': 7,\n",
       " 'almost': 33,\n",
       " 'along': 11,\n",
       " 'already': 11,\n",
       " 'also': 146,\n",
       " 'although': 14,\n",
       " 'always': 23,\n",
       " 'amazing': 9,\n",
       " 'amount': 5,\n",
       " 'anighthing': 17,\n",
       " 'ankle': 12,\n",
       " 'another': 41,\n",
       " 'anyone': 12,\n",
       " 'anyway': 6,\n",
       " 'apart': 6,\n",
       " 'appears': 17,\n",
       " 'area': 53,\n",
       " 'arent': 7,\n",
       " 'arm': 79,\n",
       " 'armhole': 19,\n",
       " 'armpit': 12,\n",
       " 'around': 58,\n",
       " 'arrived': 29,\n",
       " 'assumed': 5,\n",
       " 'attached': 7,\n",
       " 'available': 12,\n",
       " 'average': 9,\n",
       " 'avoid': 6,\n",
       " 'away': 18,\n",
       " 'awesome': 6,\n",
       " 'awful': 38,\n",
       " 'awkward': 40,\n",
       " 'b': 18,\n",
       " 'back': 207,\n",
       " 'backside': 6,\n",
       " 'bad': 70,\n",
       " 'bag': 16,\n",
       " 'baggy': 16,\n",
       " 'band': 20,\n",
       " 'barely': 11,\n",
       " 'based': 9,\n",
       " 'basically': 8,\n",
       " 'bead': 7,\n",
       " 'beautiful': 71,\n",
       " 'behind': 7,\n",
       " 'belt': 14,\n",
       " 'best': 12,\n",
       " 'better': 33,\n",
       " 'beware': 8,\n",
       " 'big': 108,\n",
       " 'bigger': 11,\n",
       " 'bit': 88,\n",
       " 'black': 41,\n",
       " 'blah': 7,\n",
       " 'blazer': 5,\n",
       " 'blouse': 54,\n",
       " 'blue': 33,\n",
       " 'bodice': 7,\n",
       " 'body': 41,\n",
       " 'boob': 6,\n",
       " 'boot': 5,\n",
       " 'boring': 7,\n",
       " 'bother': 8,\n",
       " 'bottom': 48,\n",
       " 'bought': 70,\n",
       " 'box': 7,\n",
       " 'boxy': 32,\n",
       " 'bra': 38,\n",
       " 'brand': 11,\n",
       " 'breast': 7,\n",
       " 'bright': 8,\n",
       " 'broad': 8,\n",
       " 'broke': 11,\n",
       " 'brown': 6,\n",
       " 'built': 6,\n",
       " 'bulk': 8,\n",
       " 'bulky': 13,\n",
       " 'bummer': 14,\n",
       " 'bust': 49,\n",
       " 'busty': 16,\n",
       " 'butt': 12,\n",
       " 'button': 46,\n",
       " 'buy': 27,\n",
       " 'buying': 12,\n",
       " 'c': 11,\n",
       " 'calf': 8,\n",
       " 'came': 34,\n",
       " 'cami': 21,\n",
       " 'camisole': 5,\n",
       " 'cant': 32,\n",
       " 'cardigan': 12,\n",
       " 'care': 7,\n",
       " 'case': 10,\n",
       " 'casual': 15,\n",
       " 'center': 9,\n",
       " 'cheap': 56,\n",
       " 'chest': 56,\n",
       " 'chested': 7,\n",
       " 'cling': 6,\n",
       " 'close': 12,\n",
       " 'closely': 5,\n",
       " 'clothes': 8,\n",
       " 'clothing': 7,\n",
       " 'coat': 27,\n",
       " 'cold': 12,\n",
       " 'collar': 15,\n",
       " 'color': 218,\n",
       " 'colored': 5,\n",
       " 'come': 26,\n",
       " 'comfortable': 34,\n",
       " 'comfy': 22,\n",
       " 'coming': 6,\n",
       " 'compared': 9,\n",
       " 'complaint': 7,\n",
       " 'completely': 29,\n",
       " 'considered': 6,\n",
       " 'considering': 6,\n",
       " 'construction': 13,\n",
       " 'cool': 6,\n",
       " 'correctly': 5,\n",
       " 'cost': 5,\n",
       " 'cotton': 15,\n",
       " 'could': 101,\n",
       " 'couldnt': 30,\n",
       " 'couple': 5,\n",
       " 'coverage': 6,\n",
       " 'covered': 7,\n",
       " 'cozy': 8,\n",
       " 'crazy': 12,\n",
       " 'cream': 8,\n",
       " 'cropped': 14,\n",
       " 'crotch': 6,\n",
       " 'cuff': 8,\n",
       " 'cup': 19,\n",
       " 'curve': 9,\n",
       " 'curvy': 19,\n",
       " 'customer': 6,\n",
       " 'cut': 153,\n",
       " 'cute': 102,\n",
       " 'damaged': 6,\n",
       " 'dark': 8,\n",
       " 'darker': 10,\n",
       " 'day': 24,\n",
       " 'dd': 11,\n",
       " 'deal': 9,\n",
       " 'decided': 24,\n",
       " 'deep': 9,\n",
       " 'definitely': 22,\n",
       " 'delicate': 9,\n",
       " 'denim': 13,\n",
       " 'depending': 5,\n",
       " 'description': 14,\n",
       " 'design': 89,\n",
       " 'designer': 8,\n",
       " 'despite': 11,\n",
       " 'detail': 19,\n",
       " 'didnt': 151,\n",
       " 'different': 38,\n",
       " 'difficult': 12,\n",
       " 'dinner': 5,\n",
       " 'disappointed': 157,\n",
       " 'disappointing': 58,\n",
       " 'disappointment': 25,\n",
       " 'disaster': 6,\n",
       " 'doesnt': 60,\n",
       " 'dont': 83,\n",
       " 'dot': 8,\n",
       " 'drape': 16,\n",
       " 'draped': 6,\n",
       " 'drapey': 6,\n",
       " 'dress': 430,\n",
       " 'dressy': 6,\n",
       " 'dry': 11,\n",
       " 'due': 15,\n",
       " 'dull': 11,\n",
       " 'easily': 7,\n",
       " 'edge': 8,\n",
       " 'effect': 5,\n",
       " 'either': 21,\n",
       " 'elastic': 25,\n",
       " 'else': 5,\n",
       " 'elsewhere': 5,\n",
       " 'embroidery': 14,\n",
       " 'empire': 6,\n",
       " 'end': 15,\n",
       " 'ended': 13,\n",
       " 'enormous': 5,\n",
       " 'enough': 41,\n",
       " 'entire': 10,\n",
       " 'especially': 25,\n",
       " 'even': 123,\n",
       " 'ever': 19,\n",
       " 'every': 17,\n",
       " 'everyone': 5,\n",
       " 'everything': 10,\n",
       " 'exactly': 7,\n",
       " 'except': 7,\n",
       " 'exchanged': 5,\n",
       " 'excited': 34,\n",
       " 'execution': 5,\n",
       " 'expected': 38,\n",
       " 'expecting': 10,\n",
       " 'expensive': 7,\n",
       " 'exposed': 9,\n",
       " 'extra': 19,\n",
       " 'extremely': 24,\n",
       " 'fabric': 246,\n",
       " 'fact': 6,\n",
       " 'fall': 19,\n",
       " 'fan': 13,\n",
       " 'far': 8,\n",
       " 'fat': 7,\n",
       " 'favorite': 9,\n",
       " 'feel': 55,\n",
       " 'feeling': 10,\n",
       " 'fell': 12,\n",
       " 'felt': 50,\n",
       " 'feminine': 9,\n",
       " 'figure': 17,\n",
       " 'finally': 16,\n",
       " 'find': 36,\n",
       " 'fine': 26,\n",
       " 'first': 69,\n",
       " 'fit': 270,\n",
       " 'fitted': 32,\n",
       " 'fitting': 19,\n",
       " 'flare': 12,\n",
       " 'flat': 30,\n",
       " 'flatter': 7,\n",
       " 'flattering': 119,\n",
       " 'flaw': 6,\n",
       " 'flimsy': 9,\n",
       " 'flow': 10,\n",
       " 'flowy': 18,\n",
       " 'fold': 7,\n",
       " 'forward': 9,\n",
       " 'found': 39,\n",
       " 'frame': 19,\n",
       " 'front': 85,\n",
       " 'frumpy': 12,\n",
       " 'full': 24,\n",
       " 'fuller': 5,\n",
       " 'fun': 12,\n",
       " 'garment': 7,\n",
       " 'gathered': 6,\n",
       " 'get': 75,\n",
       " 'getting': 7,\n",
       " 'girl': 9,\n",
       " 'give': 33,\n",
       " 'given': 5,\n",
       " 'go': 54,\n",
       " 'going': 64,\n",
       " 'gone': 8,\n",
       " 'good': 70,\n",
       " 'gorgeous': 24,\n",
       " 'got': 70,\n",
       " 'gotten': 7,\n",
       " 'gray': 8,\n",
       " 'great': 84,\n",
       " 'green': 22,\n",
       " 'grey': 14,\n",
       " 'guess': 8,\n",
       " 'half': 10,\n",
       " 'hang': 16,\n",
       " 'hanging': 13,\n",
       " 'happened': 5,\n",
       " 'happy': 5,\n",
       " 'hard': 20,\n",
       " 'hate': 9,\n",
       " 'hated': 7,\n",
       " 'head': 8,\n",
       " 'heavier': 6,\n",
       " 'heavy': 28,\n",
       " 'height': 10,\n",
       " 'held': 5,\n",
       " 'help': 5,\n",
       " 'helped': 6,\n",
       " 'hem': 16,\n",
       " 'hide': 9,\n",
       " 'high': 63,\n",
       " 'higher': 9,\n",
       " 'hip': 55,\n",
       " 'hit': 48,\n",
       " 'hold': 6,\n",
       " 'hole': 40,\n",
       " 'home': 7,\n",
       " 'hook': 5,\n",
       " 'hope': 17,\n",
       " 'hoping': 10,\n",
       " 'horrible': 24,\n",
       " 'horribly': 6,\n",
       " 'hot': 5,\n",
       " 'hour': 13,\n",
       " 'hourglass': 9,\n",
       " 'however': 62,\n",
       " 'huge': 40,\n",
       " 'hung': 17,\n",
       " 'husband': 8,\n",
       " 'id': 16,\n",
       " 'idea': 13,\n",
       " 'ill': 24,\n",
       " 'im': 184,\n",
       " 'image': 7,\n",
       " 'imagine': 10,\n",
       " 'immediately': 18,\n",
       " 'impossible': 5,\n",
       " 'impressed': 7,\n",
       " 'inch': 21,\n",
       " 'incredibly': 15,\n",
       " 'initially': 5,\n",
       " 'inside': 11,\n",
       " 'instead': 11,\n",
       " 'isnt': 27,\n",
       " 'issue': 18,\n",
       " 'itchy': 51,\n",
       " 'item': 35,\n",
       " 'ive': 45,\n",
       " 'ivory': 12,\n",
       " 'jacket': 35,\n",
       " 'jean': 63,\n",
       " 'jumpsuit': 5,\n",
       " 'keep': 46,\n",
       " 'keeping': 17,\n",
       " 'kept': 10,\n",
       " 'kind': 28,\n",
       " 'knee': 20,\n",
       " 'knew': 7,\n",
       " 'knit': 20,\n",
       " 'know': 17,\n",
       " 'l': 20,\n",
       " 'label': 6,\n",
       " 'lace': 24,\n",
       " 'lack': 7,\n",
       " 'large': 136,\n",
       " 'larger': 21,\n",
       " 'last': 21,\n",
       " 'lately': 5,\n",
       " 'later': 6,\n",
       " 'lay': 28,\n",
       " 'layer': 15,\n",
       " 'lb': 57,\n",
       " 'le': 11,\n",
       " 'least': 12,\n",
       " 'leave': 5,\n",
       " 'leaving': 5,\n",
       " 'left': 10,\n",
       " 'leg': 32,\n",
       " 'legging': 9,\n",
       " 'length': 64,\n",
       " 'level': 6,\n",
       " 'life': 12,\n",
       " 'light': 18,\n",
       " 'lightweight': 8,\n",
       " 'like': 305,\n",
       " 'liked': 22,\n",
       " 'line': 24,\n",
       " 'lined': 12,\n",
       " 'lining': 33,\n",
       " 'listened': 5,\n",
       " 'literally': 9,\n",
       " 'little': 88,\n",
       " 'live': 7,\n",
       " 'local': 9,\n",
       " 'long': 86,\n",
       " 'longer': 22,\n",
       " 'look': 295,\n",
       " 'looked': 95,\n",
       " 'looking': 65,\n",
       " 'loose': 71,\n",
       " 'lose': 6,\n",
       " 'lost': 11,\n",
       " 'lot': 53,\n",
       " 'love': 147,\n",
       " 'loved': 58,\n",
       " 'lovely': 22,\n",
       " 'low': 47,\n",
       " 'lower': 18,\n",
       " 'made': 108,\n",
       " 'maeve': 6,\n",
       " 'mail': 16,\n",
       " 'make': 65,\n",
       " 'making': 16,\n",
       " 'many': 17,\n",
       " 'mark': 9,\n",
       " 'match': 8,\n",
       " 'material': 152,\n",
       " 'maternity': 8,\n",
       " 'may': 26,\n",
       " 'maybe': 39,\n",
       " 'mean': 6,\n",
       " 'medium': 51,\n",
       " 'meet': 6,\n",
       " 'meh': 6,\n",
       " 'mentioned': 10,\n",
       " 'mess': 13,\n",
       " 'messy': 6,\n",
       " 'mid': 10,\n",
       " 'middle': 14,\n",
       " 'might': 27,\n",
       " 'mind': 7,\n",
       " 'mine': 17,\n",
       " 'minute': 9,\n",
       " 'misleading': 11,\n",
       " 'miss': 15,\n",
       " 'missing': 12,\n",
       " 'mistake': 7,\n",
       " 'model': 82,\n",
       " 'mom': 6,\n",
       " 'money': 15,\n",
       " 'month': 13,\n",
       " 'move': 7,\n",
       " 'much': 113,\n",
       " 'must': 16,\n",
       " 'narrow': 8,\n",
       " 'navy': 11,\n",
       " 'near': 6,\n",
       " 'neck': 38,\n",
       " 'neckline': 21,\n",
       " 'need': 44,\n",
       " 'needed': 15,\n",
       " 'negative': 7,\n",
       " 'neither': 6,\n",
       " 'never': 19,\n",
       " 'new': 13,\n",
       " 'next': 6,\n",
       " 'nice': 79,\n",
       " 'nicely': 10,\n",
       " 'nope': 6,\n",
       " 'normal': 15,\n",
       " 'normally': 22,\n",
       " 'nothing': 37,\n",
       " 'notice': 6,\n",
       " 'noticed': 7,\n",
       " 'nude': 9,\n",
       " 'odd': 66,\n",
       " 'oddly': 5,\n",
       " 'oh': 7,\n",
       " 'ok': 13,\n",
       " 'okay': 11,\n",
       " 'old': 11,\n",
       " 'one': 162,\n",
       " 'online': 77,\n",
       " 'open': 11,\n",
       " 'opened': 6,\n",
       " 'opening': 9,\n",
       " 'opinion': 9,\n",
       " 'orange': 20,\n",
       " 'order': 36,\n",
       " 'ordered': 171,\n",
       " 'ordering': 11,\n",
       " 'others': 18,\n",
       " 'otherwise': 5,\n",
       " 'outer': 7,\n",
       " 'outside': 6,\n",
       " 'overall': 34,\n",
       " 'oversized': 11,\n",
       " 'p': 14,\n",
       " 'package': 11,\n",
       " 'pair': 42,\n",
       " 'pajama': 5,\n",
       " 'pant': 85,\n",
       " 'part': 30,\n",
       " 'pas': 5,\n",
       " 'past': 11,\n",
       " 'pattern': 41,\n",
       " 'people': 7,\n",
       " 'peplum': 8,\n",
       " 'perfect': 25,\n",
       " 'perfectly': 6,\n",
       " 'perhaps': 9,\n",
       " 'person': 53,\n",
       " 'petite': 100,\n",
       " 'photo': 65,\n",
       " 'pic': 9,\n",
       " 'picture': 86,\n",
       " 'pictured': 31,\n",
       " 'piece': 40,\n",
       " 'pilcro': 12,\n",
       " 'pilling': 9,\n",
       " 'pink': 15,\n",
       " 'place': 19,\n",
       " 'plain': 9,\n",
       " 'pleat': 10,\n",
       " 'plus': 9,\n",
       " 'pocket': 42,\n",
       " 'point': 19,\n",
       " 'polyester': 12,\n",
       " 'poor': 70,\n",
       " 'poorly': 7,\n",
       " 'portion': 9,\n",
       " 'pound': 12,\n",
       " 'pretty': 70,\n",
       " 'previous': 13,\n",
       " 'price': 82,\n",
       " 'print': 39,\n",
       " 'probably': 22,\n",
       " 'problem': 64,\n",
       " 'product': 22,\n",
       " 'proportion': 7,\n",
       " 'puffy': 8,\n",
       " 'pull': 21,\n",
       " 'pulled': 8,\n",
       " 'pulling': 5,\n",
       " 'purchase': 15,\n",
       " 'purchased': 52,\n",
       " 'purchasing': 7,\n",
       " 'put': 31,\n",
       " 'quality': 165,\n",
       " 'quite': 44,\n",
       " 'raise': 5,\n",
       " 'ran': 14,\n",
       " 'rather': 21,\n",
       " 'read': 17,\n",
       " 'reading': 6,\n",
       " 'real': 18,\n",
       " 'reality': 6,\n",
       " 'really': 172,\n",
       " 'rear': 5,\n",
       " 'reason': 10,\n",
       " 'receive': 9,\n",
       " 'received': 50,\n",
       " 'recommend': 32,\n",
       " 'red': 18,\n",
       " 'reference': 23,\n",
       " 'regular': 39,\n",
       " 'rest': 9,\n",
       " 'retailer': 101,\n",
       " 'return': 81,\n",
       " 'returned': 65,\n",
       " 'returning': 59,\n",
       " 'review': 63,\n",
       " 'reviewer': 33,\n",
       " 'ridiculous': 11,\n",
       " 'right': 84,\n",
       " 'rise': 16,\n",
       " 'robe': 7,\n",
       " 'room': 16,\n",
       " 'roomy': 8,\n",
       " 'round': 6,\n",
       " 'ruffle': 9,\n",
       " 'ruined': 6,\n",
       " 'run': 104,\n",
       " 'sack': 7,\n",
       " 'sad': 40,\n",
       " 'sadly': 49,\n",
       " 'said': 17,\n",
       " 'sale': 52,\n",
       " 'saw': 40,\n",
       " 'say': 34,\n",
       " 'saying': 6,\n",
       " 'scratchy': 20,\n",
       " 'seam': 40,\n",
       " 'season': 5,\n",
       " 'second': 22,\n",
       " 'section': 7,\n",
       " 'see': 75,\n",
       " 'seem': 7,\n",
       " 'seemed': 25,\n",
       " 'seems': 23,\n",
       " 'seen': 6,\n",
       " 'seethrough': 10,\n",
       " 'send': 15,\n",
       " 'sending': 6,\n",
       " 'sent': 15,\n",
       " 'seriously': 6,\n",
       " 'set': 10,\n",
       " 'several': 10,\n",
       " 'sewn': 18,\n",
       " 'shame': 7,\n",
       " 'shape': 64,\n",
       " 'shaped': 7,\n",
       " 'shapeless': 13,\n",
       " 'shed': 9,\n",
       " 'sheer': 27,\n",
       " 'shipping': 8,\n",
       " 'shirt': 147,\n",
       " 'shopping': 5,\n",
       " 'short': 97,\n",
       " 'shorter': 22,\n",
       " 'shoulder': 85,\n",
       " 'show': 22,\n",
       " 'showed': 10,\n",
       " 'showing': 9,\n",
       " 'shown': 23,\n",
       " 'shrunk': 10,\n",
       " 'side': 59,\n",
       " 'similar': 15,\n",
       " 'since': 21,\n",
       " 'sit': 7,\n",
       " 'size': 284,\n",
       " 'sized': 17,\n",
       " 'sizing': 33,\n",
       " 'skin': 14,\n",
       " 'skinny': 8,\n",
       " 'skirt': 81,\n",
       " 'sleeve': 86,\n",
       " 'slightly': 14,\n",
       " 'slip': 22,\n",
       " 'slit': 7,\n",
       " 'sloppy': 12,\n",
       " 'small': 179,\n",
       " 'smaller': 28,\n",
       " 'smell': 10,\n",
       " 'snag': 9,\n",
       " 'snap': 7,\n",
       " 'snug': 9,\n",
       " 'soft': 65,\n",
       " 'sold': 11,\n",
       " 'solid': 7,\n",
       " 'someone': 28,\n",
       " 'something': 34,\n",
       " 'sometimes': 8,\n",
       " 'somewhat': 12,\n",
       " 'sort': 8,\n",
       " 'special': 11,\n",
       " 'spot': 19,\n",
       " 'stain': 8,\n",
       " 'stand': 6,\n",
       " 'standard': 6,\n",
       " 'staple': 5,\n",
       " 'star': 6,\n",
       " 'start': 6,\n",
       " 'started': 9,\n",
       " 'stated': 6,\n",
       " 'stay': 13,\n",
       " 'stiff': 23,\n",
       " 'still': 55,\n",
       " 'stitching': 10,\n",
       " 'stock': 6,\n",
       " 'stomach': 6,\n",
       " 'store': 75,\n",
       " 'straight': 9,\n",
       " 'strange': 29,\n",
       " 'strap': 10,\n",
       " 'stretch': 20,\n",
       " 'stretched': 7,\n",
       " 'stretchy': 14,\n",
       " 'string': 8,\n",
       " 'stripe': 18,\n",
       " 'structure': 10,\n",
       " 'structured': 8,\n",
       " 'stunning': 6,\n",
       " 'style': 67,\n",
       " 'stylish': 6,\n",
       " 'suit': 18,\n",
       " 'summer': 20,\n",
       " 'super': 23,\n",
       " 'sure': 54,\n",
       " 'surprised': 7,\n",
       " 'sweater': 111,\n",
       " 'sweatshirt': 13,\n",
       " 'swimming': 9,\n",
       " 'swimsuit': 6,\n",
       " 'swing': 15,\n",
       " 'tag': 14,\n",
       " 'take': 13,\n",
       " 'taken': 5,\n",
       " 'tall': 29,\n",
       " 'taller': 10,\n",
       " 'tank': 16,\n",
       " 'tee': 16,\n",
       " 'tell': 11,\n",
       " 'tent': 11,\n",
       " 'terrible': 34,\n",
       " 'terribly': 13,\n",
       " 'texture': 8,\n",
       " 'th': 7,\n",
       " 'thats': 19,\n",
       " 'there': 11,\n",
       " 'theyre': 12,\n",
       " 'thick': 20,\n",
       " 'thigh': 18,\n",
       " 'thin': 85,\n",
       " 'thing': 41,\n",
       " 'think': 65,\n",
       " 'thinner': 5,\n",
       " 'though': 53,\n",
       " 'thought': 62,\n",
       " 'thread': 17,\n",
       " 'three': 9,\n",
       " 'tie': 19,\n",
       " 'tied': 6,\n",
       " 'tight': 96,\n",
       " 'time': 52,\n",
       " 'tiny': 9,\n",
       " 'today': 19,\n",
       " 'took': 15,\n",
       " 'top': 230,\n",
       " 'torso': 18,\n",
       " 'totally': 10,\n",
       " 'tried': 104,\n",
       " 'trouble': 8,\n",
       " 'true': 16,\n",
       " 'try': 55,\n",
       " 'trying': 13,\n",
       " 'tshirt': 15,\n",
       " 'tt': 15,\n",
       " 'tummy': 8,\n",
       " 'tunic': 17,\n",
       " 'two': 48,\n",
       " 'type': 13,\n",
       " 'typically': 15,\n",
       " 'ugly': 8,\n",
       " 'uncomfortable': 21,\n",
       " 'underneath': 28,\n",
       " 'uneven': 6,\n",
       " 'unflattering': 52,\n",
       " 'unfortunately': 82,\n",
       " 'unique': 14,\n",
       " 'unless': 14,\n",
       " 'unwearable': 6,\n",
       " 'upper': 11,\n",
       " 'use': 10,\n",
       " 'used': 17,\n",
       " 'usual': 28,\n",
       " 'usually': 66,\n",
       " 'v': 17,\n",
       " 'version': 15,\n",
       " 'vest': 12,\n",
       " 'vibrant': 9,\n",
       " 'view': 6,\n",
       " 'vneck': 7,\n",
       " 'waist': 103,\n",
       " 'waistband': 8,\n",
       " 'waisted': 11,\n",
       " 'waistline': 5,\n",
       " 'wait': 7,\n",
       " 'waited': 6,\n",
       " 'want': 31,\n",
       " 'wanted': 80,\n",
       " 'wardrobe': 7,\n",
       " 'warm': 14,\n",
       " 'wash': 33,\n",
       " 'washed': 21,\n",
       " 'washing': 12,\n",
       " 'wasnt': 51,\n",
       " 'waste': 11,\n",
       " 'way': 142,\n",
       " 'wear': 161,\n",
       " 'wearing': 47,\n",
       " 'website': 8,\n",
       " 'wedding': 6,\n",
       " 'week': 9,\n",
       " 'weight': 21,\n",
       " 'weird': 29,\n",
       " 'well': 76,\n",
       " 'went': 42,\n",
       " 'whater': 9,\n",
       " 'whatsoever': 6,\n",
       " 'white': 70,\n",
       " 'whole': 12,\n",
       " 'wide': 62,\n",
       " 'wider': 8,\n",
       " 'winter': 9,\n",
       " 'wish': 14,\n",
       " 'within': 8,\n",
       " 'without': 28,\n",
       " 'woman': 11,\n",
       " 'wonder': 7,\n",
       " 'wont': 13,\n",
       " 'wool': 17,\n",
       " 'word': 5,\n",
       " 'wore': 21,\n",
       " 'work': 86,\n",
       " 'worked': 7,\n",
       " 'worn': 31,\n",
       " 'worse': 10,\n",
       " 'worst': 16,\n",
       " 'worth': 35,\n",
       " 'would': 218,\n",
       " 'wouldnt': 33,\n",
       " 'wouldve': 12,\n",
       " 'wrinkle': 7,\n",
       " 'wrinkled': 9,\n",
       " 'wrong': 32,\n",
       " 'x': 65,\n",
       " 'xd': 60,\n",
       " 'xl': 15,\n",
       " 'xsp': 9,\n",
       " 'xx': 24,\n",
       " 'year': 23,\n",
       " 'yellow': 15,\n",
       " 'yesterday': 6,\n",
       " 'yet': 8,\n",
       " 'youd': 5,\n",
       " 'youre': 10,\n",
       " 'zip': 22,\n",
       " 'zipped': 8,\n",
       " 'zipper': 34}"
      ]
     },
     "execution_count": 46,
     "metadata": {},
     "output_type": "execute_result"
    }
   ],
   "source": [
    "word_freq_dictionary1"
   ]
  },
  {
   "cell_type": "markdown",
   "metadata": {},
   "source": [
    "For making word_clouds for postive sentiments\n"
   ]
  },
  {
   "cell_type": "code",
   "execution_count": 68,
   "metadata": {},
   "outputs": [
    {
     "data": {
      "image/png": "[encoded data removed]",
      "text/plain": [
       "<Figure size 1200x1200 with 1 Axes>"
      ]
     },
     "metadata": {},
     "output_type": "display_data"
    }
   ],
   "source": [
    "from wordcloud import WordCloud, STOPWORDS\n",
    "import matplotlib.pyplot as plt\n",
    "import random\n",
    "\n",
    "# Assuming you have already defined word_freq_dictionary\n",
    "\n",
    "# Create a custom color map\n",
    "def random_color_func(word=None, font_size=None, position=None, orientation=None, font_path=None, random_state=None):\n",
    "    h = int(360.0 * random.random())\n",
    "    s = int(100.0 * random.random())\n",
    "    l = int(50.0 + 20.0 * random.random())\n",
    "    return \"hsl({}, {}%, {}%)\".format(h, s, l)\n",
    "\n",
    "# Calculate the desired aspect ratio (width:height)\n",
    "aspect_ratio = 1  # Since the desired figsize is 12x12, the aspect ratio is 1 (square)\n",
    "\n",
    "# Calculate the width and height based on the aspect ratio and desired figsize\n",
    "figsize = (12, 12)  # Desired figsize\n",
    "width = int(figsize[0] * 100)  # Convert to inches and then to pixels\n",
    "height = int(width / aspect_ratio)\n",
    "\n",
    "# Create a WordCloud object with custom parameters\n",
    "wordcloud = WordCloud(\n",
    "    background_color='white',\n",
    "    stopwords=STOPWORDS,\n",
    "    color_func=random_color_func,\n",
    "    width=width,\n",
    "    height=height,\n",
    "    max_words=50,\n",
    "    random_state=42\n",
    ")\n",
    "\n",
    "# Generate the word cloud from word_freq_dictionary\n",
    "wordcloud = wordcloud.generate_from_frequencies(word_freq_dictionary)\n",
    "\n",
    "# Plot the word cloud\n",
    "plt.figure(figsize=figsize)\n",
    "plt.imshow(wordcloud, interpolation='bilinear')\n",
    "plt.axis('off')\n",
    "plt.show()"
   ]
  },
  {
   "cell_type": "markdown",
   "metadata": {},
   "source": [
    "For making word_clouds for negative sentiments\n"
   ]
  },
  {
   "cell_type": "code",
   "execution_count": 69,
   "metadata": {},
   "outputs": [
    {
     "data": {
      "image/png": "[encoded data removed]",
      "text/plain": [
       "<Figure size 1200x1200 with 1 Axes>"
      ]
     },
     "metadata": {},
     "output_type": "display_data"
    }
   ],
   "source": [
    "from wordcloud import WordCloud, STOPWORDS\n",
    "import matplotlib.pyplot as plt\n",
    "import random\n",
    "\n",
    "# Assuming you have already defined word_freq_dictionary\n",
    "\n",
    "# Create a custom color map\n",
    "def random_color_func(word=None, font_size=None, position=None, orientation=None, font_path=None, random_state=None):\n",
    "    h = int(360.0 * random.random())\n",
    "    s = int(100.0 * random.random())\n",
    "    l = int(50.0 + 20.0 * random.random())\n",
    "    return \"hsl({}, {}%, {}%)\".format(h, s, l)\n",
    "\n",
    "# Calculate the desired aspect ratio (width:height)\n",
    "aspect_ratio = 1  # Since the desired figsize is 12x12, the aspect ratio is 1 (square)\n",
    "\n",
    "# Calculate the width and height based on the aspect ratio and desired figsize\n",
    "figsize = (12, 12)  # Desired figsize\n",
    "width = int(figsize[0] * 100)  # Convert to inches and then to pixels\n",
    "height = int(width / aspect_ratio)\n",
    "\n",
    "# Create a WordCloud object with custom parameters\n",
    "wordcloud1 = WordCloud(\n",
    "    background_color='white',\n",
    "    stopwords=STOPWORDS,\n",
    "    color_func=random_color_func,\n",
    "    width=width,\n",
    "    height=height,\n",
    "    max_words=50,\n",
    "    random_state=42\n",
    ")\n",
    "\n",
    "# Generate the word cloud from word_freq_dictionary\n",
    "wordcloud1 = wordcloud1.generate_from_frequencies(word_freq_dictionary1)\n",
    "\n",
    "# Plot the word cloud\n",
    "plt.figure(figsize=figsize)\n",
    "plt.imshow(wordcloud1, interpolation='bilinear')\n",
    "plt.axis('off')\n",
    "plt.show()"
   ]
  },
  {
   "cell_type": "markdown",
   "metadata": {},
   "source": [
    "c. Understand sentiment among the customers on the different categories, sub categories,products by location and age group"
   ]
  },
  {
   "cell_type": "code",
   "execution_count": 51,
   "metadata": {},
   "outputs": [],
   "source": [
    "dataset['age_group'] = pd.cut(x= dataset.Customer_Age,bins=[20, 29, 39, 49,59 ,69,79,89 ,99])"
   ]
  },
  {
   "cell_type": "code",
   "execution_count": 52,
   "metadata": {},
   "outputs": [
    {
     "data": {
      "text/html": [
       "<div>\n",
       "<style scoped>\n",
       "    .dataframe tbody tr th:only-of-type {\n",
       "        vertical-align: middle;\n",
       "    }\n",
       "\n",
       "    .dataframe tbody tr th {\n",
       "        vertical-align: top;\n",
       "    }\n",
       "\n",
       "    .dataframe thead th {\n",
       "        text-align: right;\n",
       "    }\n",
       "</style>\n",
       "<table border=\"1\" class=\"dataframe\">\n",
       "  <thead>\n",
       "    <tr style=\"text-align: right;\">\n",
       "      <th></th>\n",
       "      <th>Product_ID</th>\n",
       "      <th>Category</th>\n",
       "      <th>SubCategory1</th>\n",
       "      <th>SubCategory2</th>\n",
       "      <th>Location</th>\n",
       "      <th>Channel</th>\n",
       "      <th>Customer_Age</th>\n",
       "      <th>Rating</th>\n",
       "      <th>Recommend_Flag</th>\n",
       "      <th>Merged_Review</th>\n",
       "      <th>sentiment_score</th>\n",
       "      <th>sentiment_category</th>\n",
       "      <th>age_group</th>\n",
       "    </tr>\n",
       "  </thead>\n",
       "  <tbody>\n",
       "    <tr>\n",
       "      <th>0</th>\n",
       "      <td>767</td>\n",
       "      <td>Initmates</td>\n",
       "      <td>Intimate</td>\n",
       "      <td>Intimates</td>\n",
       "      <td>Mumbai</td>\n",
       "      <td>Mobile</td>\n",
       "      <td>33</td>\n",
       "      <td>4</td>\n",
       "      <td>1</td>\n",
       "      <td>Absolutely wonderful - silky and sexy and com...</td>\n",
       "      <td>0.8932</td>\n",
       "      <td>Positive</td>\n",
       "      <td>(29, 39]</td>\n",
       "    </tr>\n",
       "    <tr>\n",
       "      <th>1</th>\n",
       "      <td>1080</td>\n",
       "      <td>General</td>\n",
       "      <td>Dresses</td>\n",
       "      <td>Dresses</td>\n",
       "      <td>Bangalore</td>\n",
       "      <td>Mobile</td>\n",
       "      <td>34</td>\n",
       "      <td>5</td>\n",
       "      <td>1</td>\n",
       "      <td>Love this dress!  it's sooo pretty.  i happen...</td>\n",
       "      <td>0.9729</td>\n",
       "      <td>Positive</td>\n",
       "      <td>(29, 39]</td>\n",
       "    </tr>\n",
       "    <tr>\n",
       "      <th>2</th>\n",
       "      <td>1077</td>\n",
       "      <td>General</td>\n",
       "      <td>Dresses</td>\n",
       "      <td>Dresses</td>\n",
       "      <td>Gurgaon</td>\n",
       "      <td>Mobile</td>\n",
       "      <td>60</td>\n",
       "      <td>3</td>\n",
       "      <td>0</td>\n",
       "      <td>Some major design flaws I had such high hopes ...</td>\n",
       "      <td>0.9427</td>\n",
       "      <td>Positive</td>\n",
       "      <td>(59, 69]</td>\n",
       "    </tr>\n",
       "    <tr>\n",
       "      <th>3</th>\n",
       "      <td>1049</td>\n",
       "      <td>General Petite</td>\n",
       "      <td>Bottoms</td>\n",
       "      <td>Pants</td>\n",
       "      <td>Chennai</td>\n",
       "      <td>Web</td>\n",
       "      <td>50</td>\n",
       "      <td>5</td>\n",
       "      <td>1</td>\n",
       "      <td>My favorite buy! I love, love, love this jumps...</td>\n",
       "      <td>0.7182</td>\n",
       "      <td>Positive</td>\n",
       "      <td>(49, 59]</td>\n",
       "    </tr>\n",
       "    <tr>\n",
       "      <th>4</th>\n",
       "      <td>847</td>\n",
       "      <td>General</td>\n",
       "      <td>Tops</td>\n",
       "      <td>Blouses</td>\n",
       "      <td>Bangalore</td>\n",
       "      <td>Web</td>\n",
       "      <td>47</td>\n",
       "      <td>5</td>\n",
       "      <td>1</td>\n",
       "      <td>Flattering shirt This shirt is very flattering...</td>\n",
       "      <td>0.9436</td>\n",
       "      <td>Positive</td>\n",
       "      <td>(39, 49]</td>\n",
       "    </tr>\n",
       "  </tbody>\n",
       "</table>\n",
       "</div>"
      ],
      "text/plain": [
       "   Product_ID        Category SubCategory1 SubCategory2   Location Channel  \\\n",
       "0         767       Initmates     Intimate    Intimates     Mumbai  Mobile   \n",
       "1        1080         General      Dresses      Dresses  Bangalore  Mobile   \n",
       "2        1077         General      Dresses      Dresses    Gurgaon  Mobile   \n",
       "3        1049  General Petite      Bottoms        Pants    Chennai     Web   \n",
       "4         847         General         Tops      Blouses  Bangalore     Web   \n",
       "\n",
       "   Customer_Age  Rating  Recommend_Flag  \\\n",
       "0            33       4               1   \n",
       "1            34       5               1   \n",
       "2            60       3               0   \n",
       "3            50       5               1   \n",
       "4            47       5               1   \n",
       "\n",
       "                                       Merged_Review  sentiment_score  \\\n",
       "0   Absolutely wonderful - silky and sexy and com...           0.8932   \n",
       "1   Love this dress!  it's sooo pretty.  i happen...           0.9729   \n",
       "2  Some major design flaws I had such high hopes ...           0.9427   \n",
       "3  My favorite buy! I love, love, love this jumps...           0.7182   \n",
       "4  Flattering shirt This shirt is very flattering...           0.9436   \n",
       "\n",
       "  sentiment_category age_group  \n",
       "0           Positive  (29, 39]  \n",
       "1           Positive  (29, 39]  \n",
       "2           Positive  (59, 69]  \n",
       "3           Positive  (49, 59]  \n",
       "4           Positive  (39, 49]  "
      ]
     },
     "execution_count": 52,
     "metadata": {},
     "output_type": "execute_result"
    }
   ],
   "source": [
    "dataset.head()"
   ]
  },
  {
   "cell_type": "code",
   "execution_count": 53,
   "metadata": {},
   "outputs": [
    {
     "data": {
      "text/html": [
       "<div>\n",
       "<style scoped>\n",
       "    .dataframe tbody tr th:only-of-type {\n",
       "        vertical-align: middle;\n",
       "    }\n",
       "\n",
       "    .dataframe tbody tr th {\n",
       "        vertical-align: top;\n",
       "    }\n",
       "\n",
       "    .dataframe thead th {\n",
       "        text-align: right;\n",
       "    }\n",
       "</style>\n",
       "<table border=\"1\" class=\"dataframe\">\n",
       "  <thead>\n",
       "    <tr style=\"text-align: right;\">\n",
       "      <th></th>\n",
       "      <th></th>\n",
       "      <th></th>\n",
       "      <th></th>\n",
       "      <th></th>\n",
       "      <th></th>\n",
       "      <th>sentiment_category</th>\n",
       "    </tr>\n",
       "    <tr>\n",
       "      <th>Location</th>\n",
       "      <th>age_group</th>\n",
       "      <th>Category</th>\n",
       "      <th>SubCategory1</th>\n",
       "      <th>SubCategory2</th>\n",
       "      <th>sentiment_category</th>\n",
       "      <th></th>\n",
       "    </tr>\n",
       "  </thead>\n",
       "  <tbody>\n",
       "    <tr>\n",
       "      <th rowspan=\"5\" valign=\"top\">Bangalore</th>\n",
       "      <th rowspan=\"5\" valign=\"top\">(20, 29]</th>\n",
       "      <th rowspan=\"5\" valign=\"top\">General</th>\n",
       "      <th rowspan=\"5\" valign=\"top\">Bottoms</th>\n",
       "      <th rowspan=\"3\" valign=\"top\">Blouses</th>\n",
       "      <th>Negative</th>\n",
       "      <td>0</td>\n",
       "    </tr>\n",
       "    <tr>\n",
       "      <th>Neutral</th>\n",
       "      <td>0</td>\n",
       "    </tr>\n",
       "    <tr>\n",
       "      <th>Positive</th>\n",
       "      <td>0</td>\n",
       "    </tr>\n",
       "    <tr>\n",
       "      <th rowspan=\"2\" valign=\"top\">Casual bottoms</th>\n",
       "      <th>Negative</th>\n",
       "      <td>0</td>\n",
       "    </tr>\n",
       "    <tr>\n",
       "      <th>Neutral</th>\n",
       "      <td>0</td>\n",
       "    </tr>\n",
       "    <tr>\n",
       "      <th>...</th>\n",
       "      <th>...</th>\n",
       "      <th>...</th>\n",
       "      <th>...</th>\n",
       "      <th>...</th>\n",
       "      <th>...</th>\n",
       "      <td>...</td>\n",
       "    </tr>\n",
       "    <tr>\n",
       "      <th rowspan=\"5\" valign=\"top\">Mumbai</th>\n",
       "      <th rowspan=\"5\" valign=\"top\">(89, 99]</th>\n",
       "      <th rowspan=\"5\" valign=\"top\">Initmates</th>\n",
       "      <th rowspan=\"5\" valign=\"top\">Trend</th>\n",
       "      <th rowspan=\"2\" valign=\"top\">Swim</th>\n",
       "      <th>Neutral</th>\n",
       "      <td>0</td>\n",
       "    </tr>\n",
       "    <tr>\n",
       "      <th>Positive</th>\n",
       "      <td>0</td>\n",
       "    </tr>\n",
       "    <tr>\n",
       "      <th rowspan=\"3\" valign=\"top\">Trend</th>\n",
       "      <th>Negative</th>\n",
       "      <td>0</td>\n",
       "    </tr>\n",
       "    <tr>\n",
       "      <th>Neutral</th>\n",
       "      <td>0</td>\n",
       "    </tr>\n",
       "    <tr>\n",
       "      <th>Positive</th>\n",
       "      <td>0</td>\n",
       "    </tr>\n",
       "  </tbody>\n",
       "</table>\n",
       "<p>34560 rows × 1 columns</p>\n",
       "</div>"
      ],
      "text/plain": [
       "                                                                              sentiment_category\n",
       "Location  age_group Category  SubCategory1 SubCategory2   sentiment_category                    \n",
       "Bangalore (20, 29]  General   Bottoms      Blouses        Negative                             0\n",
       "                                                          Neutral                              0\n",
       "                                                          Positive                             0\n",
       "                                           Casual bottoms Negative                             0\n",
       "                                                          Neutral                              0\n",
       "...                                                                                          ...\n",
       "Mumbai    (89, 99]  Initmates Trend        Swim           Neutral                              0\n",
       "                                                          Positive                             0\n",
       "                                           Trend          Negative                             0\n",
       "                                                          Neutral                              0\n",
       "                                                          Positive                             0\n",
       "\n",
       "[34560 rows x 1 columns]"
      ]
     },
     "execution_count": 53,
     "metadata": {},
     "output_type": "execute_result"
    }
   ],
   "source": [
    "dataset.groupby(['Location', 'age_group','Category','SubCategory1','SubCategory2',\"sentiment_category\" ]).agg({'sentiment_category': 'count'})\n"
   ]
  }
 ],
 "metadata": {
  "kernelspec": {
   "display_name": "Python 3",
   "language": "python",
   "name": "python3"
  },
  "language_info": {
   "codemirror_mode": {
    "name": "ipython",
    "version": 3
   },
   "file_extension": ".py",
   "mimetype": "text/x-python",
   "name": "python",
   "nbconvert_exporter": "python",
   "pygments_lexer": "ipython3",
   "version": "3.11.1"
  },
  "orig_nbformat": 4
 },
 "nbformat": 4,
 "nbformat_minor": 2
}
