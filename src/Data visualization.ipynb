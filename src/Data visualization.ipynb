{
 "cells": [
  {
   "cell_type": "code",
   "execution_count": 1,
   "metadata": {},
   "outputs": [],
   "source": [
    "import matplotlib.pyplot as plt\n",
    "import matplotlib.gridspec as gridspec \n",
    "import seaborn as sns\n",
    "from wordcloud import WordCloud ,STOPWORDS"
   ]
  },
  {
   "cell_type": "code",
   "execution_count": null,
   "metadata": {},
   "outputs": [],
   "source": [
    "#Showing as graph\n",
    "plt.figure(figsize=(12, 6))\n",
    "sns.countplot(x='Category', data=dataset)\n",
    "plt.title('Distribution of Products across Categories')\n",
    "plt.xlabel('Category')\n",
    "plt.ylabel('Count')\n",
    "plt.xticks(rotation=45)\n",
    "plt.show()\n",
    "\n",
    "plt.figure(figsize=(12, 6))\n",
    "sns.countplot(x='SubCategory1', data=dataset)\n",
    "plt.title('Distribution of Products across Subcategory1')\n",
    "plt.xlabel('SubCategory1')\n",
    "plt.ylabel('Count')\n",
    "plt.xticks(rotation=45)\n",
    "plt.show()\n",
    "\n",
    "plt.figure(figsize=(12, 6))\n",
    "sns.countplot(x='SubCategory2', data=dataset)\n",
    "plt.title('Distribution of Products across SubCategory2')\n",
    "plt.xlabel('SubCategory2')\n",
    "plt.ylabel('Count')\n",
    "plt.xticks(rotation=45)\n",
    "plt.show()\n",
    "\n",
    "plt.figure(figsize=(12, 6))\n",
    "sns.countplot(x='Location', data=dataset)\n",
    "plt.title('Distribution of Products across Locations')\n",
    "plt.xlabel('Location')\n",
    "plt.ylabel('Count')\n",
    "plt.xticks(rotation=45)\n",
    "plt.show()\n",
    "\n",
    "plt.figure(figsize=(8, 6))\n",
    "sns.countplot(x='Channel', data=dataset)\n",
    "plt.title('Distribution of Products across Channels')\n",
    "plt.xlabel('Channel')\n",
    "plt.ylabel('Count')\n",
    "plt.show()\n",
    "\n",
    "plt.figure(figsize=(10, 6))\n",
    "sns.histplot(dataset['Customer_Age'], bins=20, kde=True)\n",
    "plt.title('Distribution of Customer Age')\n",
    "plt.xlabel('Customer_Age')\n",
    "plt.ylabel('Count')\n",
    "plt.show()\n",
    "\n",
    "#Some visulallizatoin of data using sns.countplot, sns.dist plots\n",
    "#Create Bar Chart to know the number of customers who gave the recommend flag (1 or 0) for products\n",
    "#Recommend flag = 1 ,it means the product is good \n",
    "#Recommend flag = 0 ,it means the product is not good \n",
    "\n",
    "plt.figure(figsize=(6, 4))\n",
    "sns.countplot(x='Recommend_Flag', data=dataset)\n",
    "plt.title('Distribution of Recommendation Flags')\n",
    "plt.xlabel('Recommend_Flag')\n",
    "plt.ylabel('Count')\n",
    "plt.show()\n",
    "\n",
    "plt.figure(figsize=(8, 6))\n",
    "sns.countplot(x='Rating', data=dataset)\n",
    "plt.title('Distribution of Ratings')\n",
    "plt.xlabel('Rating')\n",
    "plt.ylabel('Count')\n",
    "plt.show()"
   ]
  },
  {
   "cell_type": "code",
   "execution_count": null,
   "metadata": {},
   "outputs": [],
   "source": []
  }
 ],
 "metadata": {
  "kernelspec": {
   "display_name": "Python 3",
   "language": "python",
   "name": "python3"
  },
  "language_info": {
   "codemirror_mode": {
    "name": "ipython",
    "version": 3
   },
   "file_extension": ".py",
   "mimetype": "text/x-python",
   "name": "python",
   "nbconvert_exporter": "python",
   "pygments_lexer": "ipython3",
   "version": "3.11.1"
  },
  "orig_nbformat": 4
 },
 "nbformat": 4,
 "nbformat_minor": 2
}
